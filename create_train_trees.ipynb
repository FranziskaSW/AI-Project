{
  "nbformat": 4,
  "nbformat_minor": 0,
  "metadata": {
    "colab": {
      "name": "create_train_trees.ipynb",
      "version": "0.3.2",
      "provenance": [],
      "collapsed_sections": [],
      "toc_visible": true
    },
    "kernelspec": {
      "name": "python3",
      "display_name": "Python 3"
    },
    "accelerator": "GPU"
  },
  "cells": [
    {
      "cell_type": "markdown",
      "metadata": {
        "id": "cRGsXgNtZ6JE",
        "colab_type": "text"
      },
      "source": [
        "##Connect to cloud"
      ]
    },
    {
      "cell_type": "code",
      "metadata": {
        "id": "8xnAj6GVY4i_",
        "colab_type": "code",
        "outputId": "87d014a3-79c7-4366-9afd-9d70c8a91a2c",
        "colab": {
          "base_uri": "https://localhost:8080/",
          "height": 122
        }
      },
      "source": [
        "from google.colab import drive\n",
        "drive.mount('/content/gdrive')"
      ],
      "execution_count": 1,
      "outputs": [
        {
          "output_type": "stream",
          "text": [
            "Go to this URL in a browser: https://accounts.google.com/o/oauth2/auth?client_id=947318989803-6bn6qk8qdgf4n4g3pfee6491hc0brc4i.apps.googleusercontent.com&redirect_uri=urn%3Aietf%3Awg%3Aoauth%3A2.0%3Aoob&scope=email%20https%3A%2F%2Fwww.googleapis.com%2Fauth%2Fdocs.test%20https%3A%2F%2Fwww.googleapis.com%2Fauth%2Fdrive%20https%3A%2F%2Fwww.googleapis.com%2Fauth%2Fdrive.photos.readonly%20https%3A%2F%2Fwww.googleapis.com%2Fauth%2Fpeopleapi.readonly&response_type=code\n",
            "\n",
            "Enter your authorization code:\n",
            "··········\n",
            "Mounted at /content/gdrive\n"
          ],
          "name": "stdout"
        }
      ]
    },
    {
      "cell_type": "markdown",
      "metadata": {
        "id": "OR880mLsiBnS",
        "colab_type": "text"
      },
      "source": [
        "##Trees"
      ]
    },
    {
      "cell_type": "code",
      "metadata": {
        "id": "ehXMpzDAC-hQ",
        "colab_type": "code",
        "outputId": "e8ed1378-a380-48b7-d26c-d5f63f1df05f",
        "colab": {
          "resources": {
            "http://localhost:8080/nbextensions/google.colab/files.js": {
              "data": "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",
              "ok": true,
              "headers": [
                [
                  "content-type",
                  "application/javascript"
                ]
              ],
              "status": 200,
              "status_text": ""
            }
          },
          "base_uri": "https://localhost:8080/",
          "height": 111
        }
      },
      "source": [
        "from google.colab import files\n",
        "files.upload() "
      ],
      "execution_count": 2,
      "outputs": [
        {
          "output_type": "display_data",
          "data": {
            "text/html": [
              "\n",
              "     <input type=\"file\" id=\"files-a85a2c88-23ef-47c9-9474-552a71a50818\" name=\"files[]\" multiple disabled />\n",
              "     <output id=\"result-a85a2c88-23ef-47c9-9474-552a71a50818\">\n",
              "      Upload widget is only available when the cell has been executed in the\n",
              "      current browser session. Please rerun this cell to enable.\n",
              "      </output>\n",
              "      <script src=\"/nbextensions/google.colab/files.js\"></script> "
            ],
            "text/plain": [
              "<IPython.core.display.HTML object>"
            ]
          },
          "metadata": {
            "tags": []
          }
        },
        {
          "output_type": "stream",
          "text": [
            "Saving tree.py to tree.py\n"
          ],
          "name": "stdout"
        },
        {
          "output_type": "execute_result",
          "data": {
            "text/plain": [
              "{'tree.py': b'import copy\\r\\nimport pandas as pd\\r\\nimport networkx as nx\\r\\nimport numpy as np\\r\\nimport matplotlib.pyplot as plt\\r\\nimport pickle\\r\\nimport os\\r\\n\\r\\nGOAL = \"demand\"\\r\\n# GOAL = \"Goal\"\\r\\n\\r\\n\\r\\nclass Node:\\r\\n    def __init__(self, data, choices=None, depth=0):\\r\\n        self.data = data\\r\\n        self.choices = choices\\r\\n        self.children = []\\r\\n        self.depth = depth\\r\\n\\r\\n    def __del__(self):\\r\\n        for child in self.children:\\r\\n            del child\\r\\n        del self.children\\r\\n\\r\\n    def add_children(self, children):\\r\\n        self.children = children\\r\\n\\r\\n\\r\\nclass Tree:\\r\\n    def __init__(self, records_df, limit=0, attributes=None, goal=GOAL, name=\"\"):\\r\\n        \"\"\"creates the tree based on a dictionary of attributes and options\"\"\"\\r\\n        self.limit = limit\\r\\n        self.goal = goal\\r\\n        self.name = name\\r\\n        if records_df is not None:\\r\\n            self.rows = len(records_df)\\r\\n            self.root = self.create_tree(records_df, attributes)\\r\\n        else:\\r\\n            self.rows = 0\\r\\n            self.root = Node(None)\\r\\n\\r\\n    def __del__(self):\\r\\n        del self.root\\r\\n\\r\\n    def create_tree(self, records_df, attributes=None):\\r\\n        \"\"\"creates the tree and returns the root\"\"\"\\r\\n        if not attributes:\\r\\n            attributes = list(records_df.columns)\\r\\n            attributes.remove(self.goal)\\r\\n        return self.recursive_build(records_df, attributes, [], 0)\\r\\n\\r\\n    def recursive_build(self, records_df, attributes, path, depth):\\r\\n        \"\"\"Recursive helper to build the tree\"\"\"\\r\\n        if self.limit and self.limit <= depth:\\r\\n            attribute = None\\r\\n        else:\\r\\n            attribute = self.get_next_attribute(attributes, records_df)\\r\\n            while attribute and len(records_df[attribute].value_counts()) == 1:\\r\\n                attributes.remove(attribute)\\r\\n                attribute = self.get_next_attribute(attributes, records_df)\\r\\n        if not attribute:\\r\\n            attribute = self.goal\\r\\n        if attribute != self.goal:\\r\\n            attributes.remove(attribute)\\r\\n            if not path:\\r\\n                node = Node(attribute, depth=depth)\\r\\n            else:\\r\\n                node = Node(attribute, path, depth)\\r\\n            children = []\\r\\n            for val in records_df[attribute].unique():\\r\\n                new_data = records_df[records_df[attribute] == val]\\r\\n                new_path = copy.deepcopy(path + [(attribute, val)])\\r\\n                records_df = records_df[records_df[attribute] != val]\\r\\n                remaining = copy.deepcopy(attributes)\\r\\n                children.append(self.recursive_build(new_data, remaining,\\r\\n                                                     new_path, depth + 1))\\r\\n            node.add_children(children)\\r\\n        else:\\r\\n            node = Node(self.decide_leaf(records_df), path, depth=depth)\\r\\n        return node\\r\\n\\r\\n    def get_next_attribute(self, attribute_list, records_df):\\r\\n        \"\"\"returns the next attribute\"\"\"\\r\\n        if attribute_list:\\r\\n            return attribute_list[0]\\r\\n        else:\\r\\n            return None\\r\\n\\r\\n    def decide_leaf(self, records_df):\\r\\n        \"\"\"Decide the value of the leaf based on the records\"\"\"\\r\\n        if records_df.empty:\\r\\n            return None\\r\\n        return records_df[self.goal].value_counts().argmax()\\r\\n\\r\\n    def pruning(self, records_df, threshold):\\r\\n        \"\"\"Prunes the tree based on a threshold\"\"\"\\r\\n        nodes_to_check = [self.root]\\r\\n        while nodes_to_check:\\r\\n            node = nodes_to_check.pop()\\r\\n            children_remove = []\\r\\n            children_append = []\\r\\n            for child in node.children:\\r\\n                path = child.choices\\r\\n                depth = child.depth\\r\\n                relevant = copy.deepcopy(records_df)\\r\\n                for attribute, value in path:\\r\\n                    relevant = relevant[relevant[attribute] == value]\\r\\n                if len(relevant) / self.rows <= threshold:\\r\\n                    children_remove.append(child)\\r\\n                    children_append.append(Node(self.decide_leaf(relevant),\\r\\n                                              path, depth=depth))\\r\\n                else:\\r\\n                    nodes_to_check.append(child)\\r\\n            for child in children_remove:\\r\\n                node.children.remove(child)\\r\\n            for child in children_append:\\r\\n                node.children.append(child)\\r\\n\\r\\n    def get_val(self, df_row):\\r\\n        \"\"\"Gets the relevant node based on the row\"\"\"\\r\\n        node = self.root\\r\\n        while node:\\r\\n            prev_node = node\\r\\n            if not len(node.children):\\r\\n                return node.data\\r\\n            if node.data not in df_row.keys():\\r\\n                return None\\r\\n            children = prev_node.children\\r\\n            for child in children:\\r\\n                if not df_row[df_row[prev_node.data] == child.choices[-1][1]].empty:\\r\\n                    # print(child.choices[-1][1], df_row[prev_node.data])\\r\\n                    node = child\\r\\n                    break\\r\\n                else:\\r\\n                    node = None\\r\\n        return None\\r\\n\\r\\n    def save_tree(self, output_path):\\r\\n        \"\"\"Saves the tree\"\"\"\\r\\n        with open(output_path, \\'wb\\') as file:\\r\\n            pickle.dump(self, file)\\r\\n\\r\\n    def load_tree(self, path):\\r\\n        \"\"\"Saves the tree\"\"\"\\r\\n        with open(path, \\'rb\\') as file:\\r\\n            node = pickle.load(file)\\r\\n        self.root = node.root\\r\\n        self.name = node.name\\r\\n        self.goal = node.goal\\r\\n        self.rows = node.rows\\r\\n        self.limit = node.limit\\r\\n\\r\\n\\r\\nclass EntropyTree(Tree):\\r\\n    def get_next_attribute(self, attribute_list, records_df):\\r\\n        \"\"\"returns the attribute with the minimum entropy\"\"\"\\r\\n        entropy = calc_entropy(attribute_list, records_df)\\r\\n        entropy = {k: v for k, v in entropy.items() if v}\\r\\n        if len(entropy):\\r\\n            return min(entropy, key=entropy.get)\\r\\n        return None\\r\\n\\r\\n\\r\\nclass InformationGainTree(Tree):\\r\\n    def get_next_attribute(self, attribute_list, records_df):\\r\\n        \"\"\"Returns the attribute with the highest information gain\"\"\"\\r\\n        info_gain = information_gain(attribute_list, records_df)\\r\\n        if len(info_gain):\\r\\n            return max(info_gain, key=info_gain.get)\\r\\n        return None\\r\\n\\r\\n\\r\\nclass InformationRatioTree(Tree):\\r\\n    def get_next_attribute(self, attribute_list, records_df):\\r\\n        \"\"\"Returns the attribute with the highest information gain ratio\"\"\"\\r\\n        info_gain = information_gain(attribute_list, records_df)\\r\\n        info_gain_ratio = dict()\\r\\n        for attribute in attribute_list:\\r\\n            p = records_df[attribute].value_counts() / len(records_df)\\r\\n            int_value = -np.sum(p * np.log2(p))\\r\\n            info_gain_ratio[attribute] = info_gain[attribute] / int_value\\r\\n        if len(info_gain_ratio):\\r\\n            return max(info_gain_ratio, key=info_gain_ratio.get)\\r\\n        return None\\r\\n\\r\\n\\r\\ndef calc_entropy(attribute_list, records_df):\\r\\n    \"\"\"Returns the entropy dictionary\"\"\"\\r\\n    entropy = dict()\\r\\n    for attribute in attribute_list:\\r\\n        p = records_df[attribute].value_counts() / len(records_df)\\r\\n        entropy[attribute] = -np.sum(p * np.log2(p))\\r\\n    return entropy\\r\\n\\r\\n\\r\\ndef information_gain(attribute_list, records_df, goal=GOAL):\\r\\n    \"\"\"Returns a dictionary of the information gain\"\"\"\\r\\n    goal_entropy = calc_entropy([goal], records_df)[goal]\\r\\n    info_gain = dict()\\r\\n    for attribute in attribute_list:\\r\\n        remaining_entropy = 0\\r\\n        for val in records_df[attribute].unique():\\r\\n            relevant = records_df[records_df[attribute] == val]\\r\\n            p = relevant[goal].value_counts() / len(relevant)\\r\\n            remaining_entropy += -(np.sum(p * np.log2(p) * len(relevant)) / len(records_df))\\r\\n        info_gain[attribute] = goal_entropy - remaining_entropy\\r\\n    return info_gain\\r\\n\\r\\n\\r\\ndef generate_graph(tree):\\r\\n    \"\"\"Generate a graph from the tree\"\"\"\\r\\n    G = nx.DiGraph()\\r\\n    nodes_left = [(tree.root, None)]\\r\\n    labels = {}\\r\\n    edge_labels = {}\\r\\n    pos = dict()\\r\\n    max_row = dict()\\r\\n    while nodes_left:\\r\\n        cur_node, cur_parent = nodes_left.pop()\\r\\n        if cur_node.choices:\\r\\n            node_name = \\'\\'.join(\\r\\n                str(tup[0]) + str(tup[1]) for tup in cur_node.choices)\\r\\n        else:\\r\\n            node_name = cur_node.data\\r\\n        if cur_node.depth in max_row.keys():\\r\\n            max_row[cur_node.depth] += 1\\r\\n        else:\\r\\n            max_row[cur_node.depth] = 0\\r\\n        pos[node_name] = (cur_node.depth, max_row[cur_node.depth])\\r\\n        G.add_node(node_name)\\r\\n        if cur_parent:\\r\\n            G.add_edge(cur_parent, node_name)\\r\\n            edge_labels[(cur_parent, node_name)] = cur_node.choices[-1][1]\\r\\n        labels[node_name] = cur_node.data\\r\\n        nodes_left.extend([(child, node_name) for child in cur_node.children])\\r\\n\\r\\n    nx.draw(G, pos)\\r\\n    nx.draw_networkx_labels(G, pos, labels, font_size=16)\\r\\n    nx.draw_networkx_edge_labels(G, pos, edge_labels, font_size=16)\\r\\n    plt.axis(\\'off\\')\\r\\n    plt.show()\\r\\n    return G\\r\\n\\r\\n\\r\\ndef draw_tree(G):\\r\\n    \"\"\"Draw the tree\"\"\"\\r\\n    pos = nx.spring_layout(G)\\r\\n    labels = {}\\r\\n    for node in G.nodes():\\r\\n        labels[node] = node\\r\\n    edge_labels = {}\\r\\n    for edge in G.edges:\\r\\n        edge_labels[edge] = 0\\r\\n    nx.draw_networkx_nodes(G, pos, G.nodes)\\r\\n    nx.draw_networkx_labels(G, pos, labels, font_size=1)\\r\\n    nx.draw_networkx_edges(G, pos, G.edges)\\r\\n    nx.draw_networkx_edge_labels(G, pos, edge_labels, font_size=1)\\r\\n    plt.axis(\\'off\\')\\r\\n    plt.show()\\r\\n\\r\\n\\r\\nif __name__ == \"__main__\":\\r\\n    data = pd.read_csv(\"dataa.csv\")\\r\\n    tree = Tree(data)\\r\\n    # G = generate_graph(tree)\\r\\n    # row = data.iloc[3, :]\\r\\n    #\\r\\n    # path = os.getcwd()\\r\\n    # sample = data.sample(1)\\r\\n    # test.load_tree(path + \"/trees/test.txt\")\\r\\n    # print(sample)\\r\\n    # print(test.get_val(sample))\\r\\n    # test.save_tree(path + \"/trees/test.txt\")\\r\\n'}"
            ]
          },
          "metadata": {
            "tags": []
          },
          "execution_count": 2
        }
      ]
    },
    {
      "cell_type": "markdown",
      "metadata": {
        "id": "_q3irnrraQXX",
        "colab_type": "text"
      },
      "source": [
        "##Constants"
      ]
    },
    {
      "cell_type": "code",
      "metadata": {
        "id": "BPXFTT18fDwJ",
        "colab_type": "code",
        "colab": {}
      },
      "source": [
        "import pandas as pd\n",
        "import math\n",
        "from multiprocessing import Pool\n",
        "from tree import *"
      ],
      "execution_count": 0,
      "outputs": []
    },
    {
      "cell_type": "code",
      "metadata": {
        "id": "VsxzgQDFaGtQ",
        "colab_type": "code",
        "colab": {}
      },
      "source": [
        "PATH_TO_FOLDER = \"/content/gdrive/My Drive/AI_project/\"\n",
        "INPUT_PATH = \"Data/training_data_1.csv\"\n",
        "TEST_PATH = \"Data/test_data_1.csv\"\n",
        "TRAINING_SET = \"1\"\n",
        "\n",
        "GOAL = \"demand\"\n",
        "TRAIN_LEVEL = 0.5\n",
        "POOL_SIZE = 4\n",
        "TREE = \"Tree\"\n",
        "ENTROPY = \"EntropyTree\"\n",
        "INFORMATION_GAIN = \"InformationGainTree\"\n",
        "INFORMATION_RATIO = \"InformationRatioTree\"\n",
        "\n",
        "BASIC_ATTRIBUTES = [\"L1\", \"L2\", \"time\"]\n",
        "IGNORE_LIST = BASIC_ATTRIBUTES + [\"Unnamed: 0\", \"Unnamed: 0.1\", \"cluster_id\",\n",
        "                                  \"thunderstorm\", \"foggy\", \"humidity\", \"demand\"]"
      ],
      "execution_count": 0,
      "outputs": []
    },
    {
      "cell_type": "markdown",
      "metadata": {
        "id": "4B9HuLlOaWs_",
        "colab_type": "text"
      },
      "source": [
        "##Tree Creation"
      ]
    },
    {
      "cell_type": "code",
      "metadata": {
        "id": "csxjot8taXFv",
        "colab_type": "code",
        "colab": {}
      },
      "source": [
        "def tree_creation(type, records_df, limit=0, attributes=None, goal=GOAL, name=\"\"):\n",
        "    \"\"\"This function creates the trees\"\"\"\n",
        "    if type == TREE:\n",
        "        return Tree(records_df, limit, attributes, goal, name)\n",
        "    elif type == ENTROPY:\n",
        "        return EntropyTree(records_df, limit, attributes, goal, name)\n",
        "    elif type == INFORMATION_GAIN:\n",
        "        return InformationGainTree(records_df, limit, attributes, goal, name)\n",
        "    elif type == INFORMATION_RATIO:\n",
        "        return InformationRatioTree(records_df, limit, attributes, goal, name)\n",
        "    else:\n",
        "        return\n",
        "\n",
        "\n",
        "def create_attributes_list(data):\n",
        "    \"\"\"Creates a list of attributes in order to build th trees\"\"\"\n",
        "    attributes_list = []\n",
        "    for column in data.columns:\n",
        "        if column not in IGNORE_LIST:\n",
        "            attributes_list.append(BASIC_ATTRIBUTES + [column])\n",
        "    return attributes_list\n",
        "\n",
        "\n",
        "def get_type(tree):\n",
        "    \"\"\"Gets the type of the tree\"\"\"\n",
        "    return str(type(tree)).split('.')[1].split('\\'')[0]\n",
        "\n",
        "\n",
        "def create_trees(training_data, goal):\n",
        "    p = Pool(POOL_SIZE)\n",
        "    all_trees = []\n",
        "    # every tree we want to create has to come in the format of\n",
        "    # (type, df, limit, attributes, goal)\n",
        "    attr_list = create_attributes_list(training_data)\n",
        "    for lst in attr_list:\n",
        "        print(lst[-1])\n",
        "        trees = [(TREE, training_data, 0, lst, goal, TREE + \"_\" + lst[-1] +\n",
        "                  \"_\" + TRAINING_SET)]\n",
        "        trees.append((ENTROPY, training_data, 0, lst, goal,\n",
        "                      ENTROPY + \"_\" + lst[-1] + \"_\" + TRAINING_SET))\n",
        "        trees.append((INFORMATION_GAIN, training_data, 0, lst, goal,\n",
        "                      INFORMATION_GAIN + \"_\" + lst[-1] + \"_\" + TRAINING_SET))\n",
        "        trees.append((INFORMATION_RATIO, training_data, 0, lst, goal,\n",
        "                      INFORMATION_RATIO + \"_\" + lst[-1] + \"_\" + TRAINING_SET))\n",
        "        res = p.starmap(tree_creation, trees)\n",
        "        for t in res:\n",
        "            t.save_tree(PATH_TO_FOLDER + \"Trees/\" + t.name + \".txt\")\n",
        "            all_trees.append(t)\n",
        "    p.close()\n",
        "    p.join()\n",
        "    return all_trees\n",
        "\n",
        "\n",
        "def export_training_and_test(training_data, test_data):\n",
        "    \"\"\"This functino saves the training data and the testing data\"\"\"\n",
        "    training_data.to_csv(\"training_data.csv\")\n",
        "    test_data.to_csv(\"test_data.csv\")\n",
        "    \n",
        "def load_data(path):\n",
        "    \"\"\"\"\"\"\n",
        "    return pd.read_csv(path)"
      ],
      "execution_count": 0,
      "outputs": []
    },
    {
      "cell_type": "code",
      "metadata": {
        "id": "yUJxExWnKpVN",
        "colab_type": "code",
        "colab": {}
      },
      "source": [
        "def additional_trees(training_data, goal):\n",
        "    \"\"\"\"\"\"\n",
        "    p = Pool(POOL_SIZE)\n",
        "    # every tree we want to create has to come in the format of\n",
        "    # (type, df, limit, attributes, goal)\n",
        "    all_trees = []\n",
        "    new_basic = BASIC_ATTRIBUTES + [\"weekday\"]\n",
        "    attr_list = [new_basic + [\"month\"]]\n",
        "    attr_list.append(new_basic + [\"clear_sky\"])\n",
        "    attr_list.append(new_basic + [\"extreme_weather\"])\n",
        "#     attr_list.append(new_basic + [\"clear_sky\", \"extreme_weather\"])\n",
        "    for lst in attr_list:\n",
        "        filename = \"_\".join(list(set(lst) - set(BASIC_ATTRIBUTES)))\n",
        "        print(filename)\n",
        "        trees = [(TREE, training_data, 0, lst, goal,\n",
        "                  TREE + \"_\" + filename + \"_\" + TRAINING_SET)]\n",
        "        trees.append((ENTROPY, training_data, 0, lst, goal,\n",
        "                      ENTROPY + \"_\" + filename + \"_\" + TRAINING_SET))\n",
        "        trees.append((INFORMATION_GAIN, training_data, 0, lst, goal,\n",
        "                      INFORMATION_GAIN + \"_\" + filename + \"_\" + TRAINING_SET))\n",
        "        trees.append((INFORMATION_RATIO, training_data, 0, lst, goal,\n",
        "                      INFORMATION_RATIO + \"_\" + filename + \"_\" + TRAINING_SET))\n",
        "        res = p.starmap(tree_creation, trees)\n",
        "        for t in res:\n",
        "            t.save_tree(PATH_TO_FOLDER + \"Trees/\" + t.name + \".txt\")\n",
        "            all_trees.append(t)\n",
        "    p.close()\n",
        "    p.join()\n",
        "    return all_trees\n",
        "    "
      ],
      "execution_count": 0,
      "outputs": []
    },
    {
      "cell_type": "code",
      "metadata": {
        "id": "4p5l8cn9zqnA",
        "colab_type": "code",
        "colab": {}
      },
      "source": [
        "    training_data = pd.read_csv(PATH_TO_FOLDER + INPUT_PATH)\n",
        "    # create trees based on training data\n",
        "    all_trees = create_trees(training_data, GOAL)\n",
        "    print(\"finish normal trees\")\n",
        "    all_trees.extend(additional_trees(training_data, GOAL))"
      ],
      "execution_count": 0,
      "outputs": []
    },
    {
      "cell_type": "markdown",
      "metadata": {
        "id": "RoaSO6yCi1R6",
        "colab_type": "text"
      },
      "source": [
        "##Load all trees"
      ]
    },
    {
      "cell_type": "code",
      "metadata": {
        "id": "_RL-gClZ7Eyw",
        "colab_type": "code",
        "colab": {}
      },
      "source": [
        "from os import listdir\n",
        "from os.path import isfile, join\n",
        "\n",
        "def get_tree_files():\n",
        "    onlyfiles = [f for f in listdir(PATH_TO_FOLDER + \"Trees\") if\n",
        "             isfile(join(PATH_TO_FOLDER + \"Trees\", f)) and TRAINING_SET in f]\n",
        "    return onlyfiles\n",
        "\n",
        "\n",
        "def load_all_trees():\n",
        "    files = get_tree_files()\n",
        "    path = PATH_TO_FOLDER + \"Trees/\"\n",
        "#     name = \"_clear_sky_weekday_extreme_weather_1.txt\"\n",
        "#     files = [path + TREE + name, path + ENTROPY + name, path + INFORMATION_GAIN + name, path + INFORMATION_RATIO + name]\n",
        "    trees = []\n",
        "    for file in files:\n",
        "        new_tree = Tree(None)\n",
        "        new_tree.load_tree(join(PATH_TO_FOLDER + \"Trees\", file))\n",
        "        trees.append(new_tree)\n",
        "    return trees"
      ],
      "execution_count": 0,
      "outputs": []
    },
    {
      "cell_type": "code",
      "metadata": {
        "id": "AVb8sTbViwLa",
        "colab_type": "code",
        "colab": {}
      },
      "source": [
        "all_trees = load_all_trees()\n",
        "len(all_trees)"
      ],
      "execution_count": 0,
      "outputs": []
    },
    {
      "cell_type": "markdown",
      "metadata": {
        "id": "99qdD1ZYjARP",
        "colab_type": "text"
      },
      "source": [
        "##Create file for NN"
      ]
    },
    {
      "cell_type": "code",
      "metadata": {
        "id": "cM_HdD6lNPdm",
        "colab_type": "code",
        "colab": {}
      },
      "source": [
        "TEST_START = \"Subsets/test_data_\"\n",
        "\n",
        "def create_file(test_data, all_trees, goal, part):\n",
        "    \"\"\"This function generates a file with the results of each tree and the\n",
        "    actual result per line in the test data\"\"\"\n",
        "    columns = [t.name for t in all_trees]\n",
        "    columns.append(goal)\n",
        "    output = pd.DataFrame(columns=columns)\n",
        "#     for i in range(len(test_data)):\n",
        "#         print(str(i) + \" out of \" + str(len(test_data)), len(output))\n",
        "    while not test_data.empty:\n",
        "        test_data, row = test_data.iloc[1:], test_data.head(1)\n",
        "        print(part, len(test_data), len(output))\n",
        "        row_dict = {t.name: t.get_val(row) for t in all_trees}\n",
        "        row_dict[goal] = row[goal][0]\n",
        "        output = output.append(pd.DataFrame.from_dict([row_dict]))\n",
        "        del row\n",
        "    if not output.empty:\n",
        "        output.to_csv(PATH_TO_FOLDER + \"Data/testing_by_tree_\" + TRAINING_SET + \"_\" + str(part) + \".csv\")\n",
        "        \n",
        "def change_numeric_to_format(data):\n",
        "    for col in data.columns:\n",
        "        if np.issubdtype(data[col].dtype, np.floating):\n",
        "            data[col] = data[col].apply(lambda x: int(x))\n",
        "        else:\n",
        "            continue\n",
        "\n",
        "\n",
        "def generate_file_for_part(part):\n",
        "    test_data = pd.read_csv(PATH_TO_FOLDER + TEST_START + TRAINING_SET + \"_\" + part + \".csv\")\n",
        "    change_numeric_to_format(test_data)\n",
        "    create_file(test_data, all_trees, GOAL, part)\n",
        "    del test_data"
      ],
      "execution_count": 0,
      "outputs": []
    },
    {
      "cell_type": "code",
      "metadata": {
        "id": "mzIee_okYFT_",
        "colab_type": "code",
        "colab": {}
      },
      "source": [
        "start = 0\n",
        "end = 19\n",
        "test_range = []\n",
        "for i in range(start,end+1):\n",
        "    test_range.append(\"0\" * (4 - len(str(i))) + str(i))"
      ],
      "execution_count": 0,
      "outputs": []
    },
    {
      "cell_type": "code",
      "metadata": {
        "id": "zq1DIwCR5-_d",
        "colab_type": "code",
        "colab": {
          "base_uri": "https://localhost:8080/",
          "height": 1000
        },
        "outputId": "065e09d7-6bff-4c68-bcdf-6c8756b7f504"
      },
      "source": [
        "# TEST_RANGE = [\"0001\", \"0002\", \"0003\", \"0004\"]\n",
        "\n",
        "p = Pool(20)\n",
        "\n",
        "p.map(generate_file_for_part, test_range)\n",
        "\n",
        "p.close()\n",
        "p.join()"
      ],
      "execution_count": 11,
      "outputs": [
        {
          "output_type": "stream",
          "text": [
            "0003 1230 0\n",
            "0002 1229 0\n",
            "0010 1230 0\n",
            "0011 1230 0\n",
            "0004 1229 0\n",
            "0009 1229 0\n",
            "0012 1229 0\n",
            "0016 1230 0\n",
            "0017 1229 0\n",
            "0005 1230 0\n",
            "0019 1229 0\n",
            "0018 1230 0\n",
            "0007 1229 0\n",
            "0000 1229 0\n",
            "0008 1230 0\n",
            "0013 1230 0\n",
            "0014 1229 0\n",
            "0006 1230 0\n",
            "0015 1230 0\n",
            "0001 1230 0\n"
          ],
          "name": "stdout"
        },
        {
          "output_type": "stream",
          "text": [
            "/usr/local/lib/python3.6/dist-packages/pandas/core/frame.py:6692: FutureWarning: Sorting because non-concatenation axis is not aligned. A future version\n",
            "of pandas will change to not sort by default.\n",
            "\n",
            "To accept the future behavior, pass 'sort=False'.\n",
            "\n",
            "To retain the current behavior and silence the warning, pass 'sort=True'.\n",
            "\n",
            "  sort=sort)\n",
            "/usr/local/lib/python3.6/dist-packages/pandas/core/frame.py:6692: FutureWarning: Sorting because non-concatenation axis is not aligned. A future version\n",
            "of pandas will change to not sort by default.\n",
            "\n",
            "To accept the future behavior, pass 'sort=False'.\n",
            "\n",
            "To retain the current behavior and silence the warning, pass 'sort=True'.\n",
            "\n",
            "  sort=sort)\n",
            "/usr/local/lib/python3.6/dist-packages/pandas/core/frame.py:6692: FutureWarning: Sorting because non-concatenation axis is not aligned. A future version\n",
            "of pandas will change to not sort by default.\n",
            "\n",
            "To accept the future behavior, pass 'sort=False'.\n",
            "\n",
            "To retain the current behavior and silence the warning, pass 'sort=True'.\n",
            "\n",
            "  sort=sort)\n",
            "/usr/local/lib/python3.6/dist-packages/pandas/core/frame.py:6692: FutureWarning: Sorting because non-concatenation axis is not aligned. A future version\n",
            "of pandas will change to not sort by default.\n",
            "\n",
            "To accept the future behavior, pass 'sort=False'.\n",
            "\n",
            "To retain the current behavior and silence the warning, pass 'sort=True'.\n",
            "\n",
            "  sort=sort)\n",
            "/usr/local/lib/python3.6/dist-packages/pandas/core/frame.py:6692: FutureWarning: Sorting because non-concatenation axis is not aligned. A future version\n",
            "of pandas will change to not sort by default.\n",
            "\n",
            "To accept the future behavior, pass 'sort=False'.\n",
            "\n",
            "To retain the current behavior and silence the warning, pass 'sort=True'.\n",
            "\n",
            "  sort=sort)\n",
            "/usr/local/lib/python3.6/dist-packages/pandas/core/frame.py:6692: FutureWarning: Sorting because non-concatenation axis is not aligned. A future version\n",
            "of pandas will change to not sort by default.\n",
            "\n",
            "To accept the future behavior, pass 'sort=False'.\n",
            "\n",
            "To retain the current behavior and silence the warning, pass 'sort=True'.\n",
            "\n",
            "  sort=sort)\n",
            "/usr/local/lib/python3.6/dist-packages/pandas/core/frame.py:6692: FutureWarning: Sorting because non-concatenation axis is not aligned. A future version\n",
            "of pandas will change to not sort by default.\n",
            "\n",
            "To accept the future behavior, pass 'sort=False'.\n",
            "\n",
            "To retain the current behavior and silence the warning, pass 'sort=True'.\n",
            "\n",
            "  sort=sort)\n",
            "/usr/local/lib/python3.6/dist-packages/pandas/core/frame.py:6692: FutureWarning: Sorting because non-concatenation axis is not aligned. A future version\n",
            "of pandas will change to not sort by default.\n",
            "\n",
            "To accept the future behavior, pass 'sort=False'.\n",
            "\n",
            "To retain the current behavior and silence the warning, pass 'sort=True'.\n",
            "\n",
            "  sort=sort)\n",
            "/usr/local/lib/python3.6/dist-packages/pandas/core/frame.py:6692: FutureWarning: Sorting because non-concatenation axis is not aligned. A future version\n",
            "of pandas will change to not sort by default.\n",
            "\n",
            "To accept the future behavior, pass 'sort=False'.\n",
            "\n",
            "To retain the current behavior and silence the warning, pass 'sort=True'.\n",
            "\n",
            "  sort=sort)\n",
            "/usr/local/lib/python3.6/dist-packages/pandas/core/frame.py:6692: FutureWarning: Sorting because non-concatenation axis is not aligned. A future version\n",
            "of pandas will change to not sort by default.\n",
            "\n",
            "To accept the future behavior, pass 'sort=False'.\n",
            "\n",
            "To retain the current behavior and silence the warning, pass 'sort=True'.\n",
            "\n",
            "  sort=sort)\n",
            "/usr/local/lib/python3.6/dist-packages/pandas/core/frame.py:6692: FutureWarning: Sorting because non-concatenation axis is not aligned. A future version\n",
            "of pandas will change to not sort by default.\n",
            "\n",
            "To accept the future behavior, pass 'sort=False'.\n",
            "\n",
            "To retain the current behavior and silence the warning, pass 'sort=True'.\n",
            "\n",
            "  sort=sort)\n",
            "/usr/local/lib/python3.6/dist-packages/pandas/core/frame.py:6692: FutureWarning: Sorting because non-concatenation axis is not aligned. A future version\n",
            "of pandas will change to not sort by default.\n",
            "\n",
            "To accept the future behavior, pass 'sort=False'.\n",
            "\n",
            "To retain the current behavior and silence the warning, pass 'sort=True'.\n",
            "\n",
            "  sort=sort)\n",
            "/usr/local/lib/python3.6/dist-packages/pandas/core/frame.py:6692: FutureWarning: Sorting because non-concatenation axis is not aligned. A future version\n",
            "of pandas will change to not sort by default.\n",
            "\n",
            "To accept the future behavior, pass 'sort=False'.\n",
            "\n",
            "To retain the current behavior and silence the warning, pass 'sort=True'.\n",
            "\n",
            "  sort=sort)\n",
            "/usr/local/lib/python3.6/dist-packages/pandas/core/frame.py:6692: FutureWarning: Sorting because non-concatenation axis is not aligned. A future version\n",
            "of pandas will change to not sort by default.\n",
            "\n",
            "To accept the future behavior, pass 'sort=False'.\n",
            "\n",
            "To retain the current behavior and silence the warning, pass 'sort=True'.\n",
            "\n",
            "  sort=sort)\n",
            "/usr/local/lib/python3.6/dist-packages/pandas/core/frame.py:6692: FutureWarning: Sorting because non-concatenation axis is not aligned. A future version\n",
            "of pandas will change to not sort by default.\n",
            "\n",
            "To accept the future behavior, pass 'sort=False'.\n",
            "\n",
            "To retain the current behavior and silence the warning, pass 'sort=True'.\n",
            "\n",
            "  sort=sort)\n",
            "/usr/local/lib/python3.6/dist-packages/pandas/core/frame.py:6692: FutureWarning: Sorting because non-concatenation axis is not aligned. A future version\n",
            "of pandas will change to not sort by default.\n",
            "\n",
            "To accept the future behavior, pass 'sort=False'.\n",
            "\n",
            "To retain the current behavior and silence the warning, pass 'sort=True'.\n",
            "\n",
            "  sort=sort)\n",
            "/usr/local/lib/python3.6/dist-packages/pandas/core/frame.py:6692: FutureWarning: Sorting because non-concatenation axis is not aligned. A future version\n",
            "of pandas will change to not sort by default.\n",
            "\n",
            "To accept the future behavior, pass 'sort=False'.\n",
            "\n",
            "To retain the current behavior and silence the warning, pass 'sort=True'.\n",
            "\n",
            "  sort=sort)\n",
            "/usr/local/lib/python3.6/dist-packages/pandas/core/frame.py:6692: FutureWarning: Sorting because non-concatenation axis is not aligned. A future version\n",
            "of pandas will change to not sort by default.\n",
            "\n",
            "To accept the future behavior, pass 'sort=False'.\n",
            "\n",
            "To retain the current behavior and silence the warning, pass 'sort=True'.\n",
            "\n",
            "  sort=sort)\n",
            "/usr/local/lib/python3.6/dist-packages/pandas/core/frame.py:6692: FutureWarning: Sorting because non-concatenation axis is not aligned. A future version\n",
            "of pandas will change to not sort by default.\n",
            "\n",
            "To accept the future behavior, pass 'sort=False'.\n",
            "\n",
            "To retain the current behavior and silence the warning, pass 'sort=True'.\n",
            "\n",
            "  sort=sort)\n",
            "/usr/local/lib/python3.6/dist-packages/pandas/core/frame.py:6692: FutureWarning: Sorting because non-concatenation axis is not aligned. A future version\n",
            "of pandas will change to not sort by default.\n",
            "\n",
            "To accept the future behavior, pass 'sort=False'.\n",
            "\n",
            "To retain the current behavior and silence the warning, pass 'sort=True'.\n",
            "\n",
            "  sort=sort)\n"
          ],
          "name": "stderr"
        }
      ]
    }
  ]
}