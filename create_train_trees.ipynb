{
  "nbformat": 4,
  "nbformat_minor": 0,
  "metadata": {
    "colab": {
      "name": "create_train_trees.ipynb",
      "version": "0.3.2",
      "provenance": [],
      "collapsed_sections": [],
      "include_colab_link": true
    },
    "kernelspec": {
      "name": "python3",
      "display_name": "Python 3"
    }
  },
  "cells": [
    {
      "cell_type": "markdown",
      "metadata": {
        "id": "view-in-github",
        "colab_type": "text"
      },
      "source": [
        "<a href=\"https://colab.research.google.com/github/kfir1g/AI-Project/blob/master/create_train_trees.ipynb\" target=\"_parent\"><img src=\"https://colab.research.google.com/assets/colab-badge.svg\" alt=\"Open In Colab\"/></a>"
      ]
    },
    {
      "cell_type": "markdown",
      "metadata": {
        "id": "cRGsXgNtZ6JE",
        "colab_type": "text"
      },
      "source": [
        "##Connect to cloud"
      ]
    },
    {
      "cell_type": "code",
      "metadata": {
        "id": "8xnAj6GVY4i_",
        "colab_type": "code",
        "colab": {}
      },
      "source": [
        "from google.colab import drive\n",
        "drive.mount('/content/gdrive')"
      ],
      "execution_count": 0,
      "outputs": []
    },
    {
      "cell_type": "markdown",
      "metadata": {
        "id": "_q3irnrraQXX",
        "colab_type": "text"
      },
      "source": [
        "##Constants"
      ]
    },
    {
      "cell_type": "code",
      "metadata": {
        "id": "VsxzgQDFaGtQ",
        "colab_type": "code",
        "colab": {}
      },
      "source": [
        "PATH_TO_FOLDER = \"/content/gdrive/My Drive/AI_project/\"\n",
        "INPUT_PATH = \"Data/results_all.csv\"\n",
        "GOAL = \"demand\"\n",
        "TRAIN_LEVEL = 0.5\n",
        "POOL_SIZE = 2\n",
        "TREE = \"tree\"\n",
        "ENTROPY = \"entropy\"\n",
        "INFORMATION_GAIN = \"information_gain\"\n",
        "INFORMATION_RATIO = \"information_ratio\"\n",
        "BASIC_ATTRIBUTES = [\"L1\", \"L2\", \"time\", \"demand\"]\n",
        "IGNORE_LIST = BASIC_ATTRIBUTES + [\"Unnamed: 0\", \"Unnamed: 0.1\", \"cluster_id\",\n",
        "                                  \"thunderstorm\", \"foggy\", \"humidity\"]"
      ],
      "execution_count": 0,
      "outputs": []
    },
    {
      "cell_type": "markdown",
      "metadata": {
        "id": "4B9HuLlOaWs_",
        "colab_type": "text"
      },
      "source": [
        "##Function defenitions"
      ]
    },
    {
      "cell_type": "code",
      "metadata": {
        "id": "csxjot8taXFv",
        "colab_type": "code",
        "colab": {}
      },
      "source": [
        "def tree_creation(type records_df, limit=0, attributes=None, goal=GOAL):\n",
        "    \"\"\"This function creates the trees\"\"\"\n",
        "    if type == TREE:\n",
        "        return Tree(records_df, limit, attributes, goal)\n",
        "    elif type == ENTROPY:\n",
        "        return EntropyTree(records_df, limit, attributes, goal)\n",
        "    elif type == INFORMATION_GAIN:\n",
        "        return InformationGainTree(records_df, limit, attributes, goal)\n",
        "    elif type == INFORMATION_RATIO:\n",
        "        return InformationRatioTree(records_df, limit, attributes, goal)\n",
        "    else:\n",
        "        return\n",
        "\n",
        "\n",
        "def create_attributes_list(data):\n",
        "    \"\"\"Creates a list of attributes in order to build th trees\"\"\"\n",
        "    attributes_list = []\n",
        "    for column in data.columns:\n",
        "        if column not in IGNORE_LIST:\n",
        "            attributes_list.append(BASIC_ATTRIBUTES + [column])\n",
        "    return attributes_list\n",
        "\n",
        "\n",
        "def get_type(tree):\n",
        "    \"\"\"Gets the type of the tree\"\"\"\n",
        "    return str(type(tree)).split('.')[1].split('\\'')[0]\n",
        "\n",
        "\n",
        "def create_trees(training_data, goal):\n",
        "    \"\"\"This function creates the trees using multi-threading\"\"\"\n",
        "    p = Pool(POOL_SIZE)\n",
        "    # every tree we want to create has to come in the format of\n",
        "    # (type, df, limit, attributes, goal)\n",
        "    attr_list = create_attributes_list(training_data)\n",
        "    for lst in attr_list:\n",
        "        res = []\n",
        "        trees = [(TREE, training_data, 0, None, goal)]\n",
        "        trees.append((ENTROPY, training_data, 0, None, goal))\n",
        "        trees.append((INFORMATION_GAIN, training_data, 0, None, goal))\n",
        "        trees.append((INFORMATION_RATIO, training_data, 0, None, goal))\n",
        "        res = p.starmap(tree_creation, trees)\n",
        "        for t in res:\n",
        "            t.save_tree(PATH_TO_FOLDER + \"trees/\" + get_type(t) + \"_\" + lst[-1] + \".txt\")\n",
        "    p.close()\n",
        "    p.join()\n",
        "\n",
        "\n",
        "def create_file(test_data, all_trees, goal):\n",
        "    \"\"\"This function generates a file with the results of each tree and the\n",
        "    actual result per line in the test data\"\"\"\n",
        "    columns = [\"tree\" + str(i) for i in range(len(all_trees))]\n",
        "    columns.append(goal)\n",
        "    output = pd.DataFrame(columns=columns)\n",
        "    for i in range(len(test_data)):\n",
        "        row_dict = dict()\n",
        "        row = test_data.iloc[i, :]\n",
        "        for t in all_trees:\n",
        "            row_dict[\"tree\" + str(all_trees.index(t))] = t.get_val(row)\n",
        "        row_dict[goal] = row[goal]\n",
        "        output = output.append(pd.DataFrame.from_dict([row_dict]))\n",
        "    output.to_csv(PATH_TO_FOLDER + \"Data/testing_by_tree.csv\")\n",
        "\n",
        "\n",
        "def export_trees(all_trees):\n",
        "    \"\"\"This function saves all the trees to files\"\"\"\n",
        "    for t in all_trees:\n",
        "        t.save_tree(\"trees/tree\" + str(all_trees.index(t)) + \".txt\")\n",
        "\n",
        "\n",
        "def export_training_and_test(training_data, test_data):\n",
        "    \"\"\"This functino saves the training data and the testing data\"\"\"\n",
        "    training_data.to_csv(\"training_data.csv\")\n",
        "    test_data.to_csv(\"test_data.csv\")\n",
        "    \n",
        "def load_data(path):\n",
        "    \"\"\"\"\"\"\n",
        "    return pd.read_csv(path)"
      ],
      "execution_count": 0,
      "outputs": []
    },
    {
      "cell_type": "markdown",
      "metadata": {
        "id": "jCH1bYYHagvA",
        "colab_type": "text"
      },
      "source": [
        "##Main"
      ]
    },
    {
      "cell_type": "code",
      "metadata": {
        "id": "mBtorAPyaSf3",
        "colab_type": "code",
        "colab": {}
      },
      "source": [
        "    training_data = pd.read_csv(PATH_TO_FOLDER + INPUT_FILE)\n",
        "    # create trees based on training data\n",
        "    create_trees(training_data, GOAL)\n",
        "    # export_trees(all_trees)\n",
        "\n",
        "    # create file\n",
        "    # create_file(test_data, all_trees, GOAL)\n"
      ],
      "execution_count": 0,
      "outputs": []
    }
  ]
}