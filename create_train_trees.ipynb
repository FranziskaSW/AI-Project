{
  "nbformat": 4,
  "nbformat_minor": 0,
  "metadata": {
    "colab": {
      "name": "create_train_trees.ipynb",
      "version": "0.3.2",
      "provenance": [],
      "collapsed_sections": [],
      "toc_visible": true
    },
    "kernelspec": {
      "name": "python3",
      "display_name": "Python 3"
    },
    "accelerator": "GPU"
  },
  "cells": [
    {
      "cell_type": "markdown",
      "metadata": {
        "id": "cRGsXgNtZ6JE",
        "colab_type": "text"
      },
      "source": [
        "##Connect to cloud"
      ]
    },
    {
      "cell_type": "code",
      "metadata": {
        "id": "8xnAj6GVY4i_",
        "colab_type": "code",
        "colab": {}
      },
      "source": [
        "from google.colab import drive\n",
        "drive.mount('/content/gdrive')"
      ],
      "execution_count": 0,
      "outputs": []
    },
    {
      "cell_type": "markdown",
      "metadata": {
        "id": "OR880mLsiBnS",
        "colab_type": "text"
      },
      "source": [
        "##Trees\n",
        "Upload the udpated tree.py file from the cloud"
      ]
    },
    {
      "cell_type": "code",
      "metadata": {
        "id": "ehXMpzDAC-hQ",
        "colab_type": "code",
        "colab": {}
      },
      "source": [
        "from google.colab import files\n",
        "files.upload() "
      ],
      "execution_count": 0,
      "outputs": []
    },
    {
      "cell_type": "markdown",
      "metadata": {
        "id": "_q3irnrraQXX",
        "colab_type": "text"
      },
      "source": [
        "##Constants\n",
        "definitions of some constants and imports"
      ]
    },
    {
      "cell_type": "code",
      "metadata": {
        "id": "BPXFTT18fDwJ",
        "colab_type": "code",
        "colab": {}
      },
      "source": [
        "import pandas as pd\n",
        "import math\n",
        "from multiprocessing import Pool\n",
        "from tree import *"
      ],
      "execution_count": 0,
      "outputs": []
    },
    {
      "cell_type": "code",
      "metadata": {
        "id": "VsxzgQDFaGtQ",
        "colab_type": "code",
        "colab": {}
      },
      "source": [
        "PATH_TO_FOLDER = \"/content/gdrive/My Drive/AI_project/\"\n",
        "INPUT_PATH = \"Data/training_data_1.csv\"\n",
        "TEST_PATH = \"Data/test_data_1.csv\"\n",
        "TRAINING_SET = \"1\"\n",
        "TEST_START = \"Subsets/test_data_\"\n",
        "\n",
        "GOAL = \"demand\"\n",
        "TRAIN_LEVEL = 0.5\n",
        "POOL_SIZE = 4\n",
        "TREE = \"Tree\"\n",
        "ENTROPY = \"EntropyTree\"\n",
        "INFORMATION_GAIN = \"InformationGainTree\"\n",
        "INFORMATION_RATIO = \"InformationRatioTree\"\n",
        "\n",
        "BASIC_ATTRIBUTES = [\"L1\", \"L2\", \"time\"]\n",
        "IGNORE_LIST = BASIC_ATTRIBUTES + [\"Unnamed: 0\", \"Unnamed: 0.1\", \"cluster_id\",\n",
        "                                  \"thunderstorm\", \"foggy\", \"humidity\", \"demand\",\n",
        "                                 \"temperature\"]"
      ],
      "execution_count": 0,
      "outputs": []
    },
    {
      "cell_type": "markdown",
      "metadata": {
        "id": "4B9HuLlOaWs_",
        "colab_type": "text"
      },
      "source": [
        "##Function definition for tree creation\n",
        "Only need to run if the trees aren't created"
      ]
    },
    {
      "cell_type": "code",
      "metadata": {
        "id": "csxjot8taXFv",
        "colab_type": "code",
        "colab": {}
      },
      "source": [
        "def tree_creation(type, records_df, limit=0, attributes=None, goal=GOAL, name=\"\"):\n",
        "    \"\"\"This function creates the trees\"\"\"\n",
        "#     if type == TREE:\n",
        "#         return Tree(records_df, limit, attributes, goal, name)\n",
        "    if type == ENTROPY:\n",
        "        return EntropyTree(records_df, limit, attributes, goal, name)\n",
        "    elif type == INFORMATION_GAIN:\n",
        "        return InformationGainTree(records_df, limit, attributes, goal, name)\n",
        "    elif type == INFORMATION_RATIO:\n",
        "        return InformationRatioTree(records_df, limit, attributes, goal, name)\n",
        "    else:\n",
        "        return\n",
        "\n",
        "\n",
        "def create_attributes_list(data):\n",
        "    \"\"\"Creates a list of attributes in order to build th trees\"\"\"\n",
        "    attributes_list = []\n",
        "    for column in data.columns:\n",
        "        if column not in IGNORE_LIST:\n",
        "            attributes_list.append(BASIC_ATTRIBUTES + [column])\n",
        "    return attributes_list\n",
        "\n",
        "\n",
        "def get_type(tree):\n",
        "    \"\"\"Gets the type of the tree\"\"\"\n",
        "    return str(type(tree)).split('.')[1].split('\\'')[0]\n",
        "\n",
        "\n",
        "def create_trees(training_data, goal):\n",
        "    p = Pool(POOL_SIZE)\n",
        "    all_trees = []\n",
        "    # every tree we want to create has to come in the format of\n",
        "    # (type, df, limit, attributes, goal)\n",
        "    attr_list = create_attributes_list(training_data)\n",
        "    for lst in attr_list:\n",
        "        print(lst[-1])\n",
        "        trees = [(ENTROPY, training_data, 0, lst, goal,\n",
        "                      ENTROPY + \"_\" + lst[-1] + \"_\" + TRAINING_SET)]\n",
        "        trees.append((INFORMATION_GAIN, training_data, 0, lst, goal,\n",
        "                      INFORMATION_GAIN + \"_\" + lst[-1] + \"_\" + TRAINING_SET))\n",
        "        trees.append((INFORMATION_RATIO, training_data, 0, lst, goal,\n",
        "                      INFORMATION_RATIO + \"_\" + lst[-1] + \"_\" + TRAINING_SET))\n",
        "        res = p.starmap(tree_creation, trees)\n",
        "        for t in res:\n",
        "            t.save_tree(PATH_TO_FOLDER + \"Trees/\" + t.name + \".txt\")\n",
        "            all_trees.append(t)\n",
        "    p.close()\n",
        "    p.join()\n",
        "    return all_trees\n",
        "\n",
        "\n",
        "def export_training_and_test(training_data, test_data):\n",
        "    \"\"\"This functino saves the training data and the testing data\"\"\"\n",
        "    training_data.to_csv(\"training_data.csv\")\n",
        "    test_data.to_csv(\"test_data.csv\")\n",
        "    \n",
        "def load_data(path):\n",
        "    \"\"\"\"\"\"\n",
        "    return pd.read_csv(path)\n",
        "\n",
        "def additional_trees(training_data, goal):\n",
        "    \"\"\"\"\"\"\n",
        "    p = Pool(POOL_SIZE)\n",
        "    # every tree we want to create has to come in the format of\n",
        "    # (type, df, limit, attributes, goal)\n",
        "    all_trees = []\n",
        "    new_basic = BASIC_ATTRIBUTES + [\"weekday\"]\n",
        "    attr_list = [new_basic + [\"month\"]]\n",
        "    attr_list.append(new_basic + [\"clear_sky\"])\n",
        "    attr_list.append(new_basic + [\"extreme_weather\"])\n",
        "    for lst in attr_list:\n",
        "        filename = \"_\".join(list(set(lst) - set(BASIC_ATTRIBUTES)))\n",
        "        print(filename)\n",
        "        trees = [(ENTROPY, training_data, 0, lst, goal,\n",
        "                      ENTROPY + \"_\" + filename + \"_\" + TRAINING_SET)]\n",
        "        trees.append((INFORMATION_GAIN, training_data, 0, lst, goal,\n",
        "                      INFORMATION_GAIN + \"_\" + filename + \"_\" + TRAINING_SET))\n",
        "        trees.append((INFORMATION_RATIO, training_data, 0, lst, goal,\n",
        "                      INFORMATION_RATIO + \"_\" + filename + \"_\" + TRAINING_SET))\n",
        "        res = p.starmap(tree_creation, trees)\n",
        "        for t in res:\n",
        "            t.save_tree(PATH_TO_FOLDER + \"Trees/\" + t.name + \".txt\")\n",
        "            all_trees.append(t)\n",
        "    p.close()\n",
        "    p.join()\n",
        "    return all_trees"
      ],
      "execution_count": 0,
      "outputs": []
    },
    {
      "cell_type": "markdown",
      "metadata": {
        "id": "AZzM_YXPInUu",
        "colab_type": "text"
      },
      "source": [
        "##Tree Creation\n",
        "only need to run if the trees are not created"
      ]
    },
    {
      "cell_type": "code",
      "metadata": {
        "id": "4p5l8cn9zqnA",
        "colab_type": "code",
        "colab": {}
      },
      "source": [
        "    training_data = pd.read_csv(PATH_TO_FOLDER + INPUT_PATH)\n",
        "    # create trees based on training data\n",
        "    all_trees = create_trees(training_data, GOAL)\n",
        "    print(\"finish normal trees\")\n",
        "    all_trees.extend(additional_trees(training_data, GOAL))"
      ],
      "execution_count": 0,
      "outputs": []
    },
    {
      "cell_type": "markdown",
      "metadata": {
        "id": "RoaSO6yCi1R6",
        "colab_type": "text"
      },
      "source": [
        "##Load all trees\n",
        "Loads all of the created trees into the program"
      ]
    },
    {
      "cell_type": "code",
      "metadata": {
        "id": "_RL-gClZ7Eyw",
        "colab_type": "code",
        "colab": {}
      },
      "source": [
        "from os import listdir\n",
        "from os.path import isfile, join\n",
        "\n",
        "def get_tree_files():\n",
        "    onlyfiles = [f for f in listdir(PATH_TO_FOLDER + \"Trees\") if\n",
        "             isfile(join(PATH_TO_FOLDER + \"Trees\", f)) and TRAINING_SET in f]\n",
        "    return onlyfiles\n",
        "\n",
        "\n",
        "def load_all_trees():\n",
        "    files = get_tree_files()\n",
        "    path = PATH_TO_FOLDER + \"Trees/\"\n",
        "    trees = []\n",
        "    for file in files:\n",
        "        new_tree = Tree(None)\n",
        "        new_tree.load_tree(join(PATH_TO_FOLDER + \"Trees\", file))\n",
        "        trees.append(new_tree)\n",
        "    return trees"
      ],
      "execution_count": 0,
      "outputs": []
    },
    {
      "cell_type": "code",
      "metadata": {
        "id": "AVb8sTbViwLa",
        "colab_type": "code",
        "colab": {}
      },
      "source": [
        "all_trees = load_all_trees()\n",
        "len(all_trees)"
      ],
      "execution_count": 0,
      "outputs": []
    },
    {
      "cell_type": "markdown",
      "metadata": {
        "id": "99qdD1ZYjARP",
        "colab_type": "text"
      },
      "source": [
        "##Create file for NN\n",
        "Fucntion definitions that are relevant to the file creation.\n",
        "The file contains all of the predictions from all of the trees + the actual demand"
      ]
    },
    {
      "cell_type": "code",
      "metadata": {
        "id": "cM_HdD6lNPdm",
        "colab_type": "code",
        "colab": {}
      },
      "source": [
        "def create_file(test_data, all_trees, goal, part):\n",
        "    \"\"\"This function generates a file with the results of each tree and the\n",
        "    actual result per line in the test data\"\"\"\n",
        "    columns = [t.name for t in all_trees]\n",
        "    columns.append(goal)\n",
        "\n",
        "    output = pd.DataFrame()\n",
        "    for t in all_trees:\n",
        "        print(part, len(all_trees), all_trees.index(t))\n",
        "        output[t.name] = test_data.apply(lambda row: t.get_val(row), axis=1)\n",
        "    output[goal] = test_data[goal]\n",
        "\n",
        "\n",
        "    if not output.empty:\n",
        "        output.to_csv(PATH_TO_FOLDER + \"Data/testing_by_tree_\" + TRAINING_SET + \"_\" + str(part) + \".csv\")\n",
        "    del output\n",
        "        \n",
        "def change_numeric_to_format(data):\n",
        "    for col in data.columns:\n",
        "        if np.issubdtype(data[col].dtype, np.floating):\n",
        "            data[col] = data[col].apply(lambda x: int(x))\n",
        "        else:\n",
        "            continue\n",
        "\n",
        "\n",
        "def generate_file_for_part(part):\n",
        "    test_data = pd.read_csv(PATH_TO_FOLDER + TEST_START + TRAINING_SET + \"_\" + part + \".csv\")\n",
        "    change_numeric_to_format(test_data)\n",
        "    create_file(test_data, all_trees, GOAL, part)\n",
        "    del test_data"
      ],
      "execution_count": 0,
      "outputs": []
    },
    {
      "cell_type": "code",
      "metadata": {
        "id": "mzIee_okYFT_",
        "colab_type": "code",
        "colab": {}
      },
      "source": [
        "start = 20\n",
        "end = 199\n",
        "test_range = []\n",
        "for i in range(start,end+1):\n",
        "    test_range.append(\"0\" * (4 - len(str(i))) + str(i))"
      ],
      "execution_count": 0,
      "outputs": []
    },
    {
      "cell_type": "code",
      "metadata": {
        "id": "zq1DIwCR5-_d",
        "colab_type": "code",
        "colab": {}
      },
      "source": [
        "# TEST_RANGE = [\"0001\", \"0002\", \"0003\", \"0004\"]\n",
        "\n",
        "p = Pool(30)\n",
        "\n",
        "p.map(generate_file_for_part, test_range)\n",
        "\n",
        "p.close()\n",
        "p.join()"
      ],
      "execution_count": 0,
      "outputs": []
    }
  ]
}