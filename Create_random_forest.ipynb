{
  "nbformat": 4,
  "nbformat_minor": 0,
  "metadata": {
    "colab": {
      "name": "Create_random_forest.ipynb",
      "version": "0.3.2",
      "provenance": [],
      "collapsed_sections": [],
      "include_colab_link": true
    },
    "kernelspec": {
      "name": "python3",
      "display_name": "Python 3"
    }
  },
  "cells": [
    {
      "cell_type": "markdown",
      "metadata": {
        "id": "view-in-github",
        "colab_type": "text"
      },
      "source": [
        "<a href=\"https://colab.research.google.com/github/kfir1g/AI-Project/blob/master/Create_random_forest.ipynb\" target=\"_parent\"><img src=\"https://colab.research.google.com/assets/colab-badge.svg\" alt=\"Open In Colab\"/></a>"
      ]
    },
    {
      "cell_type": "markdown",
      "metadata": {
        "id": "pNw_pNY6BuMB",
        "colab_type": "text"
      },
      "source": [
        "##Connect to your cloud"
      ]
    },
    {
      "cell_type": "code",
      "metadata": {
        "id": "gT-szbZR7fO_",
        "colab_type": "code",
        "colab": {}
      },
      "source": [
        "from google.colab import drive\n",
        "drive.mount('/content/gdrive')"
      ],
      "execution_count": 0,
      "outputs": []
    },
    {
      "cell_type": "markdown",
      "metadata": {
        "id": "aIdEoGRBBya3",
        "colab_type": "text"
      },
      "source": [
        "##Read the tree's results file\n",
        "The file contains all of the predictions from the trees on the test data and the actual demand"
      ]
    },
    {
      "cell_type": "code",
      "metadata": {
        "id": "qWMy1Uo27iBY",
        "colab_type": "code",
        "colab": {}
      },
      "source": [
        "PATH_TO_FOLDER = \"/content/gdrive/My Drive/AI_project/\"\n",
        "INPUT_PATH = \"Data/testing_by_tree_1_all.csv\"\n",
        "\n",
        "import pandas as pd\n",
        "\n",
        "test_data = pd.read_csv(PATH_TO_FOLDER + INPUT_PATH)\n",
        "test_data = test_data.drop(\"Unnamed: 0\", axis=1)"
      ],
      "execution_count": 0,
      "outputs": []
    },
    {
      "cell_type": "markdown",
      "metadata": {
        "id": "BLUVQAHXB-0N",
        "colab_type": "text"
      },
      "source": [
        "##Calculate average results of all the trees"
      ]
    },
    {
      "cell_type": "code",
      "metadata": {
        "id": "-q63_t-b8S49",
        "colab_type": "code",
        "colab": {}
      },
      "source": [
        "import math\n",
        "\n",
        "test_data['Random_Forest'] = test_data.apply(lambda row: math.ceil(pd.Series.mean(row)), axis=1)\n",
        "test_data.to_csv(PATH_TO_FOLDER + \"All_trees_with_random_forst.csv\")"
      ],
      "execution_count": 0,
      "outputs": []
    }
  ]
}