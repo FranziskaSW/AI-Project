{
 "cells": [
  {
   "cell_type": "markdown",
   "metadata": {},
   "source": [
    "This is the beginning of the data cleaning and some very short exploratory analysis. \n",
    "\n",
    "In the end of the notebook is a dataframe that is similar to what we will have as an imput for the decision tree. \n",
    "So far only for the pickup of the bikes, but we will do the same for the return of the bikes. \n",
    "\n",
    "It is really just a rough start of the data preprocessing, only to make you more familiar with the data. "
   ]
  },
  {
   "cell_type": "code",
   "execution_count": 1,
   "metadata": {},
   "outputs": [],
   "source": [
    "import warnings\n",
    "warnings.filterwarnings('ignore')"
   ]
  },
  {
   "cell_type": "code",
   "execution_count": 2,
   "metadata": {},
   "outputs": [],
   "source": [
    "import pandas as pd\n",
    "import os \n",
    "from datetime import datetime, timedelta\n",
    "from matplotlib import pyplot as plt\n",
    "import math\n",
    "import numpy as np\n",
    "import copy\n",
    "import holidays\n",
    "import json \n",
    "cwd = os.getcwd()\n",
    "us_holidays = holidays.UnitedStates()"
   ]
  },
  {
   "cell_type": "code",
   "execution_count": 3,
   "metadata": {},
   "outputs": [],
   "source": [
    "from os import listdir\n",
    "from os.path import isfile, join\n",
    "\n",
    "path = cwd+'/data/tripdata'\n",
    "files = [f for f in listdir(path) if isfile(join(path, f))]\n",
    "files.sort()"
   ]
  },
  {
   "cell_type": "code",
   "execution_count": 4,
   "metadata": {},
   "outputs": [
    {
     "name": "stdout",
     "output_type": "stream",
     "text": [
      "(374115, 9) (392338, 9)\n",
      "(766453, 9) (404761, 9)\n"
     ]
    }
   ],
   "source": [
    "data = pd.read_csv(path+'/'+files[0])\n",
    "for file in files[1:]:\n",
    "    data_month = pd.read_csv(path+'/'+file)\n",
    "    print(data.shape, data_month.shape)\n",
    "    data = data.append(data_month, ignore_index = True)\n",
    "    \n",
    "data['starttime'] = pd.to_datetime(data['Start date'], format='%Y-%m-%d %H:%M:%S')"
   ]
  },
  {
   "cell_type": "code",
   "execution_count": 5,
   "metadata": {},
   "outputs": [
    {
     "data": {
      "text/plain": [
       "Index(['Duration', 'Start date', 'End date', 'Start station number',\n",
       "       'Start station', 'End station number', 'End station', 'Bike number',\n",
       "       'Member type', 'starttime'],\n",
       "      dtype='object')"
      ]
     },
     "execution_count": 5,
     "metadata": {},
     "output_type": "execute_result"
    }
   ],
   "source": [
    "data.columns"
   ]
  },
  {
   "cell_type": "code",
   "execution_count": null,
   "metadata": {},
   "outputs": [],
   "source": []
  },
  {
   "cell_type": "markdown",
   "metadata": {},
   "source": [
    "# geo data"
   ]
  },
  {
   "cell_type": "code",
   "execution_count": 6,
   "metadata": {},
   "outputs": [],
   "source": [
    "stations = pd.read_csv(cwd+'/data/Capital_Bike_Share_Locations.csv')"
   ]
  },
  {
   "cell_type": "code",
   "execution_count": 7,
   "metadata": {
    "scrolled": true
   },
   "outputs": [],
   "source": [
    "# stations.head()"
   ]
  },
  {
   "cell_type": "code",
   "execution_count": 8,
   "metadata": {},
   "outputs": [],
   "source": [
    "stations['CAPACITY'] = stations.NUMBER_OF_BIKES+stations.NUMBER_OF_EMPTY_DOCKS\n",
    "stations = stations[['TERMINAL_NUMBER', 'LATITUDE', 'LONGITUDE', 'CAPACITY']]\n",
    "stations.columns = ['id', 'latitude', 'longitude', 'capacity']"
   ]
  },
  {
   "cell_type": "code",
   "execution_count": null,
   "metadata": {},
   "outputs": [],
   "source": []
  },
  {
   "cell_type": "code",
   "execution_count": 9,
   "metadata": {},
   "outputs": [
    {
     "data": {
      "text/plain": [
       "<matplotlib.collections.PathCollection at 0x7f8423a55ac8>"
      ]
     },
     "execution_count": 9,
     "metadata": {},
     "output_type": "execute_result"
    },
    {
     "data": {
      "image/png": "[encoded data removed]",
      "text/plain": [
       "<Figure size 432x288 with 1 Axes>"
      ]
     },
     "metadata": {
      "needs_background": "light"
     },
     "output_type": "display_data"
    }
   ],
   "source": [
    "plt.scatter(stations.latitude, stations.longitude, marker='.', s=20)"
   ]
  },
  {
   "cell_type": "code",
   "execution_count": null,
   "metadata": {},
   "outputs": [],
   "source": []
  },
  {
   "cell_type": "markdown",
   "metadata": {},
   "source": [
    "Because the rented bikes per hour were pretty small at one station, I had the idea of combining stations that are close to each other. Because as a user you are usually not fixed on a specific station, you would look on the map in the application and then go to any close station that has bikes. \n",
    "\n",
    "In the next step I manually combined the stations that are close to each other imagine a grid that lays over the map and all the stations in one cell are combined to one. \n",
    "If we bundle stations, we should think about a smarter way."
   ]
  },
  {
   "cell_type": "code",
   "execution_count": 10,
   "metadata": {},
   "outputs": [],
   "source": [
    "def sort_in_clusters(data, level, grid_size, suffix=None):\n",
    "    grid_size = grid_size+1\n",
    "    threshold_lats = np.linspace(data.latitude.min(), data.latitude.max(), grid_size)\n",
    "    threshold_lons = np.linspace(data.longitude.min(), data.longitude.max(), grid_size)\n",
    "\n",
    "    layers = data[['id', 'latitude', 'longitude']]\n",
    "    \n",
    "    layers['lat'] = 0\n",
    "    for i in range(1,len(threshold_lats)):\n",
    "        layers['lat'][layers.latitude >= threshold_lats[i]] = i*100\n",
    "    \n",
    "    layers['lon'] = 0\n",
    "    for i in range(1,len(threshold_lons)):\n",
    "        layers['lon'][layers.longitude >= threshold_lons[i]] = i\n",
    "        \n",
    "    if level == 'clustering':\n",
    "        layers['help_id'] = layers.lat+layers.lon\n",
    "        size = layers.help_id.value_counts()\n",
    "        id_dict = size.reset_index().reset_index().rename(columns={'level_0':'cluster_id', 'index':'help_id', 'help_id':'count'})\n",
    "        stations_rough = layers.merge(id_dict, how='left', left_on='help_id', right_on='help_id')[['id', 'cluster_id', 'latitude', 'longitude']]\n",
    "        return stations_rough\n",
    "    else:\n",
    "        if level == 1:\n",
    "            layers['L1'] = layers.apply(lambda x: str(int(x.lat+x.lon)), axis=1)\n",
    "        else:\n",
    "            layers['L'+str(level)] = layers.apply(lambda x: str(suffix) + '_' + str(int(x.lat+x.lon)), axis=1)\n",
    "        return layers[['id', 'L'+str(level)]]"
   ]
  },
  {
   "cell_type": "code",
   "execution_count": 11,
   "metadata": {},
   "outputs": [],
   "source": [
    "stations_rough = sort_in_clusters(stations, 'clustering', 32)"
   ]
  },
  {
   "cell_type": "code",
   "execution_count": null,
   "metadata": {},
   "outputs": [],
   "source": []
  },
  {
   "cell_type": "markdown",
   "metadata": {},
   "source": [
    "# Kfir's 'Location-Clusters' \n",
    "with levels where we devide intereseting areas again in the next level"
   ]
  },
  {
   "cell_type": "code",
   "execution_count": 12,
   "metadata": {},
   "outputs": [],
   "source": [
    "# layers - sub-layers\n",
    "# level 1, devide in 4 parts\n",
    "layers = sort_in_clusters(stations, level=1, grid_size=4)\n",
    "stations = stations.merge(layers, how='left', left_on='id', right_on='id').fillna('0')"
   ]
  },
  {
   "cell_type": "code",
   "execution_count": 13,
   "metadata": {},
   "outputs": [],
   "source": [
    "# level 2, take busy clusters from level 1 and divide in 3 parts\n",
    "layers_combined = pd.DataFrame(columns=['id', 'L2'])\n",
    "for L1_id in ['102', '2']:\n",
    "    data_subcluster = stations[stations.L1 == L1_id]\n",
    "    layers = sort_in_clusters(data_subcluster, level=2, grid_size=4, suffix=L1_id)\n",
    "    layers_combined = pd.concat([layers_combined, layers], join='inner', ignore_index=True)"
   ]
  },
  {
   "cell_type": "code",
   "execution_count": 14,
   "metadata": {},
   "outputs": [],
   "source": [
    "layers_combined['id'] = layers_combined.id.apply(lambda x: int(x))  # transform into in, otherwise merge doesnt work\n",
    "stations = stations.merge(layers_combined, how='left', left_on='id', right_on='id').fillna('0')"
   ]
  },
  {
   "cell_type": "code",
   "execution_count": 15,
   "metadata": {},
   "outputs": [],
   "source": [
    "# expand stations_rough with L1 and L2 information\n",
    "stations_rough = stations_rough.merge(stations[['id', 'L1', 'L2']], how='left', left_on='id', right_on='id')\n",
    "cluster_size = stations_rough.groupby(by=['cluster_id', 'L1', 'L2']).count().reset_index().rename(columns={'id': 'cluster_size'})[\n",
    "    ['cluster_id', 'cluster_size', 'L1', 'L2']]"
   ]
  },
  {
   "cell_type": "code",
   "execution_count": 16,
   "metadata": {},
   "outputs": [
    {
     "data": {
      "text/plain": [
       "<matplotlib.collections.PathCollection at 0x7f8423991a20>"
      ]
     },
     "execution_count": 16,
     "metadata": {},
     "output_type": "execute_result"
    },
    {
     "data": {
      "image/png": "[encoded data removed]",
      "text/plain": [
       "<Figure size 432x288 with 1 Axes>"
      ]
     },
     "metadata": {
      "needs_background": "light"
     },
     "output_type": "display_data"
    }
   ],
   "source": [
    "plt.scatter(stations.latitude, stations.longitude, marker='.', s=20)\n",
    "\n",
    "p = stations_rough\n",
    "prob2 = stations[stations.id.apply(lambda x: x in set(p[p.L2 == '102_102'].id))]\n",
    "prob = stations[stations.id.apply(lambda x: x in set(p[p.L1 == '102'].id))]\n",
    "plt.scatter(prob.latitude, prob.longitude, marker='.', c='r', s=20)\n",
    "plt.scatter(prob2.latitude, prob2.longitude, marker='.', c='k', s=20)"
   ]
  },
  {
   "cell_type": "code",
   "execution_count": 17,
   "metadata": {},
   "outputs": [
    {
     "data": {
      "text/html": [
       "<div>\n",
       "<style scoped>\n",
       "    .dataframe tbody tr th:only-of-type {\n",
       "        vertical-align: middle;\n",
       "    }\n",
       "\n",
       "    .dataframe tbody tr th {\n",
       "        vertical-align: top;\n",
       "    }\n",
       "\n",
       "    .dataframe thead th {\n",
       "        text-align: right;\n",
       "    }\n",
       "</style>\n",
       "<table border=\"1\" class=\"dataframe\">\n",
       "  <thead>\n",
       "    <tr style=\"text-align: right;\">\n",
       "      <th></th>\n",
       "      <th>id</th>\n",
       "      <th>cluster_id</th>\n",
       "      <th>latitude</th>\n",
       "      <th>longitude</th>\n",
       "      <th>L1</th>\n",
       "      <th>L2</th>\n",
       "    </tr>\n",
       "  </thead>\n",
       "  <tbody>\n",
       "    <tr>\n",
       "      <th>0</th>\n",
       "      <td>31324</td>\n",
       "      <td>0</td>\n",
       "      <td>38.911268</td>\n",
       "      <td>-77.041829</td>\n",
       "      <td>102</td>\n",
       "      <td>102_201</td>\n",
       "    </tr>\n",
       "    <tr>\n",
       "      <th>1</th>\n",
       "      <td>32231</td>\n",
       "      <td>100</td>\n",
       "      <td>38.882800</td>\n",
       "      <td>-77.228300</td>\n",
       "      <td>101</td>\n",
       "      <td>0</td>\n",
       "    </tr>\n",
       "    <tr>\n",
       "      <th>2</th>\n",
       "      <td>32408</td>\n",
       "      <td>76</td>\n",
       "      <td>38.959361</td>\n",
       "      <td>-76.946361</td>\n",
       "      <td>203</td>\n",
       "      <td>0</td>\n",
       "    </tr>\n",
       "    <tr>\n",
       "      <th>3</th>\n",
       "      <td>32409</td>\n",
       "      <td>66</td>\n",
       "      <td>38.840107</td>\n",
       "      <td>-76.975300</td>\n",
       "      <td>2</td>\n",
       "      <td>2_203</td>\n",
       "    </tr>\n",
       "    <tr>\n",
       "      <th>4</th>\n",
       "      <td>32410</td>\n",
       "      <td>76</td>\n",
       "      <td>38.954600</td>\n",
       "      <td>-76.959500</td>\n",
       "      <td>203</td>\n",
       "      <td>0</td>\n",
       "    </tr>\n",
       "    <tr>\n",
       "      <th>5</th>\n",
       "      <td>32411</td>\n",
       "      <td>104</td>\n",
       "      <td>38.975505</td>\n",
       "      <td>-76.952199</td>\n",
       "      <td>203</td>\n",
       "      <td>0</td>\n",
       "    </tr>\n",
       "    <tr>\n",
       "      <th>6</th>\n",
       "      <td>32412</td>\n",
       "      <td>103</td>\n",
       "      <td>38.974205</td>\n",
       "      <td>-76.995227</td>\n",
       "      <td>202</td>\n",
       "      <td>0</td>\n",
       "    </tr>\n",
       "    <tr>\n",
       "      <th>7</th>\n",
       "      <td>32413</td>\n",
       "      <td>67</td>\n",
       "      <td>38.939271</td>\n",
       "      <td>-76.955047</td>\n",
       "      <td>103</td>\n",
       "      <td>0</td>\n",
       "    </tr>\n",
       "    <tr>\n",
       "      <th>8</th>\n",
       "      <td>32414</td>\n",
       "      <td>162</td>\n",
       "      <td>38.972500</td>\n",
       "      <td>-76.980700</td>\n",
       "      <td>202</td>\n",
       "      <td>0</td>\n",
       "    </tr>\n",
       "    <tr>\n",
       "      <th>9</th>\n",
       "      <td>32415</td>\n",
       "      <td>107</td>\n",
       "      <td>38.796800</td>\n",
       "      <td>-77.002600</td>\n",
       "      <td>2</td>\n",
       "      <td>2_2</td>\n",
       "    </tr>\n",
       "  </tbody>\n",
       "</table>\n",
       "</div>"
      ],
      "text/plain": [
       "      id  cluster_id   latitude  longitude   L1       L2\n",
       "0  31324           0  38.911268 -77.041829  102  102_201\n",
       "1  32231         100  38.882800 -77.228300  101        0\n",
       "2  32408          76  38.959361 -76.946361  203        0\n",
       "3  32409          66  38.840107 -76.975300    2    2_203\n",
       "4  32410          76  38.954600 -76.959500  203        0\n",
       "5  32411         104  38.975505 -76.952199  203        0\n",
       "6  32412         103  38.974205 -76.995227  202        0\n",
       "7  32413          67  38.939271 -76.955047  103        0\n",
       "8  32414         162  38.972500 -76.980700  202        0\n",
       "9  32415         107  38.796800 -77.002600    2      2_2"
      ]
     },
     "execution_count": 17,
     "metadata": {},
     "output_type": "execute_result"
    }
   ],
   "source": [
    "stations_rough.head(10)"
   ]
  },
  {
   "cell_type": "markdown",
   "metadata": {},
   "source": [
    "the hardcoded fix of some data impurity. No idea why, but somehow some of the cluster_ids appeared in different clusters in L2 even though this should not happen. Probably some problem with rounding the latitude and longitude numbers. So I assigned the whole cluster_id to the L2-cluster, that contains the most stations. "
   ]
  },
  {
   "cell_type": "code",
   "execution_count": 18,
   "metadata": {},
   "outputs": [],
   "source": [
    "def remerge_clusters(data, cluster_id):\n",
    "    subset = data[data.cluster_id == cluster_id]\n",
    "    if subset.shape[0] > 1:\n",
    "        total_size = sum(subset.cluster_size)\n",
    "        L1 = subset['L1'][subset.cluster_size == subset.cluster_size.max()].iloc[0]\n",
    "        L2 = subset.L2[subset.cluster_size == subset.cluster_size.max()].iloc[0]\n",
    "        new_row = pd.DataFrame(data=[[cluster_id, total_size, L1, L2]], columns=list(subset.columns))\n",
    "        return(new_row)\n",
    "    else:\n",
    "        return(subset)\n",
    "    \n",
    "cluster_info = pd.DataFrame(columns=cluster_size.columns)\n",
    "for i in range(0, cluster_size.cluster_id.max()):\n",
    "    new_row = remerge_clusters(cluster_size, i)\n",
    "    cluster_info = pd.concat([cluster_info, new_row], ignore_index=True)"
   ]
  },
  {
   "cell_type": "code",
   "execution_count": 19,
   "metadata": {},
   "outputs": [],
   "source": [
    "cluster_info = pd.DataFrame(columns=cluster_size.columns)\n",
    "for i in range(0, cluster_size.cluster_id.max()):\n",
    "    new_row = remerge_clusters(cluster_size, i)\n",
    "    cluster_info = pd.concat([cluster_info, new_row], ignore_index=True)\n",
    "\n",
    "cluster_info['cluster_id'] = cluster_info.cluster_id.apply(lambda x: int(x))"
   ]
  },
  {
   "cell_type": "code",
   "execution_count": 20,
   "metadata": {},
   "outputs": [],
   "source": [
    "cluster_size = cluster_info"
   ]
  },
  {
   "cell_type": "code",
   "execution_count": null,
   "metadata": {},
   "outputs": [],
   "source": []
  },
  {
   "cell_type": "code",
   "execution_count": null,
   "metadata": {},
   "outputs": [],
   "source": []
  },
  {
   "cell_type": "code",
   "execution_count": 21,
   "metadata": {},
   "outputs": [
    {
     "data": {
      "text/html": [
       "<div>\n",
       "<style scoped>\n",
       "    .dataframe tbody tr th:only-of-type {\n",
       "        vertical-align: middle;\n",
       "    }\n",
       "\n",
       "    .dataframe tbody tr th {\n",
       "        vertical-align: top;\n",
       "    }\n",
       "\n",
       "    .dataframe thead th {\n",
       "        text-align: right;\n",
       "    }\n",
       "</style>\n",
       "<table border=\"1\" class=\"dataframe\">\n",
       "  <thead>\n",
       "    <tr style=\"text-align: right;\">\n",
       "      <th></th>\n",
       "      <th>cluster_id</th>\n",
       "      <th>cluster_size</th>\n",
       "      <th>L1</th>\n",
       "      <th>L2</th>\n",
       "    </tr>\n",
       "  </thead>\n",
       "  <tbody>\n",
       "    <tr>\n",
       "      <th>0</th>\n",
       "      <td>0</td>\n",
       "      <td>19</td>\n",
       "      <td>102</td>\n",
       "      <td>102_101</td>\n",
       "    </tr>\n",
       "    <tr>\n",
       "      <th>1</th>\n",
       "      <td>1</td>\n",
       "      <td>16</td>\n",
       "      <td>102</td>\n",
       "      <td>102_101</td>\n",
       "    </tr>\n",
       "    <tr>\n",
       "      <th>2</th>\n",
       "      <td>2</td>\n",
       "      <td>14</td>\n",
       "      <td>102</td>\n",
       "      <td>102_102</td>\n",
       "    </tr>\n",
       "    <tr>\n",
       "      <th>3</th>\n",
       "      <td>3</td>\n",
       "      <td>14</td>\n",
       "      <td>102</td>\n",
       "      <td>102_102</td>\n",
       "    </tr>\n",
       "    <tr>\n",
       "      <th>4</th>\n",
       "      <td>4</td>\n",
       "      <td>13</td>\n",
       "      <td>102</td>\n",
       "      <td>102_201</td>\n",
       "    </tr>\n",
       "  </tbody>\n",
       "</table>\n",
       "</div>"
      ],
      "text/plain": [
       "   cluster_id cluster_size   L1       L2\n",
       "0           0           19  102  102_101\n",
       "1           1           16  102  102_101\n",
       "2           2           14  102  102_102\n",
       "3           3           14  102  102_102\n",
       "4           4           13  102  102_201"
      ]
     },
     "execution_count": 21,
     "metadata": {},
     "output_type": "execute_result"
    }
   ],
   "source": [
    "cluster_size.head()"
   ]
  },
  {
   "cell_type": "code",
   "execution_count": 22,
   "metadata": {},
   "outputs": [
    {
     "data": {
      "text/html": [
       "<div>\n",
       "<style scoped>\n",
       "    .dataframe tbody tr th:only-of-type {\n",
       "        vertical-align: middle;\n",
       "    }\n",
       "\n",
       "    .dataframe tbody tr th {\n",
       "        vertical-align: top;\n",
       "    }\n",
       "\n",
       "    .dataframe thead th {\n",
       "        text-align: right;\n",
       "    }\n",
       "</style>\n",
       "<table border=\"1\" class=\"dataframe\">\n",
       "  <thead>\n",
       "    <tr style=\"text-align: right;\">\n",
       "      <th></th>\n",
       "      <th>id</th>\n",
       "      <th>latitude</th>\n",
       "      <th>longitude</th>\n",
       "      <th>capacity</th>\n",
       "      <th>L1</th>\n",
       "      <th>L2</th>\n",
       "    </tr>\n",
       "  </thead>\n",
       "  <tbody>\n",
       "    <tr>\n",
       "      <th>0</th>\n",
       "      <td>31324</td>\n",
       "      <td>38.911268</td>\n",
       "      <td>-77.041829</td>\n",
       "      <td>19</td>\n",
       "      <td>102</td>\n",
       "      <td>102_201</td>\n",
       "    </tr>\n",
       "    <tr>\n",
       "      <th>1</th>\n",
       "      <td>32231</td>\n",
       "      <td>38.882800</td>\n",
       "      <td>-77.228300</td>\n",
       "      <td>16</td>\n",
       "      <td>101</td>\n",
       "      <td>0</td>\n",
       "    </tr>\n",
       "    <tr>\n",
       "      <th>2</th>\n",
       "      <td>32408</td>\n",
       "      <td>38.959361</td>\n",
       "      <td>-76.946361</td>\n",
       "      <td>8</td>\n",
       "      <td>203</td>\n",
       "      <td>0</td>\n",
       "    </tr>\n",
       "    <tr>\n",
       "      <th>3</th>\n",
       "      <td>32409</td>\n",
       "      <td>38.840107</td>\n",
       "      <td>-76.975300</td>\n",
       "      <td>15</td>\n",
       "      <td>2</td>\n",
       "      <td>2_203</td>\n",
       "    </tr>\n",
       "    <tr>\n",
       "      <th>4</th>\n",
       "      <td>32410</td>\n",
       "      <td>38.954600</td>\n",
       "      <td>-76.959500</td>\n",
       "      <td>15</td>\n",
       "      <td>203</td>\n",
       "      <td>0</td>\n",
       "    </tr>\n",
       "  </tbody>\n",
       "</table>\n",
       "</div>"
      ],
      "text/plain": [
       "      id   latitude  longitude  capacity   L1       L2\n",
       "0  31324  38.911268 -77.041829        19  102  102_201\n",
       "1  32231  38.882800 -77.228300        16  101        0\n",
       "2  32408  38.959361 -76.946361         8  203        0\n",
       "3  32409  38.840107 -76.975300        15    2    2_203\n",
       "4  32410  38.954600 -76.959500        15  203        0"
      ]
     },
     "execution_count": 22,
     "metadata": {},
     "output_type": "execute_result"
    }
   ],
   "source": [
    "stations.head()"
   ]
  },
  {
   "cell_type": "code",
   "execution_count": 23,
   "metadata": {},
   "outputs": [
    {
     "data": {
      "text/plain": [
       "<matplotlib.collections.PathCollection at 0x7f8423912208>"
      ]
     },
     "execution_count": 23,
     "metadata": {},
     "output_type": "execute_result"
    },
    {
     "data": {
      "image/png": "[encoded data removed]",
      "text/plain": [
       "<Figure size 432x288 with 1 Axes>"
      ]
     },
     "metadata": {
      "needs_background": "light"
     },
     "output_type": "display_data"
    }
   ],
   "source": [
    "plt.scatter(stations_rough.latitude, stations_rough.longitude, marker='.')\n",
    "s01 = stations_rough[stations_rough.cluster_id.apply(lambda x: x in set([100, 0]))]\n",
    "plt.scatter(s01.latitude, s01.longitude, marker='.', c='y')\n",
    "\n",
    "clust = stations_rough[stations_rough.cluster_id.apply(lambda x: x in set([40, 54, 41, 55, 83, 42, 58]))]\n",
    "plt.scatter(clust.latitude, clust.longitude, marker='.', c='r')"
   ]
  },
  {
   "cell_type": "code",
   "execution_count": null,
   "metadata": {},
   "outputs": [],
   "source": []
  },
  {
   "cell_type": "markdown",
   "metadata": {},
   "source": [
    "## Weather data here:"
   ]
  },
  {
   "cell_type": "code",
   "execution_count": 24,
   "metadata": {},
   "outputs": [],
   "source": [
    "with open(cwd+'/data/weatherdata.json') as json_file:\n",
    "    weather = json.load(json_file)\n",
    "weather_df = pd.DataFrame(weather['observations'])\n",
    "weather_df['datetime'] = pd.to_datetime(weather_df['time_gmt'], format='%Y-%m-%d %H:%M:%S')"
   ]
  },
  {
   "cell_type": "code",
   "execution_count": 25,
   "metadata": {},
   "outputs": [],
   "source": [
    "phrases = weather_df.phrase.value_counts()  # TODO: yyyey... data cleaning!\n",
    "phrases = phrases.reset_index()"
   ]
  },
  {
   "cell_type": "code",
   "execution_count": 26,
   "metadata": {},
   "outputs": [],
   "source": [
    "phrases['wind'] = phrases['index'].apply(lambda x: int('Windy' in x))"
   ]
  },
  {
   "cell_type": "code",
   "execution_count": 27,
   "metadata": {},
   "outputs": [],
   "source": [
    "winter = ['Wintry', 'Snow', 'Freezing', 'Sleet']\n",
    "thunder = ['T-', 'Thunder', 'Squalls']\n",
    "extreme = ['Heavy', 'T-Storm', 'Thunder', 'Squalls']\n",
    "\n",
    "phrases['wintry'] = phrases['index'].apply(lambda x: int(any([term in x for term in winter])))\n",
    "phrases['thunderstorm'] = phrases['index'].apply(lambda x: int(any([term in x for term in thunder])))\n",
    "phrases['extreme_weather'] = phrases['index'].apply(lambda x: int(any([term in x for term in extreme])))"
   ]
  },
  {
   "cell_type": "code",
   "execution_count": 28,
   "metadata": {},
   "outputs": [],
   "source": [
    "light_rain = ['Light Rain', 'Light Drizzle', 'Light Freezing Rain'] # give 1\n",
    "heavy_rain = ['Rain', 'Heavy Rain'] # give 2, do this first because otherwise would overwrite 'Light Rain'\n",
    "foggy = ['Fog', 'Mist', 'Haze']\n",
    "clear_sky = ['Fair', 'Partly Cloudy'] # give 1\n",
    "\n",
    "phrases['foggy'] = phrases['index'].apply(lambda x: int(any([term in x for term in foggy])))\n",
    "\n",
    "phrases['rain'] = 0\n",
    "phrases['rain'][phrases['index'].apply(lambda x: any([term in x for term in heavy_rain]))] = 2\n",
    "phrases['rain'][phrases['index'].apply(lambda x: any([term in x for term in light_rain]))] = 1\n",
    "\n",
    "phrases['clear_sky'] = phrases['index'].apply(lambda x: int(any([term in x for term in clear_sky])))"
   ]
  },
  {
   "cell_type": "code",
   "execution_count": 29,
   "metadata": {},
   "outputs": [],
   "source": [
    "phrases = phrases.drop(columns='phrase')\n",
    "phrases.rename(columns={'index': 'phrase'}, inplace=True)"
   ]
  },
  {
   "cell_type": "code",
   "execution_count": 30,
   "metadata": {},
   "outputs": [],
   "source": [
    "weatherdata = weather_df\n",
    "weather_phrases = phrases"
   ]
  },
  {
   "cell_type": "markdown",
   "metadata": {},
   "source": [
    "# tripdata to pickups per station \n",
    "and per time window of 90 minutes"
   ]
  },
  {
   "cell_type": "code",
   "execution_count": 31,
   "metadata": {},
   "outputs": [
    {
     "name": "stdout",
     "output_type": "stream",
     "text": [
      "2018-05-25 00:00:00 2018-05-25 01:30:00\n",
      "2018-05-25 01:30:00 2018-05-25 03:00:00\n",
      "2018-05-25 03:00:00 2018-05-25 04:30:00\n",
      "2018-05-25 04:30:00 2018-05-25 06:00:00\n",
      "2018-05-25 06:00:00 2018-05-25 07:30:00\n",
      "2018-05-25 07:30:00 2018-05-25 09:00:00\n",
      "2018-05-25 09:00:00 2018-05-25 10:30:00\n",
      "2018-05-25 10:30:00 2018-05-25 12:00:00\n",
      "2018-05-25 12:00:00 2018-05-25 13:30:00\n",
      "2018-05-25 13:30:00 2018-05-25 15:00:00\n",
      "2018-05-25 15:00:00 2018-05-25 16:30:00\n",
      "2018-05-25 16:30:00 2018-05-25 18:00:00\n",
      "2018-05-25 18:00:00 2018-05-25 19:30:00\n",
      "2018-05-25 19:30:00 2018-05-25 21:00:00\n",
      "2018-05-25 21:00:00 2018-05-25 22:30:00\n",
      "2018-05-25 22:30:00 2018-05-26 00:00:00\n"
     ]
    }
   ],
   "source": [
    "# within next 90 minutes will have x pickups at station\n",
    "time = datetime(year=2018, month=5, day=25, hour=0, minute=0)\n",
    "delta = timedelta(minutes=90)\n",
    "\n",
    "data = data[['starttime', 'Start station number']]\n",
    "data_year = stations_rough[['id', 'cluster_id']].merge(data, how='right', left_on='id', right_on='Start station number')[\n",
    "        ['starttime', 'cluster_id']]\n",
    "\n",
    "pickup_list = list()\n",
    "for i in range(0,16):\n",
    "    print(time, time+delta)\n",
    "    pickups = data_year[(data_year.starttime >= time) &\n",
    "                 (data_year.starttime < time + delta)].groupby(['cluster_id']).count()\n",
    "#                      (data_s.starttime < time+delta)].groupby(['id', 'latitude', 'longitude', 'Member type']).count()\n",
    "   \n",
    "    # multi-index to single index and rename columns\n",
    "    pickups = pickups.reset_index()\n",
    "    pickups.rename(columns={'starttime': 'pickups'}, inplace=True)\n",
    "    pickups = cluster_size.merge(pickups, how='left', left_on='cluster_id', right_on='cluster_id').fillna(0)\n",
    "    \n",
    "    pickups['holiday'] = int(time in us_holidays)\n",
    "    pickups['weekday'] = time.weekday()\n",
    "    pickups['datetime'] = time\n",
    "    pickups['time'] = time.time()\n",
    "    pickups['month'] = time.month\n",
    "\n",
    "    # weather data\n",
    "    try:\n",
    "        current_weather = weatherdata[(weatherdata.datetime >= time - timedelta(minutes=30)) &\n",
    "                                     (weatherdata.datetime < time + timedelta(minutes=29))].iloc[0]\n",
    "    except IndexError:\n",
    "        print('use last available weather information')\n",
    "        pass\n",
    "\n",
    "    pickups['phrase'] = current_weather['phrase']\n",
    "    pickups['temperature'] = current_weather['temp']\n",
    "    pickups['humidity'] = current_weather['humidity']\n",
    "    pickups = pickups.merge(weather_phrases, how='left')\n",
    "    pickups = pickups.drop(columns='phrase')\n",
    "\n",
    "    pickup_list.append(pickups)\n",
    "    time += delta\n"
   ]
  },
  {
   "cell_type": "code",
   "execution_count": null,
   "metadata": {},
   "outputs": [],
   "source": []
  },
  {
   "cell_type": "code",
   "execution_count": 32,
   "metadata": {},
   "outputs": [
    {
     "name": "stdout",
     "output_type": "stream",
     "text": [
      "(170, 19) (340, 19)\n",
      "(170, 19) (510, 19)\n",
      "(170, 19) (680, 19)\n",
      "(170, 19) (850, 19)\n",
      "(170, 19) (1020, 19)\n",
      "(170, 19) (1190, 19)\n",
      "(170, 19) (1360, 19)\n",
      "(170, 19) (1530, 19)\n",
      "(170, 19) (1700, 19)\n",
      "(170, 19) (1870, 19)\n",
      "(170, 19) (2040, 19)\n",
      "(170, 19) (2210, 19)\n",
      "(170, 19) (2380, 19)\n",
      "(170, 19) (2550, 19)\n",
      "(170, 19) (2720, 19)\n"
     ]
    }
   ],
   "source": [
    "# create long dataframe from short sub-windows\n",
    "pickups = pickup_list[0]\n",
    "\n",
    "for i in range(1, len(pickup_list)):\n",
    "    pickups_new = pickup_list[i]\n",
    "    pickups = pickups.append(pickups_new, ignore_index=True)\n",
    "    print(pickups_new.shape, pickups.shape)"
   ]
  },
  {
   "cell_type": "code",
   "execution_count": null,
   "metadata": {
    "scrolled": true
   },
   "outputs": [],
   "source": []
  },
  {
   "cell_type": "markdown",
   "metadata": {},
   "source": [
    "This dataframe above is the most minimal version of what we will have as the input of the decision trees. \n",
    "\n",
    "- station_id: identifier (here I used the grid-ids, the \"combined stations\")\n",
    "- lat/lon: location of the station, here one-to-one mapping\n",
    "\n",
    "other variables that will be usefull for the decision tree:\n",
    "- timeframe: We should think about how to represent the timeframe better, here I just used the end-time. \n",
    "- weekday/weekend: either 0-1 (two categories) or 0-6 (each day)\n",
    "- holiday: 0-1\n",
    "- season: 0-3 (4 seasons), or 0-11 (12 months)?\n",
    "- weather: sunny, rainy, windy, snowy, cold ... I really think we should put in some effort to get data. It should not take too long once we've found a nice dataset\n",
    "- inner-/outer city: maybe we don't need it because it is already somehow captured in the location (lat/lon). Will have high correlation with this one\n",
    "- how many other stations in cluster: No idea if it's important, but I guess it has some relevance.\n",
    "- ... please complete\n",
    "- type of customer (member or casual), it really makes a difference!\n",
    "\n",
    "target variable:\n",
    "- pickups: how many bikes got picked up at the station. Integers or integer-ranges?"
   ]
  },
  {
   "cell_type": "code",
   "execution_count": 33,
   "metadata": {},
   "outputs": [],
   "source": [
    "# logarithmic value to see the distribution better in the color scheme\n",
    "pickups['log_pickups'] = np.log(pickups.pickups) "
   ]
  },
  {
   "cell_type": "code",
   "execution_count": null,
   "metadata": {},
   "outputs": [],
   "source": []
  },
  {
   "cell_type": "code",
   "execution_count": 34,
   "metadata": {},
   "outputs": [],
   "source": [
    "# merge back, from cluster to all stations in cluster\n",
    "pickups = pickups.merge(stations_rough[['cluster_id', 'id', 'latitude', 'longitude']], how='left', left_on='cluster_id', right_on='cluster_id')"
   ]
  },
  {
   "cell_type": "code",
   "execution_count": 35,
   "metadata": {},
   "outputs": [
    {
     "data": {
      "text/plain": [
       "<matplotlib.collections.PathCollection at 0x7f84239a8fd0>"
      ]
     },
     "execution_count": 35,
     "metadata": {},
     "output_type": "execute_result"
    },
    {
     "data": {
      "image/png": "[encoded data removed]",
      "text/plain": [
       "<Figure size 432x288 with 1 Axes>"
      ]
     },
     "metadata": {
      "needs_background": "light"
     },
     "output_type": "display_data"
    }
   ],
   "source": [
    "plt.scatter(stations_rough.latitude, stations_rough.longitude, marker='.', c='k', alpha=0.2)\n",
    "plt.scatter(pickups.latitude, pickups.longitude, marker='.', c=pickups.log_pickups, cmap='viridis')\n",
    "prob = stations[stations.id.apply(lambda x: x in set(p[p.cluster_id == 7].id))]\n",
    "plt.scatter(prob.latitude, prob.longitude, marker='.', c='r')\n",
    "\n",
    "# plt.colorbar()"
   ]
  },
  {
   "cell_type": "code",
   "execution_count": 36,
   "metadata": {},
   "outputs": [],
   "source": [
    "def log_rel_pickups(x, minimum):\n",
    "    if x == 0:\n",
    "        return minimum*1.00000001\n",
    "    else:\n",
    "        return np.log(x)"
   ]
  },
  {
   "cell_type": "code",
   "execution_count": 37,
   "metadata": {},
   "outputs": [],
   "source": [
    "grid_size = 4+1\n",
    "threshold_lats_1 = np.linspace(stations.latitude.min(), stations.latitude.max(), grid_size)\n",
    "threshold_lons_1 = np.linspace(stations.longitude.min(), stations.longitude.max(), grid_size)"
   ]
  },
  {
   "cell_type": "code",
   "execution_count": 38,
   "metadata": {},
   "outputs": [],
   "source": [
    "morning = pickups[pickups.time == datetime(year=2018, month=5, day=25, hour=7, minute=30).time()].reset_index()\n",
    "morning['rel_pickups'] =  morning.pickups/morning.cluster_size\n",
    "min_rel = morning.rel_pickups.min()\n",
    "morning['log_rel_pickups'] = morning.rel_pickups.apply(lambda x: log_rel_pickups(x, min_rel))\n",
    "\n",
    "evening = pickups[pickups.time == datetime(year=2018, month=5, day=25, hour=16, minute=30).time()].reset_index()\n",
    "evening['rel_pickups'] =  evening.pickups/evening.cluster_size\n",
    "min_rel = evening.rel_pickups.min()\n",
    "evening['log_rel_pickups'] = evening.rel_pickups.apply(lambda x: log_rel_pickups(x, min_rel))"
   ]
  },
  {
   "cell_type": "code",
   "execution_count": 39,
   "metadata": {},
   "outputs": [
    {
     "data": {
      "text/plain": [
       "<matplotlib.collections.LineCollection at 0x7f841e057518>"
      ]
     },
     "execution_count": 39,
     "metadata": {},
     "output_type": "execute_result"
    },
    {
     "data": {
      "image/png": "[encoded data removed]",
      "text/plain": [
       "<Figure size 864x432 with 2 Axes>"
      ]
     },
     "metadata": {
      "needs_background": "light"
     },
     "output_type": "display_data"
    }
   ],
   "source": [
    "fig, axs = plt.subplots(1, 2, figsize=(12, 6))\n",
    "ax = axs[0]\n",
    "ax.scatter(stations.latitude, stations.longitude, marker='.', c='k', alpha=0.2)\n",
    "ax.scatter(morning.latitude, morning.longitude,  marker='.', c=morning.log_rel_pickups)\n",
    "ax.vlines(x=threshold_lats_1, ymin=stations.longitude.min(), ymax=stations.longitude.max())\n",
    "ax.hlines(y=threshold_lons_1, xmin=stations.latitude.min(), xmax=stations.latitude.max())\n",
    "\n",
    "ax = axs[1]\n",
    "ax.scatter(stations.latitude, stations.longitude, marker='.', c='k', alpha=0.2)\n",
    "ax.scatter(evening.latitude, evening.longitude,  marker='.', c=evening.log_rel_pickups, cmap='viridis')\n",
    "ax.vlines(x=threshold_lats_1, ymin=stations.longitude.min(), ymax=stations.longitude.max())\n",
    "ax.hlines(y=threshold_lons_1, xmin=stations.latitude.min(), xmax=stations.latitude.max())"
   ]
  },
  {
   "cell_type": "code",
   "execution_count": null,
   "metadata": {},
   "outputs": [],
   "source": []
  },
  {
   "cell_type": "markdown",
   "metadata": {},
   "source": [
    "# Calculate demand\n",
    "\n",
    "Demand is equal to returns that happened until 30 minutes ago, minus pickups.\n",
    "\n",
    "This would result in a range of -260 to +260. The extreme values are in the center of the city at clusters 0 and 1, the peak times are 9:00, where we have much more returns than pickups (+260), and 16:30 where we have much more pickups than returns. But also, the clusters in the center contain more stations than the ones outside (they are more dense), which suggests to calculate first the demand (demand = returns - pickups, negative numbers means we haven't had enough bikes, -x --> x bikes are missing, positive numbers: we had more returns than pickups, have x bikes over). \n",
    "\n",
    "The next step is to calculate the relative demand, which is demand_per_cluster/cluster_size. To get the relative demand per station. Otherwise of course big clusters will have more extreme values than small clusters. This results in decimal numbers, e.g. a cluster of size 3 with demand 10 has relative demand 3.33333.\n",
    "\n",
    "Since we want to predict the relative demand, decimal numbers are very impractical. Using the next bigger integer leads to a good approximation. (math.ceil(3.3333) --> 4) When this is calculated now back to the whole cluster, we would get a prediction of 4*3=12 pickups, which is still relatively close. \n",
    "\n",
    "\n",
    "To think about it for extreme values: \n",
    "\n",
    "Assume we had 4 pickups in a cluster of 5 stations, or 1 pickup in a cluster of 5 stations, then we get a decimal number x between 0 and 1. math.ceil(x)=1 in any case. Multiplied by the number_of_stations_in_cluster we get one pickup per station. It is an over-estimation but makes sense in the real world application. The service provider prefers to over-supply bikes to ensure a smooth service. \n",
    "\n",
    "With this method we get the target variable (demand prediction) 'ceil', which ranges from about -22 to +31. \n",
    "(Haven't seen all the numbers yet, this was the result for 2018.)"
   ]
  },
  {
   "cell_type": "code",
   "execution_count": 40,
   "metadata": {},
   "outputs": [],
   "source": [
    "pickups = pd.read_pickle(cwd+'/data/pickups_2018.pkl')\n",
    "returns = pd.read_pickle(cwd+'/data/returns_2018.pkl')"
   ]
  },
  {
   "cell_type": "code",
   "execution_count": 41,
   "metadata": {},
   "outputs": [],
   "source": [
    "pickups['rel_pickups'] = pickups.pickups/pickups.cluster_size\n",
    "returns['rel_returns'] = returns.returns/returns.cluster_size\n",
    "\n",
    "results = copy.deepcopy(returns)\n",
    "results['demand'] = returns.returns - pickups.pickups\n",
    "results['rel_demand'] = results.demand/results.cluster_size"
   ]
  },
  {
   "cell_type": "code",
   "execution_count": null,
   "metadata": {},
   "outputs": [],
   "source": []
  },
  {
   "cell_type": "code",
   "execution_count": 42,
   "metadata": {},
   "outputs": [],
   "source": [
    "results['ceil'] = results['rel_demand'].apply(lambda x: math.ceil(x))"
   ]
  },
  {
   "cell_type": "code",
   "execution_count": 43,
   "metadata": {},
   "outputs": [],
   "source": [
    "results = results[['cluster_id', 'L1', 'L2', \n",
    "                   'weekday', 'holiday', 'time', \n",
    "                   'month', 'clear_sky', 'extreme_weather', \n",
    "                   'foggy', 'humidity', 'thunderstorm', \n",
    "                   'rain', 'temperature', 'wind', \n",
    "                   'wintry', 'ceil']]"
   ]
  },
  {
   "cell_type": "code",
   "execution_count": 44,
   "metadata": {},
   "outputs": [],
   "source": [
    "hist = results.groupby(by='ceil').count().reset_index()"
   ]
  },
  {
   "cell_type": "code",
   "execution_count": 45,
   "metadata": {},
   "outputs": [
    {
     "data": {
      "text/plain": [
       "(0, 4000)"
      ]
     },
     "execution_count": 45,
     "metadata": {},
     "output_type": "execute_result"
    },
    {
     "data": {
      "image/png": "[encoded data removed]",
      "text/plain": [
       "<Figure size 432x288 with 1 Axes>"
      ]
     },
     "metadata": {
      "needs_background": "light"
     },
     "output_type": "display_data"
    }
   ],
   "source": [
    "plt.bar(x = hist['ceil'], height=hist['cluster_id'])\n",
    "plt.ylim(0,4000)"
   ]
  },
  {
   "cell_type": "code",
   "execution_count": null,
   "metadata": {},
   "outputs": [],
   "source": []
  },
  {
   "cell_type": "markdown",
   "metadata": {},
   "source": [
    "# Drop zero-rows in pickup and returns"
   ]
  },
  {
   "cell_type": "code",
   "execution_count": 46,
   "metadata": {},
   "outputs": [],
   "source": [
    "year = 2017\n",
    "pickups = pd.read_pickle(cwd+'/data/pickups_' + str(year) + '.pkl')\n",
    "returns = pd.read_pickle(cwd+'/data/returns_' + str(year) + '.pkl')\n",
    "\n",
    "returns_wo_zero = returns[returns.returns != 0]\n",
    "pickups_wo_zero = pickups[pickups.pickups != 0]\n",
    "\n",
    "returns_wo_zero.to_csv(cwd+'/data/returns_wo_zero_' + str(year) + '.csv')\n",
    "pickups_wo_zero.to_csv(cwd+'/data/pickups_wo_zero_' + str(year) + '.csv')"
   ]
  },
  {
   "cell_type": "markdown",
   "metadata": {},
   "source": [
    "# Drop variables that we are not interested in "
   ]
  },
  {
   "cell_type": "code",
   "execution_count": 47,
   "metadata": {},
   "outputs": [],
   "source": [
    "results = results[['cluster_id', 'L1', 'L2', \n",
    "                   'weekday', 'holiday', 'time', \n",
    "                   'month', 'clear_sky', 'extreme_weather', \n",
    "                   'foggy', 'humidity', 'thunderstorm', \n",
    "                   'rain', 'temperature', 'wind', \n",
    "                   'wintry', 'ceil']]"
   ]
  },
  {
   "cell_type": "markdown",
   "metadata": {},
   "source": [
    "# Fix New Years issue"
   ]
  },
  {
   "cell_type": "code",
   "execution_count": 78,
   "metadata": {},
   "outputs": [
    {
     "name": "stdout",
     "output_type": "stream",
     "text": [
      "2016\n",
      "(989664, 20) (989664, 20)\n",
      "(989664, 19) (989664, 19)\n",
      "2017\n",
      "(986960, 20) (986960, 20)\n",
      "(986960, 19) (986960, 19)\n",
      "2018\n",
      "(986960, 20) (986960, 20)\n",
      "(986960, 19) (986960, 19)\n",
      "2019\n",
      "(489424, 20) (489424, 20)\n",
      "(489424, 19) (489424, 19)\n"
     ]
    }
   ],
   "source": [
    "for year in [2016, 2017, 2018, 2019]:\n",
    "    print(year)\n",
    "    pickups = pd.read_pickle(cwd+'/data/pickups_' + str(year) + '.pkl')\n",
    "    pickups_jan = pd.read_pickle(cwd+'/data/pickups_jan_' + str(year) + '.pkl')\n",
    "\n",
    "    returns = pd.read_pickle(cwd+'/data/returns_' + str(year) + '.pkl')\n",
    "    returns_jan = pd.read_pickle(cwd+'/data/returns_jan_' + str(year) + '.pkl')\n",
    "\n",
    "    start = datetime(year=year, month=1, day=1, hour=0, minute=0)\n",
    "    end   = datetime(year=year, month=2, day=1, hour=0, minute=0) \n",
    "    pickups_rest = pickups[~((pickups.datetime >= start) & (pickups.datetime < end))]\n",
    "    returns_rest = returns[~((returns.datetime >= start) & (returns.datetime < end))]\n",
    "    \n",
    "\n",
    "    pickups_new = pd.concat([pickups_jan, pickups_rest], ignore_index=True)\n",
    "    print(pickups_new.shape, pickups.shape)\n",
    "    pickups_new.to_csv(cwd+'/data/pickups_' + str(year) + '.csv')\n",
    "    pickups_new.to_pickle(cwd+'/data/pickups_' + str(year) + '.pkl')\n",
    "\n",
    "    returns_new = pd.concat([returns_jan, returns_rest], ignore_index=True)\n",
    "    print(returns_new.shape, returns.shape)\n",
    "    returns_new.to_csv(cwd+'/data/returns_' + str(year) + '.csv')\n",
    "    returns_new.to_pickle(cwd+'/data/returns_' + str(year) + '.pkl')"
   ]
  },
  {
   "cell_type": "markdown",
   "metadata": {},
   "source": [
    "# Combine yearly results to whole results:"
   ]
  },
  {
   "cell_type": "code",
   "execution_count": 91,
   "metadata": {},
   "outputs": [
    {
     "name": "stdout",
     "output_type": "stream",
     "text": [
      "load file:  results_2012.pkl\n",
      "(83824, 17) (83824, 17)\n",
      "load file:  results_2013.pkl\n",
      "(167648, 17) (83824, 17)\n",
      "load file:  results_2014.pkl\n",
      "(251472, 17) (83824, 17)\n",
      "load file:  results_2015.pkl\n",
      "(335296, 17) (83824, 17)\n",
      "load file:  results_2016.pkl\n",
      "(419120, 17) (989664, 17)\n",
      "load file:  results_2017.pkl\n",
      "(1408784, 17) (986960, 17)\n",
      "load file:  results_2018.pkl\n",
      "(2395744, 17) (986960, 17)\n",
      "load file:  results_2019.pkl\n",
      "(3382704, 17) (489424, 17)\n",
      "save file\n"
     ]
    }
   ],
   "source": [
    "path = cwd+'/data/combine'\n",
    "files = [f for f in listdir(path) if isfile(join(path, f))]\n",
    "files.sort()\n",
    "files\n",
    "\n",
    "data = pd.read_pickle(path+'/'+files[0])\n",
    "for file in files[1:]:\n",
    "    print('load file: ', file)\n",
    "    data_new = pd.read_pickle(path+'/'+file)\n",
    "    print(data.shape, data_new.shape)\n",
    "    data = pd.concat([data, data_new], ignore_index=True)\n",
    "\n",
    "print('save file')\n",
    "data.to_csv(cwd + '/data/combine/results_all.csv')\n",
    "data.to_pickle(cwd + '/data/combine/results_all.pkl')"
   ]
  },
  {
   "cell_type": "code",
   "execution_count": null,
   "metadata": {},
   "outputs": [],
   "source": []
  },
  {
   "cell_type": "code",
   "execution_count": null,
   "metadata": {},
   "outputs": [],
   "source": []
  },
  {
   "cell_type": "code",
   "execution_count": null,
   "metadata": {},
   "outputs": [],
   "source": []
  },
  {
   "cell_type": "code",
   "execution_count": null,
   "metadata": {},
   "outputs": [],
   "source": []
  },
  {
   "cell_type": "code",
   "execution_count": null,
   "metadata": {},
   "outputs": [],
   "source": []
  },
  {
   "cell_type": "code",
   "execution_count": null,
   "metadata": {},
   "outputs": [],
   "source": []
  },
  {
   "cell_type": "code",
   "execution_count": null,
   "metadata": {},
   "outputs": [],
   "source": []
  },
  {
   "cell_type": "code",
   "execution_count": null,
   "metadata": {},
   "outputs": [],
   "source": []
  },
  {
   "cell_type": "markdown",
   "metadata": {},
   "source": [
    "# What is next:\n",
    "\n",
    "### Data:\n",
    "- Data collection (trip data, stations, weather, holiday (bank-)...)\n",
    "- more data cleaning and feature engineering, find more features\n",
    "- split data for cross validation (leave out part for prediction of the trees and for training of the NNet/combination of trees)\n",
    "\n",
    "### AI-Part:\n",
    "#### Build trees\n",
    "- code for decision tree with Entropy/Information Gain\n",
    "- code for decision tree with random split\n",
    "- random forest trees (where one variable is left out)\n",
    "- other ways of building trees\n",
    "\n",
    "#### Combine trees:\n",
    "- uniformly\n",
    "- with fancy Neural Nets\n",
    "- something like AdaBoost\n",
    "\n",
    "### Visualization\n",
    "- demand on map\n",
    "- time moving map?\n",
    "- real-time prediction?\n",
    "\n"
   ]
  },
  {
   "cell_type": "code",
   "execution_count": null,
   "metadata": {},
   "outputs": [],
   "source": []
  }
 ],
 "metadata": {
  "kernelspec": {
   "display_name": "Python 3",
   "language": "python",
   "name": "python3"
  },
  "language_info": {
   "codemirror_mode": {
    "name": "ipython",
    "version": 3
   },
   "file_extension": ".py",
   "mimetype": "text/x-python",
   "name": "python",
   "nbconvert_exporter": "python",
   "pygments_lexer": "ipython3",
   "version": "3.5.2"
  }
 },
 "nbformat": 4,
 "nbformat_minor": 2
}
