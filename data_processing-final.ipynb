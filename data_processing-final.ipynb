{
 "cells": [
  {
   "cell_type": "markdown",
   "metadata": {},
   "source": [
    "This is the beginning of the data cleaning and some very short exploratory analysis. \n",
    "\n",
    "In the end of the notebook is a dataframe that is similar to what we will have as an imput for the decision tree. \n",
    "So far only for the pickup of the bikes, but we will do the same for the return of the bikes. \n",
    "\n",
    "It is really just a rough start of the data preprocessing, only to make you more familiar with the data. "
   ]
  },
  {
   "cell_type": "code",
   "execution_count": 2,
   "metadata": {},
   "outputs": [],
   "source": [
    "import warnings\n",
    "warnings.filterwarnings('ignore')"
   ]
  },
  {
   "cell_type": "code",
   "execution_count": 3,
   "metadata": {},
   "outputs": [],
   "source": [
    "import pandas as pd\n",
    "import os \n",
    "from datetime import datetime, timedelta\n",
    "from matplotlib import pyplot as plt\n",
    "import math\n",
    "import numpy as np\n",
    "import copy\n",
    "import holidays\n",
    "import json \n",
    "cwd = os.getcwd()\n",
    "us_holidays = holidays.UnitedStates()"
   ]
  },
  {
   "cell_type": "code",
   "execution_count": 4,
   "metadata": {},
   "outputs": [],
   "source": [
    "from os import listdir\n",
    "from os.path import isfile, join\n",
    "\n",
    "path = cwd+'/data/tripdata'\n",
    "files = [f for f in listdir(path) if isfile(join(path, f))]\n",
    "files.sort()"
   ]
  },
  {
   "cell_type": "code",
   "execution_count": 5,
   "metadata": {},
   "outputs": [],
   "source": [
    "data = pd.read_csv(path+'/'+files[0])\n",
    "for file in files[1:]:\n",
    "    data_month = pd.read_csv(path+'/'+file)\n",
    "    print(data.shape, data_month.shape)\n",
    "    data = data.append(data_month, ignore_index = True)\n",
    "    \n",
    "data['starttime'] = pd.to_datetime(data['Start date'], format='%Y-%m-%d %H:%M:%S')"
   ]
  },
  {
   "cell_type": "code",
   "execution_count": 5,
   "metadata": {},
   "outputs": [
    {
     "data": {
      "text/plain": [
       "Index(['Duration', 'Start date', 'End date', 'Start station number',\n",
       "       'Start station', 'End station number', 'End station', 'Bike number',\n",
       "       'Member type', 'starttime'],\n",
       "      dtype='object')"
      ]
     },
     "execution_count": 5,
     "metadata": {},
     "output_type": "execute_result"
    }
   ],
   "source": [
    "data.columns"
   ]
  },
  {
   "cell_type": "code",
   "execution_count": null,
   "metadata": {},
   "outputs": [],
   "source": []
  },
  {
   "cell_type": "markdown",
   "metadata": {},
   "source": [
    "# geo data"
   ]
  },
  {
   "cell_type": "code",
   "execution_count": 269,
   "metadata": {},
   "outputs": [],
   "source": [
    "stations = pd.read_csv(cwd+'/data/Capital_Bike_Share_Locations.csv')"
   ]
  },
  {
   "cell_type": "code",
   "execution_count": 270,
   "metadata": {
    "scrolled": true
   },
   "outputs": [],
   "source": [
    "# stations.head()"
   ]
  },
  {
   "cell_type": "code",
   "execution_count": 271,
   "metadata": {},
   "outputs": [],
   "source": [
    "stations['CAPACITY'] = stations.NUMBER_OF_BIKES+stations.NUMBER_OF_EMPTY_DOCKS\n",
    "stations = stations[['TERMINAL_NUMBER', 'LATITUDE', 'LONGITUDE', 'CAPACITY']]\n",
    "stations.columns = ['id', 'latitude', 'longitude', 'capacity']"
   ]
  },
  {
   "cell_type": "code",
   "execution_count": null,
   "metadata": {},
   "outputs": [],
   "source": []
  },
  {
   "cell_type": "code",
   "execution_count": 272,
   "metadata": {},
   "outputs": [
    {
     "data": {
      "text/plain": [
       "<matplotlib.collections.PathCollection at 0x7f5341ce5cc0>"
      ]
     },
     "execution_count": 272,
     "metadata": {},
     "output_type": "execute_result"
    },
    {
     "data": {
      "image/png": "[encoded data removed]",
      "text/plain": [
       "<Figure size 432x288 with 1 Axes>"
      ]
     },
     "metadata": {
      "needs_background": "light"
     },
     "output_type": "display_data"
    }
   ],
   "source": [
    "plt.scatter(stations.latitude, stations.longitude, marker='.', s=20)"
   ]
  },
  {
   "cell_type": "code",
   "execution_count": null,
   "metadata": {},
   "outputs": [],
   "source": []
  },
  {
   "cell_type": "markdown",
   "metadata": {},
   "source": [
    "Because the rented bikes per hour were pretty small at one station, I had the idea of combining stations that are close to each other. Because as a user you are usually not fixed on a specific station, you would look on the map in the application and then go to any close station that has bikes. \n",
    "\n",
    "In the next step I manually combined the stations that are close to each other imagine a grid that lays over the map and all the stations in one cell are combined to one. \n",
    "If we bundle stations, we should think about a smarter way."
   ]
  },
  {
   "cell_type": "code",
   "execution_count": 273,
   "metadata": {},
   "outputs": [],
   "source": [
    "def sort_in_clusters(data, level, grid_size, suffix=None):\n",
    "    grid_size = grid_size+1\n",
    "    threshold_lats = np.linspace(data.latitude.min(), data.latitude.max(), grid_size)\n",
    "    threshold_lons = np.linspace(data.longitude.min(), data.longitude.max(), grid_size)\n",
    "\n",
    "    layers = data[['id', 'latitude', 'longitude']]\n",
    "    \n",
    "    layers['lat'] = 0\n",
    "    for i in range(1,len(threshold_lats)):\n",
    "        layers['lat'][layers.latitude >= threshold_lats[i]] = i*100\n",
    "    \n",
    "    layers['lon'] = 0\n",
    "    for i in range(1,len(threshold_lons)):\n",
    "        layers['lon'][layers.longitude >= threshold_lons[i]] = i\n",
    "        \n",
    "    if level == 'clustering':\n",
    "        layers['help_id'] = layers.lat+layers.lon\n",
    "        size = layers.help_id.value_counts()\n",
    "        id_dict = size.reset_index().reset_index().rename(columns={'level_0':'cluster_id', 'index':'help_id', 'help_id':'count'})\n",
    "        stations_rough = layers.merge(id_dict, how='left', left_on='help_id', right_on='help_id')[['id', 'cluster_id', 'latitude', 'longitude']]\n",
    "        return stations_rough\n",
    "    else:\n",
    "        if level == 1:\n",
    "            layers['L1'] = layers.apply(lambda x: str(int(x.lat+x.lon)), axis=1)\n",
    "        else:\n",
    "            layers['L'+str(level)] = layers.apply(lambda x: str(suffix) + '_' + str(int(x.lat+x.lon)), axis=1)\n",
    "        return layers[['id', 'L'+str(level)]]"
   ]
  },
  {
   "cell_type": "code",
   "execution_count": 274,
   "metadata": {},
   "outputs": [],
   "source": [
    "stations_rough = sort_in_clusters(stations, 'clustering', 32)"
   ]
  },
  {
   "cell_type": "code",
   "execution_count": null,
   "metadata": {},
   "outputs": [],
   "source": []
  },
  {
   "cell_type": "markdown",
   "metadata": {},
   "source": [
    "# Kfir's 'Location-Clusters' \n",
    "with levels where we devide intereseting areas again in the next level"
   ]
  },
  {
   "cell_type": "code",
   "execution_count": null,
   "metadata": {},
   "outputs": [],
   "source": [
    "data['demand'] = data['demand'].apply(lambda x: int(x))  # transform into int"
   ]
  },
  {
   "cell_type": "code",
   "execution_count": 275,
   "metadata": {},
   "outputs": [],
   "source": [
    "# layers - sub-layers\n",
    "# level 1, devide in 4 parts\n",
    "layers = sort_in_clusters(stations, level=1, grid_size=4)\n",
    "stations = stations.merge(layers, how='left', left_on='id', right_on='id').fillna('0')"
   ]
  },
  {
   "cell_type": "code",
   "execution_count": 276,
   "metadata": {},
   "outputs": [],
   "source": [
    "# level 2, take busy clusters from level 1 and divide in 3 parts\n",
    "layers_combined = pd.DataFrame(columns=['id', 'L2'])\n",
    "for L1_id in ['102', '2']:\n",
    "    data_subcluster = stations[stations.L1 == L1_id]\n",
    "    layers = sort_in_clusters(data_subcluster, level=2, grid_size=4, suffix=L1_id)\n",
    "    layers_combined = pd.concat([layers_combined, layers], join='inner', ignore_index=True)"
   ]
  },
  {
   "cell_type": "code",
   "execution_count": 277,
   "metadata": {},
   "outputs": [],
   "source": [
    "layers_combined['id'] = layers_combined.id.apply(lambda x: int(x))  # transform into in, otherwise merge doesnt work\n",
    "stations = stations.merge(layers_combined, how='left', left_on='id', right_on='id').fillna('0')"
   ]
  },
  {
   "cell_type": "code",
   "execution_count": 278,
   "metadata": {},
   "outputs": [],
   "source": [
    "# expand stations_rough with L1 and L2 information\n",
    "stations_rough = stations_rough.merge(stations[['id', 'L1', 'L2']], how='left', left_on='id', right_on='id')\n",
    "cluster_size = stations_rough.groupby(by=['cluster_id', 'L1', 'L2']).count().reset_index().rename(columns={'id': 'cluster_size'})[\n",
    "    ['cluster_id', 'cluster_size', 'L1', 'L2']]"
   ]
  },
  {
   "cell_type": "code",
   "execution_count": 279,
   "metadata": {},
   "outputs": [
    {
     "data": {
      "text/plain": [
       "<matplotlib.collections.PathCollection at 0x7f5345ef3c50>"
      ]
     },
     "execution_count": 279,
     "metadata": {},
     "output_type": "execute_result"
    },
    {
     "data": {
      "image/png": "[encoded data removed]",
      "text/plain": [
       "<Figure size 432x288 with 1 Axes>"
      ]
     },
     "metadata": {
      "needs_background": "light"
     },
     "output_type": "display_data"
    }
   ],
   "source": [
    "plt.scatter(stations.latitude, stations.longitude, marker='.', s=20)\n",
    "\n",
    "p = stations_rough\n",
    "prob2 = stations[stations.id.apply(lambda x: x in set(p[p.L2 == '102_102'].id))]\n",
    "prob = stations[stations.id.apply(lambda x: x in set(p[p.L1 == '102'].id))]\n",
    "plt.scatter(prob.latitude, prob.longitude, marker='.', c='r', s=20)\n",
    "plt.scatter(prob2.latitude, prob2.longitude, marker='.', c='k', s=20)"
   ]
  },
  {
   "cell_type": "code",
   "execution_count": 280,
   "metadata": {},
   "outputs": [
    {
     "data": {
      "text/html": [
       "<div>\n",
       "<style scoped>\n",
       "    .dataframe tbody tr th:only-of-type {\n",
       "        vertical-align: middle;\n",
       "    }\n",
       "\n",
       "    .dataframe tbody tr th {\n",
       "        vertical-align: top;\n",
       "    }\n",
       "\n",
       "    .dataframe thead th {\n",
       "        text-align: right;\n",
       "    }\n",
       "</style>\n",
       "<table border=\"1\" class=\"dataframe\">\n",
       "  <thead>\n",
       "    <tr style=\"text-align: right;\">\n",
       "      <th></th>\n",
       "      <th>id</th>\n",
       "      <th>cluster_id</th>\n",
       "      <th>latitude</th>\n",
       "      <th>longitude</th>\n",
       "      <th>L1</th>\n",
       "      <th>L2</th>\n",
       "    </tr>\n",
       "  </thead>\n",
       "  <tbody>\n",
       "    <tr>\n",
       "      <th>0</th>\n",
       "      <td>31324</td>\n",
       "      <td>0</td>\n",
       "      <td>38.911268</td>\n",
       "      <td>-77.041829</td>\n",
       "      <td>102</td>\n",
       "      <td>102_201</td>\n",
       "    </tr>\n",
       "    <tr>\n",
       "      <th>1</th>\n",
       "      <td>32231</td>\n",
       "      <td>100</td>\n",
       "      <td>38.882800</td>\n",
       "      <td>-77.228300</td>\n",
       "      <td>101</td>\n",
       "      <td>0</td>\n",
       "    </tr>\n",
       "    <tr>\n",
       "      <th>2</th>\n",
       "      <td>32408</td>\n",
       "      <td>76</td>\n",
       "      <td>38.959361</td>\n",
       "      <td>-76.946361</td>\n",
       "      <td>203</td>\n",
       "      <td>0</td>\n",
       "    </tr>\n",
       "    <tr>\n",
       "      <th>3</th>\n",
       "      <td>32409</td>\n",
       "      <td>66</td>\n",
       "      <td>38.840107</td>\n",
       "      <td>-76.975300</td>\n",
       "      <td>2</td>\n",
       "      <td>2_203</td>\n",
       "    </tr>\n",
       "    <tr>\n",
       "      <th>4</th>\n",
       "      <td>32410</td>\n",
       "      <td>76</td>\n",
       "      <td>38.954600</td>\n",
       "      <td>-76.959500</td>\n",
       "      <td>203</td>\n",
       "      <td>0</td>\n",
       "    </tr>\n",
       "    <tr>\n",
       "      <th>5</th>\n",
       "      <td>32411</td>\n",
       "      <td>104</td>\n",
       "      <td>38.975505</td>\n",
       "      <td>-76.952199</td>\n",
       "      <td>203</td>\n",
       "      <td>0</td>\n",
       "    </tr>\n",
       "    <tr>\n",
       "      <th>6</th>\n",
       "      <td>32412</td>\n",
       "      <td>103</td>\n",
       "      <td>38.974205</td>\n",
       "      <td>-76.995227</td>\n",
       "      <td>202</td>\n",
       "      <td>0</td>\n",
       "    </tr>\n",
       "    <tr>\n",
       "      <th>7</th>\n",
       "      <td>32413</td>\n",
       "      <td>67</td>\n",
       "      <td>38.939271</td>\n",
       "      <td>-76.955047</td>\n",
       "      <td>103</td>\n",
       "      <td>0</td>\n",
       "    </tr>\n",
       "    <tr>\n",
       "      <th>8</th>\n",
       "      <td>32414</td>\n",
       "      <td>162</td>\n",
       "      <td>38.972500</td>\n",
       "      <td>-76.980700</td>\n",
       "      <td>202</td>\n",
       "      <td>0</td>\n",
       "    </tr>\n",
       "    <tr>\n",
       "      <th>9</th>\n",
       "      <td>32415</td>\n",
       "      <td>107</td>\n",
       "      <td>38.796800</td>\n",
       "      <td>-77.002600</td>\n",
       "      <td>2</td>\n",
       "      <td>2_2</td>\n",
       "    </tr>\n",
       "  </tbody>\n",
       "</table>\n",
       "</div>"
      ],
      "text/plain": [
       "      id  cluster_id   latitude  longitude   L1       L2\n",
       "0  31324           0  38.911268 -77.041829  102  102_201\n",
       "1  32231         100  38.882800 -77.228300  101        0\n",
       "2  32408          76  38.959361 -76.946361  203        0\n",
       "3  32409          66  38.840107 -76.975300    2    2_203\n",
       "4  32410          76  38.954600 -76.959500  203        0\n",
       "5  32411         104  38.975505 -76.952199  203        0\n",
       "6  32412         103  38.974205 -76.995227  202        0\n",
       "7  32413          67  38.939271 -76.955047  103        0\n",
       "8  32414         162  38.972500 -76.980700  202        0\n",
       "9  32415         107  38.796800 -77.002600    2      2_2"
      ]
     },
     "execution_count": 280,
     "metadata": {},
     "output_type": "execute_result"
    }
   ],
   "source": [
    "stations_rough.head(10)"
   ]
  },
  {
   "cell_type": "markdown",
   "metadata": {},
   "source": [
    "the hardcoded fix of some data impurity. No idea why, but somehow some of the cluster_ids appeared in different clusters in L2 even though this should not happen. Probably some problem with rounding the latitude and longitude numbers. So I assigned the whole cluster_id to the L2-cluster, that contains the most stations. "
   ]
  },
  {
   "cell_type": "code",
   "execution_count": 281,
   "metadata": {},
   "outputs": [],
   "source": [
    "def remerge_clusters(data, cluster_id):\n",
    "    subset = data[data.cluster_id == cluster_id]\n",
    "    if subset.shape[0] > 1:\n",
    "        total_size = sum(subset.cluster_size)\n",
    "        L1 = subset['L1'][subset.cluster_size == subset.cluster_size.max()].iloc[0]\n",
    "        L2 = subset.L2[subset.cluster_size == subset.cluster_size.max()].iloc[0]\n",
    "        new_row = pd.DataFrame(data=[[cluster_id, total_size, L1, L2]], columns=list(subset.columns))\n",
    "        return(new_row)\n",
    "    else:\n",
    "        return(subset)\n",
    "    \n",
    "cluster_info = pd.DataFrame(columns=cluster_size.columns)\n",
    "for i in range(0, cluster_size.cluster_id.max()):\n",
    "    new_row = remerge_clusters(cluster_size, i)\n",
    "    cluster_info = pd.concat([cluster_info, new_row], ignore_index=True)"
   ]
  },
  {
   "cell_type": "code",
   "execution_count": 282,
   "metadata": {},
   "outputs": [],
   "source": [
    "cluster_info = pd.DataFrame(columns=cluster_size.columns)\n",
    "for i in range(0, cluster_size.cluster_id.max()):\n",
    "    new_row = remerge_clusters(cluster_size, i)\n",
    "    cluster_info = pd.concat([cluster_info, new_row], ignore_index=True)\n",
    "\n",
    "cluster_info['cluster_id'] = cluster_info.cluster_id.apply(lambda x: int(x))"
   ]
  },
  {
   "cell_type": "code",
   "execution_count": 283,
   "metadata": {},
   "outputs": [],
   "source": [
    "cluster_size = cluster_info"
   ]
  },
  {
   "cell_type": "code",
   "execution_count": null,
   "metadata": {},
   "outputs": [],
   "source": []
  },
  {
   "cell_type": "code",
   "execution_count": null,
   "metadata": {},
   "outputs": [],
   "source": []
  },
  {
   "cell_type": "code",
   "execution_count": 284,
   "metadata": {},
   "outputs": [
    {
     "data": {
      "text/html": [
       "<div>\n",
       "<style scoped>\n",
       "    .dataframe tbody tr th:only-of-type {\n",
       "        vertical-align: middle;\n",
       "    }\n",
       "\n",
       "    .dataframe tbody tr th {\n",
       "        vertical-align: top;\n",
       "    }\n",
       "\n",
       "    .dataframe thead th {\n",
       "        text-align: right;\n",
       "    }\n",
       "</style>\n",
       "<table border=\"1\" class=\"dataframe\">\n",
       "  <thead>\n",
       "    <tr style=\"text-align: right;\">\n",
       "      <th></th>\n",
       "      <th>cluster_id</th>\n",
       "      <th>cluster_size</th>\n",
       "      <th>L1</th>\n",
       "      <th>L2</th>\n",
       "    </tr>\n",
       "  </thead>\n",
       "  <tbody>\n",
       "    <tr>\n",
       "      <th>0</th>\n",
       "      <td>0</td>\n",
       "      <td>19</td>\n",
       "      <td>102</td>\n",
       "      <td>102_101</td>\n",
       "    </tr>\n",
       "    <tr>\n",
       "      <th>1</th>\n",
       "      <td>1</td>\n",
       "      <td>16</td>\n",
       "      <td>102</td>\n",
       "      <td>102_101</td>\n",
       "    </tr>\n",
       "    <tr>\n",
       "      <th>2</th>\n",
       "      <td>2</td>\n",
       "      <td>14</td>\n",
       "      <td>102</td>\n",
       "      <td>102_102</td>\n",
       "    </tr>\n",
       "    <tr>\n",
       "      <th>3</th>\n",
       "      <td>3</td>\n",
       "      <td>14</td>\n",
       "      <td>102</td>\n",
       "      <td>102_102</td>\n",
       "    </tr>\n",
       "    <tr>\n",
       "      <th>4</th>\n",
       "      <td>4</td>\n",
       "      <td>13</td>\n",
       "      <td>102</td>\n",
       "      <td>102_201</td>\n",
       "    </tr>\n",
       "  </tbody>\n",
       "</table>\n",
       "</div>"
      ],
      "text/plain": [
       "   cluster_id cluster_size   L1       L2\n",
       "0           0           19  102  102_101\n",
       "1           1           16  102  102_101\n",
       "2           2           14  102  102_102\n",
       "3           3           14  102  102_102\n",
       "4           4           13  102  102_201"
      ]
     },
     "execution_count": 284,
     "metadata": {},
     "output_type": "execute_result"
    }
   ],
   "source": [
    "cluster_size.head()"
   ]
  },
  {
   "cell_type": "code",
   "execution_count": 285,
   "metadata": {},
   "outputs": [
    {
     "data": {
      "text/html": [
       "<div>\n",
       "<style scoped>\n",
       "    .dataframe tbody tr th:only-of-type {\n",
       "        vertical-align: middle;\n",
       "    }\n",
       "\n",
       "    .dataframe tbody tr th {\n",
       "        vertical-align: top;\n",
       "    }\n",
       "\n",
       "    .dataframe thead th {\n",
       "        text-align: right;\n",
       "    }\n",
       "</style>\n",
       "<table border=\"1\" class=\"dataframe\">\n",
       "  <thead>\n",
       "    <tr style=\"text-align: right;\">\n",
       "      <th></th>\n",
       "      <th>id</th>\n",
       "      <th>latitude</th>\n",
       "      <th>longitude</th>\n",
       "      <th>capacity</th>\n",
       "      <th>L1</th>\n",
       "      <th>L2</th>\n",
       "    </tr>\n",
       "  </thead>\n",
       "  <tbody>\n",
       "    <tr>\n",
       "      <th>0</th>\n",
       "      <td>31324</td>\n",
       "      <td>38.911268</td>\n",
       "      <td>-77.041829</td>\n",
       "      <td>19</td>\n",
       "      <td>102</td>\n",
       "      <td>102_201</td>\n",
       "    </tr>\n",
       "    <tr>\n",
       "      <th>1</th>\n",
       "      <td>32231</td>\n",
       "      <td>38.882800</td>\n",
       "      <td>-77.228300</td>\n",
       "      <td>16</td>\n",
       "      <td>101</td>\n",
       "      <td>0</td>\n",
       "    </tr>\n",
       "    <tr>\n",
       "      <th>2</th>\n",
       "      <td>32408</td>\n",
       "      <td>38.959361</td>\n",
       "      <td>-76.946361</td>\n",
       "      <td>8</td>\n",
       "      <td>203</td>\n",
       "      <td>0</td>\n",
       "    </tr>\n",
       "    <tr>\n",
       "      <th>3</th>\n",
       "      <td>32409</td>\n",
       "      <td>38.840107</td>\n",
       "      <td>-76.975300</td>\n",
       "      <td>15</td>\n",
       "      <td>2</td>\n",
       "      <td>2_203</td>\n",
       "    </tr>\n",
       "    <tr>\n",
       "      <th>4</th>\n",
       "      <td>32410</td>\n",
       "      <td>38.954600</td>\n",
       "      <td>-76.959500</td>\n",
       "      <td>15</td>\n",
       "      <td>203</td>\n",
       "      <td>0</td>\n",
       "    </tr>\n",
       "  </tbody>\n",
       "</table>\n",
       "</div>"
      ],
      "text/plain": [
       "      id   latitude  longitude  capacity   L1       L2\n",
       "0  31324  38.911268 -77.041829        19  102  102_201\n",
       "1  32231  38.882800 -77.228300        16  101        0\n",
       "2  32408  38.959361 -76.946361         8  203        0\n",
       "3  32409  38.840107 -76.975300        15    2    2_203\n",
       "4  32410  38.954600 -76.959500        15  203        0"
      ]
     },
     "execution_count": 285,
     "metadata": {},
     "output_type": "execute_result"
    }
   ],
   "source": [
    "stations.head()"
   ]
  },
  {
   "cell_type": "code",
   "execution_count": 286,
   "metadata": {},
   "outputs": [
    {
     "data": {
      "text/plain": [
       "<matplotlib.collections.PathCollection at 0x7f5347ccc550>"
      ]
     },
     "execution_count": 286,
     "metadata": {},
     "output_type": "execute_result"
    },
    {
     "data": {
      "image/png": "[encoded data removed]",
      "text/plain": [
       "<Figure size 432x288 with 1 Axes>"
      ]
     },
     "metadata": {
      "needs_background": "light"
     },
     "output_type": "display_data"
    }
   ],
   "source": [
    "plt.scatter(stations_rough.latitude, stations_rough.longitude, marker='.')\n",
    "s01 = stations_rough[stations_rough.cluster_id.apply(lambda x: x in set([100, 0]))]\n",
    "plt.scatter(s01.latitude, s01.longitude, marker='.', c='y')\n",
    "\n",
    "clust = stations_rough[stations_rough.cluster_id.apply(lambda x: x in set([40, 54, 41, 55, 83, 42, 58]))]\n",
    "plt.scatter(clust.latitude, clust.longitude, marker='.', c='r')"
   ]
  },
  {
   "cell_type": "code",
   "execution_count": null,
   "metadata": {},
   "outputs": [],
   "source": []
  },
  {
   "cell_type": "markdown",
   "metadata": {},
   "source": [
    "## Weather data here:"
   ]
  },
  {
   "cell_type": "code",
   "execution_count": 287,
   "metadata": {},
   "outputs": [],
   "source": [
    "with open(cwd+'/data/weatherdata.json') as json_file:\n",
    "    weather = json.load(json_file)\n",
    "weather_df = pd.DataFrame(weather['observations'])\n",
    "weather_df['datetime'] = pd.to_datetime(weather_df['time_gmt'], format='%Y-%m-%d %H:%M:%S')"
   ]
  },
  {
   "cell_type": "code",
   "execution_count": 288,
   "metadata": {},
   "outputs": [],
   "source": [
    "phrases = weather_df.phrase.value_counts()  # TODO: yyyey... data cleaning!\n",
    "phrases = phrases.reset_index()"
   ]
  },
  {
   "cell_type": "code",
   "execution_count": 289,
   "metadata": {},
   "outputs": [],
   "source": [
    "phrases['wind'] = phrases['index'].apply(lambda x: int('Windy' in x))"
   ]
  },
  {
   "cell_type": "code",
   "execution_count": 290,
   "metadata": {},
   "outputs": [],
   "source": [
    "winter = ['Wintry', 'Snow', 'Freezing', 'Sleet']\n",
    "thunder = ['T-', 'Thunder', 'Squalls']\n",
    "extreme = ['Heavy', 'T-Storm', 'Thunder', 'Squalls']\n",
    "\n",
    "phrases['wintry'] = phrases['index'].apply(lambda x: int(any([term in x for term in winter])))\n",
    "phrases['thunderstorm'] = phrases['index'].apply(lambda x: int(any([term in x for term in thunder])))\n",
    "phrases['extreme_weather'] = phrases['index'].apply(lambda x: int(any([term in x for term in extreme])))"
   ]
  },
  {
   "cell_type": "code",
   "execution_count": 291,
   "metadata": {},
   "outputs": [],
   "source": [
    "light_rain = ['Light Rain', 'Light Drizzle', 'Light Freezing Rain'] # give 1\n",
    "heavy_rain = ['Rain', 'Heavy Rain'] # give 2, do this first because otherwise would overwrite 'Light Rain'\n",
    "foggy = ['Fog', 'Mist', 'Haze']\n",
    "clear_sky = ['Fair', 'Partly Cloudy'] # give 1\n",
    "\n",
    "phrases['foggy'] = phrases['index'].apply(lambda x: int(any([term in x for term in foggy])))\n",
    "\n",
    "phrases['rain'] = 0\n",
    "phrases['rain'][phrases['index'].apply(lambda x: any([term in x for term in heavy_rain]))] = 2\n",
    "phrases['rain'][phrases['index'].apply(lambda x: any([term in x for term in light_rain]))] = 1\n",
    "\n",
    "phrases['clear_sky'] = phrases['index'].apply(lambda x: int(any([term in x for term in clear_sky])))"
   ]
  },
  {
   "cell_type": "code",
   "execution_count": 292,
   "metadata": {},
   "outputs": [],
   "source": [
    "phrases = phrases.drop(columns='phrase')\n",
    "phrases.rename(columns={'index': 'phrase'}, inplace=True)"
   ]
  },
  {
   "cell_type": "code",
   "execution_count": 293,
   "metadata": {},
   "outputs": [],
   "source": [
    "weatherdata = weather_df\n",
    "weather_phrases = phrases"
   ]
  },
  {
   "cell_type": "markdown",
   "metadata": {},
   "source": [
    "# tripdata to pickups per station \n",
    "and per time window of 90 minutes"
   ]
  },
  {
   "cell_type": "code",
   "execution_count": 294,
   "metadata": {
    "scrolled": true
   },
   "outputs": [
    {
     "name": "stdout",
     "output_type": "stream",
     "text": [
      "2018-05-25 00:00:00 2018-05-25 01:30:00\n",
      "2018-05-25 01:30:00 2018-05-25 03:00:00\n",
      "2018-05-25 03:00:00 2018-05-25 04:30:00\n",
      "2018-05-25 04:30:00 2018-05-25 06:00:00\n",
      "2018-05-25 06:00:00 2018-05-25 07:30:00\n",
      "2018-05-25 07:30:00 2018-05-25 09:00:00\n",
      "2018-05-25 09:00:00 2018-05-25 10:30:00\n",
      "2018-05-25 10:30:00 2018-05-25 12:00:00\n",
      "2018-05-25 12:00:00 2018-05-25 13:30:00\n",
      "2018-05-25 13:30:00 2018-05-25 15:00:00\n",
      "2018-05-25 15:00:00 2018-05-25 16:30:00\n",
      "2018-05-25 16:30:00 2018-05-25 18:00:00\n",
      "2018-05-25 18:00:00 2018-05-25 19:30:00\n",
      "2018-05-25 19:30:00 2018-05-25 21:00:00\n",
      "2018-05-25 21:00:00 2018-05-25 22:30:00\n",
      "2018-05-25 22:30:00 2018-05-26 00:00:00\n"
     ]
    }
   ],
   "source": [
    "# within next 90 minutes will have x pickups at station\n",
    "time = datetime(year=2018, month=5, day=25, hour=0, minute=0)\n",
    "delta = timedelta(minutes=90)\n",
    "\n",
    "data = data[['starttime', 'Start station number']]\n",
    "data_year = stations_rough[['id', 'cluster_id']].merge(data, how='right', left_on='id', right_on='Start station number')[\n",
    "        ['starttime', 'cluster_id']]\n",
    "\n",
    "pickup_list = list()\n",
    "for i in range(0,16):\n",
    "    print(time, time+delta)\n",
    "    pickups = data_year[(data_year.starttime >= time) &\n",
    "                 (data_year.starttime < time + delta)].groupby(['cluster_id']).count()\n",
    "#                      (data_s.starttime < time+delta)].groupby(['id', 'latitude', 'longitude', 'Member type']).count()\n",
    "   \n",
    "    # multi-index to single index and rename columns\n",
    "    pickups = pickups.reset_index()\n",
    "    pickups.rename(columns={'starttime': 'pickups'}, inplace=True)\n",
    "    pickups = cluster_size.merge(pickups, how='left', left_on='cluster_id', right_on='cluster_id').fillna(0)\n",
    "    \n",
    "    pickups['holiday'] = int(time in us_holidays)\n",
    "    pickups['weekday'] = time.weekday()\n",
    "    pickups['datetime'] = time\n",
    "    pickups['time'] = time.time()\n",
    "    pickups['month'] = time.month\n",
    "\n",
    "    # weather data\n",
    "    try:\n",
    "        current_weather = weatherdata[(weatherdata.datetime >= time - timedelta(minutes=30)) &\n",
    "                                     (weatherdata.datetime < time + timedelta(minutes=29))].iloc[0]\n",
    "    except IndexError:\n",
    "        print('use last available weather information')\n",
    "        pass\n",
    "\n",
    "    pickups['phrase'] = current_weather['phrase']\n",
    "    pickups['temperature'] = current_weather['temp']\n",
    "    pickups['humidity'] = current_weather['humidity']\n",
    "    pickups = pickups.merge(weather_phrases, how='left')\n",
    "    pickups = pickups.drop(columns='phrase')\n",
    "\n",
    "    pickup_list.append(pickups)\n",
    "    time += delta\n"
   ]
  },
  {
   "cell_type": "code",
   "execution_count": null,
   "metadata": {},
   "outputs": [],
   "source": []
  },
  {
   "cell_type": "code",
   "execution_count": 295,
   "metadata": {},
   "outputs": [
    {
     "name": "stdout",
     "output_type": "stream",
     "text": [
      "(170, 19) (340, 19)\n",
      "(170, 19) (510, 19)\n",
      "(170, 19) (680, 19)\n",
      "(170, 19) (850, 19)\n",
      "(170, 19) (1020, 19)\n",
      "(170, 19) (1190, 19)\n",
      "(170, 19) (1360, 19)\n",
      "(170, 19) (1530, 19)\n",
      "(170, 19) (1700, 19)\n",
      "(170, 19) (1870, 19)\n",
      "(170, 19) (2040, 19)\n",
      "(170, 19) (2210, 19)\n",
      "(170, 19) (2380, 19)\n",
      "(170, 19) (2550, 19)\n",
      "(170, 19) (2720, 19)\n"
     ]
    }
   ],
   "source": [
    "# create long dataframe from short sub-windows\n",
    "pickups = pickup_list[0]\n",
    "\n",
    "for i in range(1, len(pickup_list)):\n",
    "    pickups_new = pickup_list[i]\n",
    "    pickups = pickups.append(pickups_new, ignore_index=True)\n",
    "    print(pickups_new.shape, pickups.shape)"
   ]
  },
  {
   "cell_type": "code",
   "execution_count": null,
   "metadata": {
    "scrolled": true
   },
   "outputs": [],
   "source": []
  },
  {
   "cell_type": "markdown",
   "metadata": {},
   "source": [
    "This dataframe above is the most minimal version of what we will have as the input of the decision trees. \n",
    "\n",
    "- station_id: identifier (here I used the grid-ids, the \"combined stations\")\n",
    "- lat/lon: location of the station, here one-to-one mapping\n",
    "\n",
    "other variables that will be usefull for the decision tree:\n",
    "- timeframe: We should think about how to represent the timeframe better, here I just used the end-time. \n",
    "- weekday/weekend: either 0-1 (two categories) or 0-6 (each day)\n",
    "- holiday: 0-1\n",
    "- season: 0-3 (4 seasons), or 0-11 (12 months)?\n",
    "- weather: sunny, rainy, windy, snowy, cold ... I really think we should put in some effort to get data. It should not take too long once we've found a nice dataset\n",
    "- inner-/outer city: maybe we don't need it because it is already somehow captured in the location (lat/lon). Will have high correlation with this one\n",
    "- how many other stations in cluster: No idea if it's important, but I guess it has some relevance.\n",
    "- ... please complete\n",
    "- type of customer (member or casual), it really makes a difference!\n",
    "\n",
    "target variable:\n",
    "- pickups: how many bikes got picked up at the station. Integers or integer-ranges?"
   ]
  },
  {
   "cell_type": "code",
   "execution_count": 296,
   "metadata": {},
   "outputs": [],
   "source": [
    "# logarithmic value to see the distribution better in the color scheme\n",
    "pickups['log_pickups'] = np.log(pickups.pickups) "
   ]
  },
  {
   "cell_type": "code",
   "execution_count": null,
   "metadata": {},
   "outputs": [],
   "source": []
  },
  {
   "cell_type": "code",
   "execution_count": 297,
   "metadata": {},
   "outputs": [],
   "source": [
    "# merge back, from cluster to all stations in cluster\n",
    "pickups = pickups.merge(stations_rough[['cluster_id', 'id', 'latitude', 'longitude']], how='left', left_on='cluster_id', right_on='cluster_id')"
   ]
  },
  {
   "cell_type": "code",
   "execution_count": 298,
   "metadata": {},
   "outputs": [
    {
     "data": {
      "text/plain": [
       "<matplotlib.collections.PathCollection at 0x7f53373b9b70>"
      ]
     },
     "execution_count": 298,
     "metadata": {},
     "output_type": "execute_result"
    },
    {
     "data": {
      "image/png": "[encoded data removed]",
      "text/plain": [
       "<Figure size 432x288 with 1 Axes>"
      ]
     },
     "metadata": {
      "needs_background": "light"
     },
     "output_type": "display_data"
    }
   ],
   "source": [
    "plt.scatter(stations_rough.latitude, stations_rough.longitude, marker='.', c='k', alpha=0.2)\n",
    "plt.scatter(pickups.latitude, pickups.longitude, marker='.', c=pickups.log_pickups, cmap='viridis')\n",
    "prob = stations[stations.id.apply(lambda x: x in set(p[p.cluster_id == 1].id))]\n",
    "plt.scatter(prob.latitude, prob.longitude, marker='.', c='r')\n",
    "\n",
    "# plt.colorbar()"
   ]
  },
  {
   "cell_type": "code",
   "execution_count": 299,
   "metadata": {},
   "outputs": [],
   "source": [
    "def log_rel_pickups(x, minimum):\n",
    "    if x == 0:\n",
    "        return minimum*1.00000001\n",
    "    else:\n",
    "        return np.log(x)"
   ]
  },
  {
   "cell_type": "code",
   "execution_count": 300,
   "metadata": {},
   "outputs": [],
   "source": [
    "grid_size = 4+1\n",
    "threshold_lats_1 = np.linspace(stations.latitude.min(), stations.latitude.max(), grid_size)\n",
    "threshold_lons_1 = np.linspace(stations.longitude.min(), stations.longitude.max(), grid_size)"
   ]
  },
  {
   "cell_type": "code",
   "execution_count": 301,
   "metadata": {},
   "outputs": [],
   "source": [
    "morning = pickups[pickups.time == datetime(year=2018, month=5, day=25, hour=7, minute=30).time()].reset_index()\n",
    "morning['rel_pickups'] =  morning.pickups/morning.cluster_size\n",
    "min_rel = morning.rel_pickups.min()\n",
    "morning['log_rel_pickups'] = morning.rel_pickups.apply(lambda x: log_rel_pickups(x, min_rel))\n",
    "\n",
    "evening = pickups[pickups.time == datetime(year=2018, month=5, day=25, hour=16, minute=30).time()].reset_index()\n",
    "evening['rel_pickups'] =  evening.pickups/evening.cluster_size\n",
    "min_rel = evening.rel_pickups.min()\n",
    "evening['log_rel_pickups'] = evening.rel_pickups.apply(lambda x: log_rel_pickups(x, min_rel))"
   ]
  },
  {
   "cell_type": "code",
   "execution_count": 302,
   "metadata": {},
   "outputs": [
    {
     "data": {
      "text/plain": [
       "<matplotlib.collections.LineCollection at 0x7f533c45c080>"
      ]
     },
     "execution_count": 302,
     "metadata": {},
     "output_type": "execute_result"
    },
    {
     "data": {
      "image/png": "[encoded data removed]",
      "text/plain": [
       "<Figure size 864x432 with 2 Axes>"
      ]
     },
     "metadata": {
      "needs_background": "light"
     },
     "output_type": "display_data"
    }
   ],
   "source": [
    "fig, axs = plt.subplots(1, 2, figsize=(12, 6))\n",
    "ax = axs[0]\n",
    "ax.scatter(stations.latitude, stations.longitude, marker='.', c='k', alpha=0.2)\n",
    "ax.scatter(morning.latitude, morning.longitude,  marker='.', c=morning.log_rel_pickups)\n",
    "ax.vlines(x=threshold_lats_1, ymin=stations.longitude.min(), ymax=stations.longitude.max())\n",
    "ax.hlines(y=threshold_lons_1, xmin=stations.latitude.min(), xmax=stations.latitude.max())\n",
    "\n",
    "ax = axs[1]\n",
    "ax.scatter(stations.latitude, stations.longitude, marker='.', c='k', alpha=0.2)\n",
    "ax.scatter(evening.latitude, evening.longitude,  marker='.', c=evening.log_rel_pickups)\n",
    "ax.vlines(x=threshold_lats_1, ymin=stations.longitude.min(), ymax=stations.longitude.max())\n",
    "ax.hlines(y=threshold_lons_1, xmin=stations.latitude.min(), xmax=stations.latitude.max())"
   ]
  },
  {
   "cell_type": "markdown",
   "metadata": {},
   "source": [
    "# Calculate demand\n",
    "\n",
    "Demand is equal to returns that happened until 30 minutes ago, minus pickups.\n",
    "\n",
    "This would result in a range of -260 to +260. The extreme values are in the center of the city at clusters 0 and 1, the peak times are 9:00, where we have much more returns than pickups (+260), and 16:30 where we have much more pickups than returns. But also, the clusters in the center contain more stations than the ones outside (they are more dense), which suggests to calculate first the demand (demand = returns - pickups, negative numbers means we haven't had enough bikes, -x --> x bikes are missing, positive numbers: we had more returns than pickups, have x bikes over). \n",
    "\n",
    "The next step is to calculate the relative demand, which is demand_per_cluster/cluster_size. To get the relative demand per station. Otherwise of course big clusters will have more extreme values than small clusters. This results in decimal numbers, e.g. a cluster of size 3 with demand 10 has relative demand 3.33333.\n",
    "\n",
    "Since we want to predict the relative demand, decimal numbers are very impractical. Using the next bigger integer leads to a good approximation. (math.ceil(3.3333) --> 4) When this is calculated now back to the whole cluster, we would get a prediction of 4*3=12 pickups, which is still relatively close. \n",
    "\n",
    "\n",
    "To think about it for extreme values: \n",
    "\n",
    "Assume we had 4 pickups in a cluster of 5 stations, or 1 pickup in a cluster of 5 stations, then we get a decimal number x between 0 and 1. math.ceil(x)=1 in any case. Multiplied by the number_of_stations_in_cluster we get one pickup per station. It is an over-estimation but makes sense in the real world application. The service provider prefers to over-supply bikes to ensure a smooth service. \n",
    "\n",
    "With this method we get the target variable (demand prediction) 'ceil', which ranges from about -22 to +31. \n",
    "(Haven't seen all the numbers yet, this was the result for 2018.)"
   ]
  },
  {
   "cell_type": "code",
   "execution_count": 303,
   "metadata": {},
   "outputs": [],
   "source": [
    "pickups = pd.read_pickle(cwd+'/data/pickups_2018.pkl')\n",
    "returns = pd.read_pickle(cwd+'/data/returns_2018.pkl')"
   ]
  },
  {
   "cell_type": "code",
   "execution_count": 304,
   "metadata": {},
   "outputs": [],
   "source": [
    "pickups['rel_pickups'] = pickups.pickups/pickups.cluster_size\n",
    "returns['rel_returns'] = returns.returns/returns.cluster_size\n",
    "\n",
    "results = copy.deepcopy(returns)\n",
    "results['demand'] = returns.returns - pickups.pickups\n",
    "results['rel_demand'] = results.demand/results.cluster_size"
   ]
  },
  {
   "cell_type": "code",
   "execution_count": null,
   "metadata": {},
   "outputs": [],
   "source": []
  },
  {
   "cell_type": "code",
   "execution_count": 305,
   "metadata": {},
   "outputs": [],
   "source": [
    "results['ceil'] = results['rel_demand'].apply(lambda x: math.ceil(x))"
   ]
  },
  {
   "cell_type": "code",
   "execution_count": 306,
   "metadata": {},
   "outputs": [],
   "source": [
    "results = results[['cluster_id', 'L1', 'L2', \n",
    "                   'weekday', 'holiday', 'time', \n",
    "                   'month', 'clear_sky', 'extreme_weather', \n",
    "                   'foggy', 'humidity', 'thunderstorm', \n",
    "                   'rain', 'temperature', 'wind', \n",
    "                   'wintry', 'ceil']]"
   ]
  },
  {
   "cell_type": "code",
   "execution_count": 307,
   "metadata": {},
   "outputs": [],
   "source": [
    "hist = results.groupby(by='ceil').count().reset_index()"
   ]
  },
  {
   "cell_type": "code",
   "execution_count": 308,
   "metadata": {},
   "outputs": [
    {
     "data": {
      "text/plain": [
       "(0, 4000)"
      ]
     },
     "execution_count": 308,
     "metadata": {},
     "output_type": "execute_result"
    },
    {
     "data": {
      "image/png": "[encoded data removed]",
      "text/plain": [
       "<Figure size 432x288 with 1 Axes>"
      ]
     },
     "metadata": {
      "needs_background": "light"
     },
     "output_type": "display_data"
    }
   ],
   "source": [
    "plt.bar(x = hist['ceil'], height=hist['cluster_id'])\n",
    "plt.ylim(0,4000)"
   ]
  },
  {
   "cell_type": "code",
   "execution_count": 309,
   "metadata": {},
   "outputs": [
    {
     "data": {
      "text/html": [
       "<div>\n",
       "<style scoped>\n",
       "    .dataframe tbody tr th:only-of-type {\n",
       "        vertical-align: middle;\n",
       "    }\n",
       "\n",
       "    .dataframe tbody tr th {\n",
       "        vertical-align: top;\n",
       "    }\n",
       "\n",
       "    .dataframe thead th {\n",
       "        text-align: right;\n",
       "    }\n",
       "</style>\n",
       "<table border=\"1\" class=\"dataframe\">\n",
       "  <thead>\n",
       "    <tr style=\"text-align: right;\">\n",
       "      <th></th>\n",
       "      <th>cluster_id</th>\n",
       "      <th>L1</th>\n",
       "      <th>L2</th>\n",
       "      <th>weekday</th>\n",
       "      <th>holiday</th>\n",
       "      <th>time</th>\n",
       "      <th>month</th>\n",
       "      <th>clear_sky</th>\n",
       "      <th>extreme_weather</th>\n",
       "      <th>foggy</th>\n",
       "      <th>humidity</th>\n",
       "      <th>thunderstorm</th>\n",
       "      <th>rain</th>\n",
       "      <th>temperature</th>\n",
       "      <th>wind</th>\n",
       "      <th>wintry</th>\n",
       "      <th>ceil</th>\n",
       "    </tr>\n",
       "  </thead>\n",
       "  <tbody>\n",
       "    <tr>\n",
       "      <th>0</th>\n",
       "      <td>0</td>\n",
       "      <td>102</td>\n",
       "      <td>102_101</td>\n",
       "      <td>0</td>\n",
       "      <td>1</td>\n",
       "      <td>00:00:00</td>\n",
       "      <td>1</td>\n",
       "      <td>1</td>\n",
       "      <td>0</td>\n",
       "      <td>0</td>\n",
       "      <td>54.0</td>\n",
       "      <td>0</td>\n",
       "      <td>0</td>\n",
       "      <td>19.0</td>\n",
       "      <td>0</td>\n",
       "      <td>0</td>\n",
       "      <td>1</td>\n",
       "    </tr>\n",
       "    <tr>\n",
       "      <th>1</th>\n",
       "      <td>1</td>\n",
       "      <td>102</td>\n",
       "      <td>102_101</td>\n",
       "      <td>0</td>\n",
       "      <td>1</td>\n",
       "      <td>00:00:00</td>\n",
       "      <td>1</td>\n",
       "      <td>1</td>\n",
       "      <td>0</td>\n",
       "      <td>0</td>\n",
       "      <td>54.0</td>\n",
       "      <td>0</td>\n",
       "      <td>0</td>\n",
       "      <td>19.0</td>\n",
       "      <td>0</td>\n",
       "      <td>0</td>\n",
       "      <td>0</td>\n",
       "    </tr>\n",
       "    <tr>\n",
       "      <th>2</th>\n",
       "      <td>2</td>\n",
       "      <td>102</td>\n",
       "      <td>102_102</td>\n",
       "      <td>0</td>\n",
       "      <td>1</td>\n",
       "      <td>00:00:00</td>\n",
       "      <td>1</td>\n",
       "      <td>1</td>\n",
       "      <td>0</td>\n",
       "      <td>0</td>\n",
       "      <td>54.0</td>\n",
       "      <td>0</td>\n",
       "      <td>0</td>\n",
       "      <td>19.0</td>\n",
       "      <td>0</td>\n",
       "      <td>0</td>\n",
       "      <td>0</td>\n",
       "    </tr>\n",
       "    <tr>\n",
       "      <th>3</th>\n",
       "      <td>3</td>\n",
       "      <td>102</td>\n",
       "      <td>102_102</td>\n",
       "      <td>0</td>\n",
       "      <td>1</td>\n",
       "      <td>00:00:00</td>\n",
       "      <td>1</td>\n",
       "      <td>1</td>\n",
       "      <td>0</td>\n",
       "      <td>0</td>\n",
       "      <td>54.0</td>\n",
       "      <td>0</td>\n",
       "      <td>0</td>\n",
       "      <td>19.0</td>\n",
       "      <td>0</td>\n",
       "      <td>0</td>\n",
       "      <td>0</td>\n",
       "    </tr>\n",
       "    <tr>\n",
       "      <th>4</th>\n",
       "      <td>4</td>\n",
       "      <td>102</td>\n",
       "      <td>102_201</td>\n",
       "      <td>0</td>\n",
       "      <td>1</td>\n",
       "      <td>00:00:00</td>\n",
       "      <td>1</td>\n",
       "      <td>1</td>\n",
       "      <td>0</td>\n",
       "      <td>0</td>\n",
       "      <td>54.0</td>\n",
       "      <td>0</td>\n",
       "      <td>0</td>\n",
       "      <td>19.0</td>\n",
       "      <td>0</td>\n",
       "      <td>0</td>\n",
       "      <td>0</td>\n",
       "    </tr>\n",
       "    <tr>\n",
       "      <th>5</th>\n",
       "      <td>5</td>\n",
       "      <td>102</td>\n",
       "      <td>102_101</td>\n",
       "      <td>0</td>\n",
       "      <td>1</td>\n",
       "      <td>00:00:00</td>\n",
       "      <td>1</td>\n",
       "      <td>1</td>\n",
       "      <td>0</td>\n",
       "      <td>0</td>\n",
       "      <td>54.0</td>\n",
       "      <td>0</td>\n",
       "      <td>0</td>\n",
       "      <td>19.0</td>\n",
       "      <td>0</td>\n",
       "      <td>0</td>\n",
       "      <td>0</td>\n",
       "    </tr>\n",
       "    <tr>\n",
       "      <th>6</th>\n",
       "      <td>6</td>\n",
       "      <td>102</td>\n",
       "      <td>102_201</td>\n",
       "      <td>0</td>\n",
       "      <td>1</td>\n",
       "      <td>00:00:00</td>\n",
       "      <td>1</td>\n",
       "      <td>1</td>\n",
       "      <td>0</td>\n",
       "      <td>0</td>\n",
       "      <td>54.0</td>\n",
       "      <td>0</td>\n",
       "      <td>0</td>\n",
       "      <td>19.0</td>\n",
       "      <td>0</td>\n",
       "      <td>0</td>\n",
       "      <td>0</td>\n",
       "    </tr>\n",
       "    <tr>\n",
       "      <th>7</th>\n",
       "      <td>7</td>\n",
       "      <td>102</td>\n",
       "      <td>102_102</td>\n",
       "      <td>0</td>\n",
       "      <td>1</td>\n",
       "      <td>00:00:00</td>\n",
       "      <td>1</td>\n",
       "      <td>1</td>\n",
       "      <td>0</td>\n",
       "      <td>0</td>\n",
       "      <td>54.0</td>\n",
       "      <td>0</td>\n",
       "      <td>0</td>\n",
       "      <td>19.0</td>\n",
       "      <td>0</td>\n",
       "      <td>0</td>\n",
       "      <td>0</td>\n",
       "    </tr>\n",
       "    <tr>\n",
       "      <th>8</th>\n",
       "      <td>8</td>\n",
       "      <td>200</td>\n",
       "      <td>0</td>\n",
       "      <td>0</td>\n",
       "      <td>1</td>\n",
       "      <td>00:00:00</td>\n",
       "      <td>1</td>\n",
       "      <td>1</td>\n",
       "      <td>0</td>\n",
       "      <td>0</td>\n",
       "      <td>54.0</td>\n",
       "      <td>0</td>\n",
       "      <td>0</td>\n",
       "      <td>19.0</td>\n",
       "      <td>0</td>\n",
       "      <td>0</td>\n",
       "      <td>0</td>\n",
       "    </tr>\n",
       "    <tr>\n",
       "      <th>9</th>\n",
       "      <td>9</td>\n",
       "      <td>102</td>\n",
       "      <td>102_100</td>\n",
       "      <td>0</td>\n",
       "      <td>1</td>\n",
       "      <td>00:00:00</td>\n",
       "      <td>1</td>\n",
       "      <td>1</td>\n",
       "      <td>0</td>\n",
       "      <td>0</td>\n",
       "      <td>54.0</td>\n",
       "      <td>0</td>\n",
       "      <td>0</td>\n",
       "      <td>19.0</td>\n",
       "      <td>0</td>\n",
       "      <td>0</td>\n",
       "      <td>1</td>\n",
       "    </tr>\n",
       "  </tbody>\n",
       "</table>\n",
       "</div>"
      ],
      "text/plain": [
       "  cluster_id   L1       L2 weekday holiday      time month clear_sky  \\\n",
       "0          0  102  102_101       0       1  00:00:00     1         1   \n",
       "1          1  102  102_101       0       1  00:00:00     1         1   \n",
       "2          2  102  102_102       0       1  00:00:00     1         1   \n",
       "3          3  102  102_102       0       1  00:00:00     1         1   \n",
       "4          4  102  102_201       0       1  00:00:00     1         1   \n",
       "5          5  102  102_101       0       1  00:00:00     1         1   \n",
       "6          6  102  102_201       0       1  00:00:00     1         1   \n",
       "7          7  102  102_102       0       1  00:00:00     1         1   \n",
       "8          8  200        0       0       1  00:00:00     1         1   \n",
       "9          9  102  102_100       0       1  00:00:00     1         1   \n",
       "\n",
       "  extreme_weather foggy  humidity thunderstorm rain  temperature wind wintry  \\\n",
       "0               0     0      54.0            0    0         19.0    0      0   \n",
       "1               0     0      54.0            0    0         19.0    0      0   \n",
       "2               0     0      54.0            0    0         19.0    0      0   \n",
       "3               0     0      54.0            0    0         19.0    0      0   \n",
       "4               0     0      54.0            0    0         19.0    0      0   \n",
       "5               0     0      54.0            0    0         19.0    0      0   \n",
       "6               0     0      54.0            0    0         19.0    0      0   \n",
       "7               0     0      54.0            0    0         19.0    0      0   \n",
       "8               0     0      54.0            0    0         19.0    0      0   \n",
       "9               0     0      54.0            0    0         19.0    0      0   \n",
       "\n",
       "   ceil  \n",
       "0     1  \n",
       "1     0  \n",
       "2     0  \n",
       "3     0  \n",
       "4     0  \n",
       "5     0  \n",
       "6     0  \n",
       "7     0  \n",
       "8     0  \n",
       "9     1  "
      ]
     },
     "execution_count": 309,
     "metadata": {},
     "output_type": "execute_result"
    }
   ],
   "source": [
    "results.head(10)"
   ]
  },
  {
   "cell_type": "markdown",
   "metadata": {},
   "source": [
    "# Plot demand"
   ]
  },
  {
   "cell_type": "code",
   "execution_count": 57,
   "metadata": {},
   "outputs": [],
   "source": [
    "data = pd.read_pickle(cwd+'/data/combine/results_all.pkl')"
   ]
  },
  {
   "cell_type": "code",
   "execution_count": 311,
   "metadata": {},
   "outputs": [],
   "source": [
    "def symmetric_log(x):\n",
    "    if x > 0:\n",
    "        return np.log(x)\n",
    "    elif x < 0:\n",
    "        return -np.log(-x)\n",
    "    else:\n",
    "        return 0"
   ]
  },
  {
   "cell_type": "code",
   "execution_count": 329,
   "metadata": {},
   "outputs": [
    {
     "name": "stdout",
     "output_type": "stream",
     "text": [
      "2.3978952727983707 -2.3978952727983707 2.0794415416798357\n",
      "2.302585092994046 -2.302585092994046 1.791759469228055\n"
     ]
    },
    {
     "data": {
      "image/png": "[encoded data removed]",
      "text/plain": [
       "<Figure size 864x432 with 2 Axes>"
      ]
     },
     "metadata": {
      "needs_background": "light"
     },
     "output_type": "display_data"
    }
   ],
   "source": [
    "grid_size = 4+1\n",
    "threshold_lats_1 = np.linspace(stations.latitude.min(), stations.latitude.max(), grid_size)\n",
    "threshold_lons_1 = np.linspace(stations.longitude.min(), stations.longitude.max(), grid_size)\n",
    "\n",
    "\n",
    "morning = data[data.time == datetime(year=2018, month=5, day=25, hour=7, minute=30).time()].reset_index()\n",
    "evening = data[data.time == datetime(year=2018, month=5, day=25, hour=16, minute=30).time()].reset_index()\n",
    "\n",
    "morning = morning[100*169:101*169]\n",
    "evening = evening[100*169:101*169]\n",
    "\n",
    "morning['cluster_id'] =  morning.cluster_id.apply(lambda x: int(x))\n",
    "plot_m = stations_rough.merge(morning, how='left', left_on='cluster_id', right_on='cluster_id')\n",
    "plot_m['log'] =  plot_m.demand.apply(lambda x: symmetric_log(x))\n",
    "\n",
    "evening['cluster_id'] =  evening.cluster_id.apply(lambda x: int(x))\n",
    "plot_e = stations_rough.merge(evening, how='left', left_on='cluster_id', right_on='cluster_id')\n",
    "plot_e['log'] =  plot_e.demand.apply(lambda x: symmetric_log(x))\n",
    "\n",
    "\n",
    "plt.figure(figsize=(12,6))\n",
    "plt.subplot(121)\n",
    "\n",
    "plt.scatter(stations.latitude, stations.longitude, marker='.', c='k', alpha=0.2)\n",
    "plt.scatter(plot_m.latitude, plot_m.longitude,  marker='.', c=plot_m.log, cmap='bwr')\n",
    "plt.vlines(x=threshold_lats_1, ymin=stations.longitude.min(), ymax=stations.longitude.max())\n",
    "plt.hlines(y=threshold_lons_1, xmin=stations.latitude.min(), xmax=stations.latitude.max())\n",
    "lim = max((-1)*plot_m.log.min(), plot_m.log.max())\n",
    "print(lim, plot_m.log.min(), plot_m.log.max())\n",
    "plt.clim((-1)*lim, lim)\n",
    "\n",
    "plt.subplot(122)\n",
    "plt.scatter(stations.latitude, stations.longitude, marker='.', c='k', alpha=0.2)\n",
    "plt.scatter(plot_e.latitude, plot_e.longitude,  marker='.', c=plot_e.log, cmap='bwr')\n",
    "plt.vlines(x=threshold_lats_1, ymin=stations.longitude.min(), ymax=stations.longitude.max())\n",
    "plt.hlines(y=threshold_lons_1, xmin=stations.latitude.min(), xmax=stations.latitude.max())\n",
    "lim = max((-1)*plot_e.log.min(), plot_e.log.max())\n",
    "print(lim, plot_e.log.min(), plot_e.log.max())\n",
    "plt.clim((-1)*lim, lim)"
   ]
  },
  {
   "cell_type": "code",
   "execution_count": 330,
   "metadata": {},
   "outputs": [
    {
     "data": {
      "text/html": [
       "<div>\n",
       "<style scoped>\n",
       "    .dataframe tbody tr th:only-of-type {\n",
       "        vertical-align: middle;\n",
       "    }\n",
       "\n",
       "    .dataframe tbody tr th {\n",
       "        vertical-align: top;\n",
       "    }\n",
       "\n",
       "    .dataframe thead th {\n",
       "        text-align: right;\n",
       "    }\n",
       "</style>\n",
       "<table border=\"1\" class=\"dataframe\">\n",
       "  <thead>\n",
       "    <tr style=\"text-align: right;\">\n",
       "      <th></th>\n",
       "      <th>index</th>\n",
       "      <th>cluster_id</th>\n",
       "      <th>L1</th>\n",
       "      <th>L2</th>\n",
       "      <th>weekday</th>\n",
       "      <th>holiday</th>\n",
       "      <th>time</th>\n",
       "      <th>month</th>\n",
       "      <th>clear_sky</th>\n",
       "      <th>extreme_weather</th>\n",
       "      <th>foggy</th>\n",
       "      <th>humidity</th>\n",
       "      <th>thunderstorm</th>\n",
       "      <th>rain</th>\n",
       "      <th>temperature</th>\n",
       "      <th>wind</th>\n",
       "      <th>wintry</th>\n",
       "      <th>demand</th>\n",
       "    </tr>\n",
       "  </thead>\n",
       "  <tbody>\n",
       "    <tr>\n",
       "      <th>16900</th>\n",
       "      <td>271245</td>\n",
       "      <td>0</td>\n",
       "      <td>102</td>\n",
       "      <td>102_101</td>\n",
       "      <td>1</td>\n",
       "      <td>0</td>\n",
       "      <td>07:30:00</td>\n",
       "      <td>4</td>\n",
       "      <td>0</td>\n",
       "      <td>0</td>\n",
       "      <td>0</td>\n",
       "      <td>67.0</td>\n",
       "      <td>0</td>\n",
       "      <td>0</td>\n",
       "      <td>62.0</td>\n",
       "      <td>0</td>\n",
       "      <td>0</td>\n",
       "      <td>6</td>\n",
       "    </tr>\n",
       "    <tr>\n",
       "      <th>16901</th>\n",
       "      <td>271246</td>\n",
       "      <td>1</td>\n",
       "      <td>102</td>\n",
       "      <td>102_101</td>\n",
       "      <td>1</td>\n",
       "      <td>0</td>\n",
       "      <td>07:30:00</td>\n",
       "      <td>4</td>\n",
       "      <td>0</td>\n",
       "      <td>0</td>\n",
       "      <td>0</td>\n",
       "      <td>67.0</td>\n",
       "      <td>0</td>\n",
       "      <td>0</td>\n",
       "      <td>62.0</td>\n",
       "      <td>0</td>\n",
       "      <td>0</td>\n",
       "      <td>8</td>\n",
       "    </tr>\n",
       "    <tr>\n",
       "      <th>16902</th>\n",
       "      <td>271247</td>\n",
       "      <td>2</td>\n",
       "      <td>102</td>\n",
       "      <td>102_102</td>\n",
       "      <td>1</td>\n",
       "      <td>0</td>\n",
       "      <td>07:30:00</td>\n",
       "      <td>4</td>\n",
       "      <td>0</td>\n",
       "      <td>0</td>\n",
       "      <td>0</td>\n",
       "      <td>67.0</td>\n",
       "      <td>0</td>\n",
       "      <td>0</td>\n",
       "      <td>62.0</td>\n",
       "      <td>0</td>\n",
       "      <td>0</td>\n",
       "      <td>-5</td>\n",
       "    </tr>\n",
       "    <tr>\n",
       "      <th>16903</th>\n",
       "      <td>271248</td>\n",
       "      <td>3</td>\n",
       "      <td>102</td>\n",
       "      <td>102_102</td>\n",
       "      <td>1</td>\n",
       "      <td>0</td>\n",
       "      <td>07:30:00</td>\n",
       "      <td>4</td>\n",
       "      <td>0</td>\n",
       "      <td>0</td>\n",
       "      <td>0</td>\n",
       "      <td>67.0</td>\n",
       "      <td>0</td>\n",
       "      <td>0</td>\n",
       "      <td>62.0</td>\n",
       "      <td>0</td>\n",
       "      <td>0</td>\n",
       "      <td>6</td>\n",
       "    </tr>\n",
       "    <tr>\n",
       "      <th>16904</th>\n",
       "      <td>271249</td>\n",
       "      <td>4</td>\n",
       "      <td>102</td>\n",
       "      <td>102_201</td>\n",
       "      <td>1</td>\n",
       "      <td>0</td>\n",
       "      <td>07:30:00</td>\n",
       "      <td>4</td>\n",
       "      <td>0</td>\n",
       "      <td>0</td>\n",
       "      <td>0</td>\n",
       "      <td>67.0</td>\n",
       "      <td>0</td>\n",
       "      <td>0</td>\n",
       "      <td>62.0</td>\n",
       "      <td>0</td>\n",
       "      <td>0</td>\n",
       "      <td>-11</td>\n",
       "    </tr>\n",
       "  </tbody>\n",
       "</table>\n",
       "</div>"
      ],
      "text/plain": [
       "        index  cluster_id   L1       L2 weekday holiday      time month  \\\n",
       "16900  271245           0  102  102_101       1       0  07:30:00     4   \n",
       "16901  271246           1  102  102_101       1       0  07:30:00     4   \n",
       "16902  271247           2  102  102_102       1       0  07:30:00     4   \n",
       "16903  271248           3  102  102_102       1       0  07:30:00     4   \n",
       "16904  271249           4  102  102_201       1       0  07:30:00     4   \n",
       "\n",
       "      clear_sky extreme_weather foggy  humidity thunderstorm rain  \\\n",
       "16900         0               0     0      67.0            0    0   \n",
       "16901         0               0     0      67.0            0    0   \n",
       "16902         0               0     0      67.0            0    0   \n",
       "16903         0               0     0      67.0            0    0   \n",
       "16904         0               0     0      67.0            0    0   \n",
       "\n",
       "       temperature wind wintry  demand  \n",
       "16900         62.0    0      0       6  \n",
       "16901         62.0    0      0       8  \n",
       "16902         62.0    0      0      -5  \n",
       "16903         62.0    0      0       6  \n",
       "16904         62.0    0      0     -11  "
      ]
     },
     "execution_count": 330,
     "metadata": {},
     "output_type": "execute_result"
    }
   ],
   "source": [
    "morning.head()"
   ]
  },
  {
   "cell_type": "code",
   "execution_count": 319,
   "metadata": {},
   "outputs": [
    {
     "name": "stdout",
     "output_type": "stream",
     "text": [
      "11.0 -11.0 8.0\n",
      "10.0 -10.0 6.0\n"
     ]
    },
    {
     "data": {
      "image/png": "[encoded data removed]",
      "text/plain": [
       "<Figure size 864x432 with 2 Axes>"
      ]
     },
     "metadata": {
      "needs_background": "light"
     },
     "output_type": "display_data"
    }
   ],
   "source": [
    "grid_size = 4+1\n",
    "threshold_lats_1 = np.linspace(stations.latitude.min(), stations.latitude.max(), grid_size)\n",
    "threshold_lons_1 = np.linspace(stations.longitude.min(), stations.longitude.max(), grid_size)\n",
    "\n",
    "\n",
    "morning = data[data.time == datetime(year=2018, month=5, day=25, hour=7, minute=30).time()].reset_index()\n",
    "evening = data[data.time == datetime(year=2018, month=5, day=25, hour=16, minute=30).time()].reset_index()\n",
    "\n",
    "morning = morning[100*169:101*169]\n",
    "evening = evening[100*169:101*169]\n",
    "\n",
    "morning['cluster_id'] =  morning.cluster_id.apply(lambda x: int(x))\n",
    "plot_m = stations_rough.merge(morning, how='left', left_on='cluster_id', right_on='cluster_id')\n",
    "plot_m['log'] =  plot_m.demand.apply(lambda x: symmetric_log(x))\n",
    "\n",
    "evening['cluster_id'] =  evening.cluster_id.apply(lambda x: int(x))\n",
    "plot_e = stations_rough.merge(evening, how='left', left_on='cluster_id', right_on='cluster_id')\n",
    "plot_e['log'] =  plot_e.demand.apply(lambda x: symmetric_log(x))\n",
    "\n",
    "\n",
    "plt.figure(figsize=(12,6))\n",
    "plt.subplot(121)\n",
    "\n",
    "plt.scatter(stations.latitude, stations.longitude, marker='.', c='k', alpha=0.2)\n",
    "plt.scatter(plot_m.latitude, plot_m.longitude,  marker='.', c=plot_m.demand, cmap='bwr')\n",
    "plt.vlines(x=threshold_lats_1, ymin=stations.longitude.min(), ymax=stations.longitude.max())\n",
    "plt.hlines(y=threshold_lons_1, xmin=stations.latitude.min(), xmax=stations.latitude.max())\n",
    "lim = max((-1)*plot_m.demand.min(), plot_m.demand.max())\n",
    "print(lim, plot_m.demand.min(), plot_m.demand.max())\n",
    "plt.clim((-1)*lim, lim)\n",
    "\n",
    "plt.subplot(122)\n",
    "plt.scatter(stations.latitude, stations.longitude, marker='.', c='k', alpha=0.2)\n",
    "plt.scatter(plot_e.latitude, plot_e.longitude,  marker='.', c=plot_e.demand, cmap='bwr')\n",
    "plt.vlines(x=threshold_lats_1, ymin=stations.longitude.min(), ymax=stations.longitude.max())\n",
    "plt.hlines(y=threshold_lons_1, xmin=stations.latitude.min(), xmax=stations.latitude.max())\n",
    "lim = max((-1)*plot_e.demand.min(), plot_e.demand.max())\n",
    "print(lim, plot_e.demand.min(), plot_e.demand.max())\n",
    "plt.clim((-1)*lim, lim)"
   ]
  },
  {
   "cell_type": "code",
   "execution_count": null,
   "metadata": {},
   "outputs": [],
   "source": []
  },
  {
   "cell_type": "code",
   "execution_count": null,
   "metadata": {},
   "outputs": [],
   "source": []
  },
  {
   "cell_type": "markdown",
   "metadata": {},
   "source": [
    "# What is next:\n",
    "\n",
    "### Data:\n",
    "- Data collection (trip data, stations, weather, holiday (bank-)...)\n",
    "- more data cleaning and feature engineering, find more features\n",
    "- split data for cross validation (leave out part for prediction of the trees and for training of the NNet/combination of trees)\n",
    "\n",
    "### AI-Part:\n",
    "#### Build trees\n",
    "- code for decision tree with Entropy/Information Gain\n",
    "- code for decision tree with random split\n",
    "- random forest trees (where one variable is left out)\n",
    "- other ways of building trees\n",
    "\n",
    "#### Combine trees:\n",
    "- uniformly\n",
    "- with fancy Neural Nets\n",
    "- something like AdaBoost\n",
    "\n",
    "### Visualization\n",
    "- demand on map\n",
    "- time moving map?\n",
    "- real-time prediction?\n",
    "\n"
   ]
  },
  {
   "cell_type": "code",
   "execution_count": null,
   "metadata": {},
   "outputs": [],
   "source": []
  },
  {
   "cell_type": "markdown",
   "metadata": {},
   "source": [
    "# Additional stuff, Appendix"
   ]
  },
  {
   "cell_type": "markdown",
   "metadata": {},
   "source": [
    "# Drop zero-rows in pickup and returns"
   ]
  },
  {
   "cell_type": "code",
   "execution_count": 70,
   "metadata": {},
   "outputs": [],
   "source": [
    "year = 2017\n",
    "pickups = pd.read_pickle(cwd+'/data/pickups_' + str(year) + '.pkl')\n",
    "returns = pd.read_pickle(cwd+'/data/returns_' + str(year) + '.pkl')\n",
    "\n",
    "returns_wo_zero = returns[returns.returns != 0]\n",
    "pickups_wo_zero = pickups[pickups.pickups != 0]\n",
    "\n",
    "returns_wo_zero.to_csv(cwd+'/data/returns_wo_zero_' + str(year) + '.csv')\n",
    "pickups_wo_zero.to_csv(cwd+'/data/pickups_wo_zero_' + str(year) + '.csv')"
   ]
  },
  {
   "cell_type": "markdown",
   "metadata": {},
   "source": [
    "# Drop variables that we are not interested in "
   ]
  },
  {
   "cell_type": "code",
   "execution_count": 316,
   "metadata": {},
   "outputs": [],
   "source": [
    "results = results[['cluster_id', 'L1', 'L2', \n",
    "                   'weekday', 'holiday', 'time', \n",
    "                   'month', 'clear_sky', 'extreme_weather', \n",
    "                   'foggy', 'humidity', 'thunderstorm', \n",
    "                   'rain', 'temperature', 'wind', \n",
    "                   'wintry', 'ceil']]"
   ]
  },
  {
   "cell_type": "code",
   "execution_count": null,
   "metadata": {},
   "outputs": [],
   "source": []
  },
  {
   "cell_type": "code",
   "execution_count": null,
   "metadata": {},
   "outputs": [],
   "source": []
  },
  {
   "cell_type": "code",
   "execution_count": null,
   "metadata": {},
   "outputs": [],
   "source": []
  },
  {
   "cell_type": "markdown",
   "metadata": {},
   "source": [
    "# Fix New Years issue"
   ]
  },
  {
   "cell_type": "code",
   "execution_count": 317,
   "metadata": {},
   "outputs": [
    {
     "name": "stdout",
     "output_type": "stream",
     "text": [
      "2016\n"
     ]
    },
    {
     "ename": "FileNotFoundError",
     "evalue": "[Errno 2] No such file or directory: '/home/franzi/briedenCloud/Studium/4Semester/ArtificialIntelligence/AI-Project/data/pickups_jan_2016.pkl'",
     "output_type": "error",
     "traceback": [
      "\u001b[0;31m---------------------------------------------------------------------------\u001b[0m",
      "\u001b[0;31mFileNotFoundError\u001b[0m                         Traceback (most recent call last)",
      "\u001b[0;32m~/.local/lib/python3.5/site-packages/pandas/io/pickle.py\u001b[0m in \u001b[0;36mtry_read\u001b[0;34m(path, encoding)\u001b[0m\n\u001b[1;32m    165\u001b[0m                 \u001b[0;31m# We want to silencce any warnings about, e.g. moved modules.\u001b[0m\u001b[0;34m\u001b[0m\u001b[0;34m\u001b[0m\u001b[0m\n\u001b[0;32m--> 166\u001b[0;31m                 \u001b[0;32mreturn\u001b[0m \u001b[0mread_wrapper\u001b[0m\u001b[0;34m(\u001b[0m\u001b[0;32mlambda\u001b[0m \u001b[0mf\u001b[0m\u001b[0;34m:\u001b[0m \u001b[0mpkl\u001b[0m\u001b[0;34m.\u001b[0m\u001b[0mload\u001b[0m\u001b[0;34m(\u001b[0m\u001b[0mf\u001b[0m\u001b[0;34m)\u001b[0m\u001b[0;34m)\u001b[0m\u001b[0;34m\u001b[0m\u001b[0m\n\u001b[0m\u001b[1;32m    167\u001b[0m         \u001b[0;32mexcept\u001b[0m \u001b[0mException\u001b[0m\u001b[0;34m:\u001b[0m\u001b[0;34m\u001b[0m\u001b[0m\n",
      "\u001b[0;32m~/.local/lib/python3.5/site-packages/pandas/io/pickle.py\u001b[0m in \u001b[0;36mread_wrapper\u001b[0;34m(func)\u001b[0m\n\u001b[1;32m    146\u001b[0m                             \u001b[0mcompression\u001b[0m\u001b[0;34m=\u001b[0m\u001b[0minferred_compression\u001b[0m\u001b[0;34m,\u001b[0m\u001b[0;34m\u001b[0m\u001b[0m\n\u001b[0;32m--> 147\u001b[0;31m                             is_text=False)\n\u001b[0m\u001b[1;32m    148\u001b[0m         \u001b[0;32mtry\u001b[0m\u001b[0;34m:\u001b[0m\u001b[0;34m\u001b[0m\u001b[0m\n",
      "\u001b[0;32m~/.local/lib/python3.5/site-packages/pandas/io/common.py\u001b[0m in \u001b[0;36m_get_handle\u001b[0;34m(path_or_buf, mode, encoding, compression, memory_map, is_text)\u001b[0m\n\u001b[1;32m    405\u001b[0m             \u001b[0;31m# Python 3 and binary mode\u001b[0m\u001b[0;34m\u001b[0m\u001b[0;34m\u001b[0m\u001b[0m\n\u001b[0;32m--> 406\u001b[0;31m             \u001b[0mf\u001b[0m \u001b[0;34m=\u001b[0m \u001b[0mopen\u001b[0m\u001b[0;34m(\u001b[0m\u001b[0mpath_or_buf\u001b[0m\u001b[0;34m,\u001b[0m \u001b[0mmode\u001b[0m\u001b[0;34m)\u001b[0m\u001b[0;34m\u001b[0m\u001b[0m\n\u001b[0m\u001b[1;32m    407\u001b[0m         \u001b[0mhandles\u001b[0m\u001b[0;34m.\u001b[0m\u001b[0mappend\u001b[0m\u001b[0;34m(\u001b[0m\u001b[0mf\u001b[0m\u001b[0;34m)\u001b[0m\u001b[0;34m\u001b[0m\u001b[0m\n",
      "\u001b[0;31mFileNotFoundError\u001b[0m: [Errno 2] No such file or directory: '/home/franzi/briedenCloud/Studium/4Semester/ArtificialIntelligence/AI-Project/data/pickups_jan_2016.pkl'",
      "\nDuring handling of the above exception, another exception occurred:\n",
      "\u001b[0;31mFileNotFoundError\u001b[0m                         Traceback (most recent call last)",
      "\u001b[0;32m~/.local/lib/python3.5/site-packages/pandas/io/pickle.py\u001b[0m in \u001b[0;36mtry_read\u001b[0;34m(path, encoding)\u001b[0m\n\u001b[1;32m    170\u001b[0m                 return read_wrapper(\n\u001b[0;32m--> 171\u001b[0;31m                     lambda f: pc.load(f, encoding=encoding, compat=False))\n\u001b[0m\u001b[1;32m    172\u001b[0m             \u001b[0;31m# compat pickle\u001b[0m\u001b[0;34m\u001b[0m\u001b[0;34m\u001b[0m\u001b[0m\n",
      "\u001b[0;32m~/.local/lib/python3.5/site-packages/pandas/io/pickle.py\u001b[0m in \u001b[0;36mread_wrapper\u001b[0;34m(func)\u001b[0m\n\u001b[1;32m    146\u001b[0m                             \u001b[0mcompression\u001b[0m\u001b[0;34m=\u001b[0m\u001b[0minferred_compression\u001b[0m\u001b[0;34m,\u001b[0m\u001b[0;34m\u001b[0m\u001b[0m\n\u001b[0;32m--> 147\u001b[0;31m                             is_text=False)\n\u001b[0m\u001b[1;32m    148\u001b[0m         \u001b[0;32mtry\u001b[0m\u001b[0;34m:\u001b[0m\u001b[0;34m\u001b[0m\u001b[0m\n",
      "\u001b[0;32m~/.local/lib/python3.5/site-packages/pandas/io/common.py\u001b[0m in \u001b[0;36m_get_handle\u001b[0;34m(path_or_buf, mode, encoding, compression, memory_map, is_text)\u001b[0m\n\u001b[1;32m    405\u001b[0m             \u001b[0;31m# Python 3 and binary mode\u001b[0m\u001b[0;34m\u001b[0m\u001b[0;34m\u001b[0m\u001b[0m\n\u001b[0;32m--> 406\u001b[0;31m             \u001b[0mf\u001b[0m \u001b[0;34m=\u001b[0m \u001b[0mopen\u001b[0m\u001b[0;34m(\u001b[0m\u001b[0mpath_or_buf\u001b[0m\u001b[0;34m,\u001b[0m \u001b[0mmode\u001b[0m\u001b[0;34m)\u001b[0m\u001b[0;34m\u001b[0m\u001b[0m\n\u001b[0m\u001b[1;32m    407\u001b[0m         \u001b[0mhandles\u001b[0m\u001b[0;34m.\u001b[0m\u001b[0mappend\u001b[0m\u001b[0;34m(\u001b[0m\u001b[0mf\u001b[0m\u001b[0;34m)\u001b[0m\u001b[0;34m\u001b[0m\u001b[0m\n",
      "\u001b[0;31mFileNotFoundError\u001b[0m: [Errno 2] No such file or directory: '/home/franzi/briedenCloud/Studium/4Semester/ArtificialIntelligence/AI-Project/data/pickups_jan_2016.pkl'",
      "\nDuring handling of the above exception, another exception occurred:\n",
      "\u001b[0;31mFileNotFoundError\u001b[0m                         Traceback (most recent call last)",
      "\u001b[0;32m~/.local/lib/python3.5/site-packages/pandas/io/pickle.py\u001b[0m in \u001b[0;36mread_pickle\u001b[0;34m(path, compression)\u001b[0m\n\u001b[1;32m    176\u001b[0m     \u001b[0;32mtry\u001b[0m\u001b[0;34m:\u001b[0m\u001b[0;34m\u001b[0m\u001b[0m\n\u001b[0;32m--> 177\u001b[0;31m         \u001b[0;32mreturn\u001b[0m \u001b[0mtry_read\u001b[0m\u001b[0;34m(\u001b[0m\u001b[0mpath\u001b[0m\u001b[0;34m)\u001b[0m\u001b[0;34m\u001b[0m\u001b[0m\n\u001b[0m\u001b[1;32m    178\u001b[0m     \u001b[0;32mexcept\u001b[0m\u001b[0;34m:\u001b[0m\u001b[0;34m\u001b[0m\u001b[0m\n",
      "\u001b[0;32m~/.local/lib/python3.5/site-packages/pandas/io/pickle.py\u001b[0m in \u001b[0;36mtry_read\u001b[0;34m(path, encoding)\u001b[0m\n\u001b[1;32m    174\u001b[0m                 return read_wrapper(\n\u001b[0;32m--> 175\u001b[0;31m                     lambda f: pc.load(f, encoding=encoding, compat=True))\n\u001b[0m\u001b[1;32m    176\u001b[0m     \u001b[0;32mtry\u001b[0m\u001b[0;34m:\u001b[0m\u001b[0;34m\u001b[0m\u001b[0m\n",
      "\u001b[0;32m~/.local/lib/python3.5/site-packages/pandas/io/pickle.py\u001b[0m in \u001b[0;36mread_wrapper\u001b[0;34m(func)\u001b[0m\n\u001b[1;32m    146\u001b[0m                             \u001b[0mcompression\u001b[0m\u001b[0;34m=\u001b[0m\u001b[0minferred_compression\u001b[0m\u001b[0;34m,\u001b[0m\u001b[0;34m\u001b[0m\u001b[0m\n\u001b[0;32m--> 147\u001b[0;31m                             is_text=False)\n\u001b[0m\u001b[1;32m    148\u001b[0m         \u001b[0;32mtry\u001b[0m\u001b[0;34m:\u001b[0m\u001b[0;34m\u001b[0m\u001b[0m\n",
      "\u001b[0;32m~/.local/lib/python3.5/site-packages/pandas/io/common.py\u001b[0m in \u001b[0;36m_get_handle\u001b[0;34m(path_or_buf, mode, encoding, compression, memory_map, is_text)\u001b[0m\n\u001b[1;32m    405\u001b[0m             \u001b[0;31m# Python 3 and binary mode\u001b[0m\u001b[0;34m\u001b[0m\u001b[0;34m\u001b[0m\u001b[0m\n\u001b[0;32m--> 406\u001b[0;31m             \u001b[0mf\u001b[0m \u001b[0;34m=\u001b[0m \u001b[0mopen\u001b[0m\u001b[0;34m(\u001b[0m\u001b[0mpath_or_buf\u001b[0m\u001b[0;34m,\u001b[0m \u001b[0mmode\u001b[0m\u001b[0;34m)\u001b[0m\u001b[0;34m\u001b[0m\u001b[0m\n\u001b[0m\u001b[1;32m    407\u001b[0m         \u001b[0mhandles\u001b[0m\u001b[0;34m.\u001b[0m\u001b[0mappend\u001b[0m\u001b[0;34m(\u001b[0m\u001b[0mf\u001b[0m\u001b[0;34m)\u001b[0m\u001b[0;34m\u001b[0m\u001b[0m\n",
      "\u001b[0;31mFileNotFoundError\u001b[0m: [Errno 2] No such file or directory: '/home/franzi/briedenCloud/Studium/4Semester/ArtificialIntelligence/AI-Project/data/pickups_jan_2016.pkl'",
      "\nDuring handling of the above exception, another exception occurred:\n",
      "\u001b[0;31mFileNotFoundError\u001b[0m                         Traceback (most recent call last)",
      "\u001b[0;32m~/.local/lib/python3.5/site-packages/pandas/io/pickle.py\u001b[0m in \u001b[0;36mtry_read\u001b[0;34m(path, encoding)\u001b[0m\n\u001b[1;32m    165\u001b[0m                 \u001b[0;31m# We want to silencce any warnings about, e.g. moved modules.\u001b[0m\u001b[0;34m\u001b[0m\u001b[0;34m\u001b[0m\u001b[0m\n\u001b[0;32m--> 166\u001b[0;31m                 \u001b[0;32mreturn\u001b[0m \u001b[0mread_wrapper\u001b[0m\u001b[0;34m(\u001b[0m\u001b[0;32mlambda\u001b[0m \u001b[0mf\u001b[0m\u001b[0;34m:\u001b[0m \u001b[0mpkl\u001b[0m\u001b[0;34m.\u001b[0m\u001b[0mload\u001b[0m\u001b[0;34m(\u001b[0m\u001b[0mf\u001b[0m\u001b[0;34m)\u001b[0m\u001b[0;34m)\u001b[0m\u001b[0;34m\u001b[0m\u001b[0m\n\u001b[0m\u001b[1;32m    167\u001b[0m         \u001b[0;32mexcept\u001b[0m \u001b[0mException\u001b[0m\u001b[0;34m:\u001b[0m\u001b[0;34m\u001b[0m\u001b[0m\n",
      "\u001b[0;32m~/.local/lib/python3.5/site-packages/pandas/io/pickle.py\u001b[0m in \u001b[0;36mread_wrapper\u001b[0;34m(func)\u001b[0m\n\u001b[1;32m    146\u001b[0m                             \u001b[0mcompression\u001b[0m\u001b[0;34m=\u001b[0m\u001b[0minferred_compression\u001b[0m\u001b[0;34m,\u001b[0m\u001b[0;34m\u001b[0m\u001b[0m\n\u001b[0;32m--> 147\u001b[0;31m                             is_text=False)\n\u001b[0m\u001b[1;32m    148\u001b[0m         \u001b[0;32mtry\u001b[0m\u001b[0;34m:\u001b[0m\u001b[0;34m\u001b[0m\u001b[0m\n",
      "\u001b[0;32m~/.local/lib/python3.5/site-packages/pandas/io/common.py\u001b[0m in \u001b[0;36m_get_handle\u001b[0;34m(path_or_buf, mode, encoding, compression, memory_map, is_text)\u001b[0m\n\u001b[1;32m    405\u001b[0m             \u001b[0;31m# Python 3 and binary mode\u001b[0m\u001b[0;34m\u001b[0m\u001b[0;34m\u001b[0m\u001b[0m\n\u001b[0;32m--> 406\u001b[0;31m             \u001b[0mf\u001b[0m \u001b[0;34m=\u001b[0m \u001b[0mopen\u001b[0m\u001b[0;34m(\u001b[0m\u001b[0mpath_or_buf\u001b[0m\u001b[0;34m,\u001b[0m \u001b[0mmode\u001b[0m\u001b[0;34m)\u001b[0m\u001b[0;34m\u001b[0m\u001b[0m\n\u001b[0m\u001b[1;32m    407\u001b[0m         \u001b[0mhandles\u001b[0m\u001b[0;34m.\u001b[0m\u001b[0mappend\u001b[0m\u001b[0;34m(\u001b[0m\u001b[0mf\u001b[0m\u001b[0;34m)\u001b[0m\u001b[0;34m\u001b[0m\u001b[0m\n",
      "\u001b[0;31mFileNotFoundError\u001b[0m: [Errno 2] No such file or directory: '/home/franzi/briedenCloud/Studium/4Semester/ArtificialIntelligence/AI-Project/data/pickups_jan_2016.pkl'",
      "\nDuring handling of the above exception, another exception occurred:\n",
      "\u001b[0;31mFileNotFoundError\u001b[0m                         Traceback (most recent call last)",
      "\u001b[0;32m~/.local/lib/python3.5/site-packages/pandas/io/pickle.py\u001b[0m in \u001b[0;36mtry_read\u001b[0;34m(path, encoding)\u001b[0m\n\u001b[1;32m    170\u001b[0m                 return read_wrapper(\n\u001b[0;32m--> 171\u001b[0;31m                     lambda f: pc.load(f, encoding=encoding, compat=False))\n\u001b[0m\u001b[1;32m    172\u001b[0m             \u001b[0;31m# compat pickle\u001b[0m\u001b[0;34m\u001b[0m\u001b[0;34m\u001b[0m\u001b[0m\n",
      "\u001b[0;32m~/.local/lib/python3.5/site-packages/pandas/io/pickle.py\u001b[0m in \u001b[0;36mread_wrapper\u001b[0;34m(func)\u001b[0m\n\u001b[1;32m    146\u001b[0m                             \u001b[0mcompression\u001b[0m\u001b[0;34m=\u001b[0m\u001b[0minferred_compression\u001b[0m\u001b[0;34m,\u001b[0m\u001b[0;34m\u001b[0m\u001b[0m\n\u001b[0;32m--> 147\u001b[0;31m                             is_text=False)\n\u001b[0m\u001b[1;32m    148\u001b[0m         \u001b[0;32mtry\u001b[0m\u001b[0;34m:\u001b[0m\u001b[0;34m\u001b[0m\u001b[0m\n",
      "\u001b[0;32m~/.local/lib/python3.5/site-packages/pandas/io/common.py\u001b[0m in \u001b[0;36m_get_handle\u001b[0;34m(path_or_buf, mode, encoding, compression, memory_map, is_text)\u001b[0m\n\u001b[1;32m    405\u001b[0m             \u001b[0;31m# Python 3 and binary mode\u001b[0m\u001b[0;34m\u001b[0m\u001b[0;34m\u001b[0m\u001b[0m\n\u001b[0;32m--> 406\u001b[0;31m             \u001b[0mf\u001b[0m \u001b[0;34m=\u001b[0m \u001b[0mopen\u001b[0m\u001b[0;34m(\u001b[0m\u001b[0mpath_or_buf\u001b[0m\u001b[0;34m,\u001b[0m \u001b[0mmode\u001b[0m\u001b[0;34m)\u001b[0m\u001b[0;34m\u001b[0m\u001b[0m\n\u001b[0m\u001b[1;32m    407\u001b[0m         \u001b[0mhandles\u001b[0m\u001b[0;34m.\u001b[0m\u001b[0mappend\u001b[0m\u001b[0;34m(\u001b[0m\u001b[0mf\u001b[0m\u001b[0;34m)\u001b[0m\u001b[0;34m\u001b[0m\u001b[0m\n",
      "\u001b[0;31mFileNotFoundError\u001b[0m: [Errno 2] No such file or directory: '/home/franzi/briedenCloud/Studium/4Semester/ArtificialIntelligence/AI-Project/data/pickups_jan_2016.pkl'",
      "\nDuring handling of the above exception, another exception occurred:\n",
      "\u001b[0;31mFileNotFoundError\u001b[0m                         Traceback (most recent call last)",
      "\u001b[0;32m<ipython-input-317-db1a50e8b342>\u001b[0m in \u001b[0;36m<module>\u001b[0;34m()\u001b[0m\n\u001b[1;32m      2\u001b[0m     \u001b[0mprint\u001b[0m\u001b[0;34m(\u001b[0m\u001b[0myear\u001b[0m\u001b[0;34m)\u001b[0m\u001b[0;34m\u001b[0m\u001b[0m\n\u001b[1;32m      3\u001b[0m     \u001b[0mpickups\u001b[0m \u001b[0;34m=\u001b[0m \u001b[0mpd\u001b[0m\u001b[0;34m.\u001b[0m\u001b[0mread_pickle\u001b[0m\u001b[0;34m(\u001b[0m\u001b[0mcwd\u001b[0m\u001b[0;34m+\u001b[0m\u001b[0;34m'/data/pickups_'\u001b[0m \u001b[0;34m+\u001b[0m \u001b[0mstr\u001b[0m\u001b[0;34m(\u001b[0m\u001b[0myear\u001b[0m\u001b[0;34m)\u001b[0m \u001b[0;34m+\u001b[0m \u001b[0;34m'.pkl'\u001b[0m\u001b[0;34m)\u001b[0m\u001b[0;34m\u001b[0m\u001b[0m\n\u001b[0;32m----> 4\u001b[0;31m     \u001b[0mpickups_jan\u001b[0m \u001b[0;34m=\u001b[0m \u001b[0mpd\u001b[0m\u001b[0;34m.\u001b[0m\u001b[0mread_pickle\u001b[0m\u001b[0;34m(\u001b[0m\u001b[0mcwd\u001b[0m\u001b[0;34m+\u001b[0m\u001b[0;34m'/data/pickups_jan_'\u001b[0m \u001b[0;34m+\u001b[0m \u001b[0mstr\u001b[0m\u001b[0;34m(\u001b[0m\u001b[0myear\u001b[0m\u001b[0;34m)\u001b[0m \u001b[0;34m+\u001b[0m \u001b[0;34m'.pkl'\u001b[0m\u001b[0;34m)\u001b[0m\u001b[0;34m\u001b[0m\u001b[0m\n\u001b[0m\u001b[1;32m      5\u001b[0m \u001b[0;34m\u001b[0m\u001b[0m\n\u001b[1;32m      6\u001b[0m     \u001b[0mreturns\u001b[0m \u001b[0;34m=\u001b[0m \u001b[0mpd\u001b[0m\u001b[0;34m.\u001b[0m\u001b[0mread_pickle\u001b[0m\u001b[0;34m(\u001b[0m\u001b[0mcwd\u001b[0m\u001b[0;34m+\u001b[0m\u001b[0;34m'/data/returns_'\u001b[0m \u001b[0;34m+\u001b[0m \u001b[0mstr\u001b[0m\u001b[0;34m(\u001b[0m\u001b[0myear\u001b[0m\u001b[0;34m)\u001b[0m \u001b[0;34m+\u001b[0m \u001b[0;34m'.pkl'\u001b[0m\u001b[0;34m)\u001b[0m\u001b[0;34m\u001b[0m\u001b[0m\n",
      "\u001b[0;32m~/.local/lib/python3.5/site-packages/pandas/io/pickle.py\u001b[0m in \u001b[0;36mread_pickle\u001b[0;34m(path, compression)\u001b[0m\n\u001b[1;32m    178\u001b[0m     \u001b[0;32mexcept\u001b[0m\u001b[0;34m:\u001b[0m\u001b[0;34m\u001b[0m\u001b[0m\n\u001b[1;32m    179\u001b[0m         \u001b[0;32mif\u001b[0m \u001b[0mPY3\u001b[0m\u001b[0;34m:\u001b[0m\u001b[0;34m\u001b[0m\u001b[0m\n\u001b[0;32m--> 180\u001b[0;31m             \u001b[0;32mreturn\u001b[0m \u001b[0mtry_read\u001b[0m\u001b[0;34m(\u001b[0m\u001b[0mpath\u001b[0m\u001b[0;34m,\u001b[0m \u001b[0mencoding\u001b[0m\u001b[0;34m=\u001b[0m\u001b[0;34m'latin1'\u001b[0m\u001b[0;34m)\u001b[0m\u001b[0;34m\u001b[0m\u001b[0m\n\u001b[0m\u001b[1;32m    181\u001b[0m         \u001b[0;32mraise\u001b[0m\u001b[0;34m\u001b[0m\u001b[0m\n\u001b[1;32m    182\u001b[0m \u001b[0;34m\u001b[0m\u001b[0m\n",
      "\u001b[0;32m~/.local/lib/python3.5/site-packages/pandas/io/pickle.py\u001b[0m in \u001b[0;36mtry_read\u001b[0;34m(path, encoding)\u001b[0m\n\u001b[1;32m    173\u001b[0m             \u001b[0;32mexcept\u001b[0m\u001b[0;34m:\u001b[0m\u001b[0;34m\u001b[0m\u001b[0m\n\u001b[1;32m    174\u001b[0m                 return read_wrapper(\n\u001b[0;32m--> 175\u001b[0;31m                     lambda f: pc.load(f, encoding=encoding, compat=True))\n\u001b[0m\u001b[1;32m    176\u001b[0m     \u001b[0;32mtry\u001b[0m\u001b[0;34m:\u001b[0m\u001b[0;34m\u001b[0m\u001b[0m\n\u001b[1;32m    177\u001b[0m         \u001b[0;32mreturn\u001b[0m \u001b[0mtry_read\u001b[0m\u001b[0;34m(\u001b[0m\u001b[0mpath\u001b[0m\u001b[0;34m)\u001b[0m\u001b[0;34m\u001b[0m\u001b[0m\n",
      "\u001b[0;32m~/.local/lib/python3.5/site-packages/pandas/io/pickle.py\u001b[0m in \u001b[0;36mread_wrapper\u001b[0;34m(func)\u001b[0m\n\u001b[1;32m    145\u001b[0m         f, fh = _get_handle(path, 'rb',\n\u001b[1;32m    146\u001b[0m                             \u001b[0mcompression\u001b[0m\u001b[0;34m=\u001b[0m\u001b[0minferred_compression\u001b[0m\u001b[0;34m,\u001b[0m\u001b[0;34m\u001b[0m\u001b[0m\n\u001b[0;32m--> 147\u001b[0;31m                             is_text=False)\n\u001b[0m\u001b[1;32m    148\u001b[0m         \u001b[0;32mtry\u001b[0m\u001b[0;34m:\u001b[0m\u001b[0;34m\u001b[0m\u001b[0m\n\u001b[1;32m    149\u001b[0m             \u001b[0;32mreturn\u001b[0m \u001b[0mfunc\u001b[0m\u001b[0;34m(\u001b[0m\u001b[0mf\u001b[0m\u001b[0;34m)\u001b[0m\u001b[0;34m\u001b[0m\u001b[0m\n",
      "\u001b[0;32m~/.local/lib/python3.5/site-packages/pandas/io/common.py\u001b[0m in \u001b[0;36m_get_handle\u001b[0;34m(path_or_buf, mode, encoding, compression, memory_map, is_text)\u001b[0m\n\u001b[1;32m    404\u001b[0m         \u001b[0;32melse\u001b[0m\u001b[0;34m:\u001b[0m\u001b[0;34m\u001b[0m\u001b[0m\n\u001b[1;32m    405\u001b[0m             \u001b[0;31m# Python 3 and binary mode\u001b[0m\u001b[0;34m\u001b[0m\u001b[0;34m\u001b[0m\u001b[0m\n\u001b[0;32m--> 406\u001b[0;31m             \u001b[0mf\u001b[0m \u001b[0;34m=\u001b[0m \u001b[0mopen\u001b[0m\u001b[0;34m(\u001b[0m\u001b[0mpath_or_buf\u001b[0m\u001b[0;34m,\u001b[0m \u001b[0mmode\u001b[0m\u001b[0;34m)\u001b[0m\u001b[0;34m\u001b[0m\u001b[0m\n\u001b[0m\u001b[1;32m    407\u001b[0m         \u001b[0mhandles\u001b[0m\u001b[0;34m.\u001b[0m\u001b[0mappend\u001b[0m\u001b[0;34m(\u001b[0m\u001b[0mf\u001b[0m\u001b[0;34m)\u001b[0m\u001b[0;34m\u001b[0m\u001b[0m\n\u001b[1;32m    408\u001b[0m \u001b[0;34m\u001b[0m\u001b[0m\n",
      "\u001b[0;31mFileNotFoundError\u001b[0m: [Errno 2] No such file or directory: '/home/franzi/briedenCloud/Studium/4Semester/ArtificialIntelligence/AI-Project/data/pickups_jan_2016.pkl'"
     ]
    }
   ],
   "source": [
    "for year in [2016, 2017, 2018, 2019]:\n",
    "    print(year)\n",
    "    pickups = pd.read_pickle(cwd+'/data/pickups_' + str(year) + '.pkl')\n",
    "    pickups_jan = pd.read_pickle(cwd+'/data/pickups_jan_' + str(year) + '.pkl')\n",
    "\n",
    "    returns = pd.read_pickle(cwd+'/data/returns_' + str(year) + '.pkl')\n",
    "    returns_jan = pd.read_pickle(cwd+'/data/returns_jan_' + str(year) + '.pkl')\n",
    "\n",
    "    start = datetime(year=year, month=1, day=1, hour=0, minute=0)\n",
    "    end   = datetime(year=year, month=2, day=1, hour=0, minute=0) \n",
    "    pickups_rest = pickups[~((pickups.datetime >= start) & (pickups.datetime < end))]\n",
    "    returns_rest = returns[~((returns.datetime >= start) & (returns.datetime < end))]\n",
    "    \n",
    "\n",
    "    pickups_new = pd.concat([pickups_jan, pickups_rest], ignore_index=True)\n",
    "    print(pickups_new.shape, pickups.shape)\n",
    "    pickups_new.to_csv(cwd+'/data/pickups_' + str(year) + '.csv')\n",
    "    pickups_new.to_pickle(cwd+'/data/pickups_' + str(year) + '.pkl')\n",
    "\n",
    "    returns_new = pd.concat([returns_jan, returns_rest], ignore_index=True)\n",
    "    print(returns_new.shape, returns.shape)\n",
    "    returns_new.to_csv(cwd+'/data/returns_' + str(year) + '.csv')\n",
    "    returns_new.to_pickle(cwd+'/data/returns_' + str(year) + '.pkl')"
   ]
  },
  {
   "cell_type": "markdown",
   "metadata": {},
   "source": [
    "# Combine yearly results to whole results:"
   ]
  },
  {
   "cell_type": "code",
   "execution_count": null,
   "metadata": {},
   "outputs": [],
   "source": [
    "del data\n",
    "\n",
    "path = cwd+'/data/combine'\n",
    "files = [f for f in listdir(path) if isfile(join(path, f))]\n",
    "files.sort()\n",
    "files\n",
    "\n",
    "data = pd.read_pickle(path+'/'+files[0])\n",
    "for file in files[1:]:\n",
    "    print('load file: ', file)\n",
    "    data_new = pd.read_pickle(path+'/'+file)\n",
    "    print(data.shape, data_new.shape)\n",
    "    data = pd.concat([data, data_new], ignore_index=True)\n",
    "\n",
    "print('save file')\n",
    "data.rename(columns={'ceil' : 'demand'}, inplace=True)\n",
    "data.to_csv(cwd + '/data/combine/results_all.csv')\n",
    "data.to_pickle(cwd + '/data/combine/results_all.pkl')"
   ]
  },
  {
   "cell_type": "code",
   "execution_count": null,
   "metadata": {},
   "outputs": [],
   "source": []
  },
  {
   "cell_type": "markdown",
   "metadata": {},
   "source": [
    "# Split test data into 1000 subsets"
   ]
  },
  {
   "cell_type": "code",
   "execution_count": 69,
   "metadata": {},
   "outputs": [
    {
     "name": "stdout",
     "output_type": "stream",
     "text": [
      "[0.00000000e+00 1.23159100e+03 2.46318200e+03 ... 1.22912782e+06\n",
      " 1.23035941e+06 1.23159100e+06]\n"
     ]
    }
   ],
   "source": [
    "folder_path = '/home/franzi/briedenCloud/share/data/' \n",
    "\n",
    "parts = 1000\n",
    "for i in [1]:\n",
    "    data = pd.read_csv(folder_path + 'test_data_' + str(i) + '.csv')\n",
    "    slicer = np.linspace(0, data.shape[0], parts+1)\n",
    "    print(slicer)\n",
    "    for ind in range(0, parts):\n",
    "        first = int(slicer[ind])\n",
    "        last = int(slicer[ind+1] - 1) \n",
    "        # print(str(ind).zfill(4), first, last)\n",
    "        subset = data.iloc[first:last]\n",
    "        subset.to_csv(folder_path + 'subsets/test_data_' + str(i) + '_' + str(ind).zfill(4) + '.csv')"
   ]
  },
  {
   "cell_type": "code",
   "execution_count": null,
   "metadata": {},
   "outputs": [],
   "source": []
  },
  {
   "cell_type": "markdown",
   "metadata": {},
   "source": [
    "# Add Range for Temperature and Humidity"
   ]
  },
  {
   "cell_type": "code",
   "execution_count": 68,
   "metadata": {},
   "outputs": [],
   "source": [
    "folder_path = '/home/franzi/briedenCloud/share/data/' \n",
    "method = 'test'\n",
    "\n",
    "file_path = folder_path + method + '_data_1.csv'\n",
    "file_path_old = folder_path + method + '_data_1_old.csv'\n",
    "\n",
    "data = pd.read_csv(file_path)\n",
    "data.to_csv(file_path_old, index=False)\n",
    "\n",
    "threshold_temps = [30, 40, 50, 60, 70, 80]\n",
    "data['temp'] = 0\n",
    "for i in range(0,len(threshold_temps)):\n",
    "    data['temp'][data.temperature >= threshold_temps[i]] = threshold_temps[i]\n",
    "\n",
    "threshold_hums = [40, 50, 60, 70, 80, 90]\n",
    "data['hum'] = 0\n",
    "for i in range(0,len(threshold_hums)):\n",
    "    data['hum'][data.humidity >= threshold_hums[i]] = threshold_hums[i]\n",
    "\n",
    "data = data[['Unnamed: 0', 'Unnamed: 0.1', 'cluster_id', 'L1', 'L2', 'weekday',\n",
    "           'holiday', 'time', 'month', 'clear_sky', 'extreme_weather', 'foggy',\n",
    "           'humidity', 'thunderstorm', 'rain', 'temperature', 'wind', 'wintry', \n",
    "             'temp', 'hum', 'demand']]\n",
    "\n",
    "data.to_csv(file_path, index=False)"
   ]
  },
  {
   "cell_type": "code",
   "execution_count": null,
   "metadata": {},
   "outputs": [],
   "source": []
  },
  {
   "cell_type": "code",
   "execution_count": 64,
   "metadata": {},
   "outputs": [
    {
     "data": {
      "text/plain": [
       "(array([ 46587.,      0.,      0., 156078., 218490., 183693., 195611.,\n",
       "        266892., 164321.]),\n",
       " array([ 0.        ,  8.88888889, 17.77777778, 26.66666667, 35.55555556,\n",
       "        44.44444444, 53.33333333, 62.22222222, 71.11111111, 80.        ]),\n",
       " <a list of 9 Patch objects>)"
      ]
     },
     "execution_count": 64,
     "metadata": {},
     "output_type": "execute_result"
    },
    {
     "data": {
      "image/png": "[encoded data removed]",
      "text/plain": [
       "<Figure size 432x288 with 1 Axes>"
      ]
     },
     "metadata": {
      "needs_background": "light"
     },
     "output_type": "display_data"
    }
   ],
   "source": [
    "plt.hist(data.temp, bins=9)"
   ]
  },
  {
   "cell_type": "code",
   "execution_count": 56,
   "metadata": {},
   "outputs": [
    {
     "data": {
      "text/plain": [
       "(array([141911.,      0.,      0.,      0., 187616., 197407., 176579.,\n",
       "        198388., 206816., 122955.]),\n",
       " array([ 0.,  9., 18., 27., 36., 45., 54., 63., 72., 81., 90.]),\n",
       " <a list of 10 Patch objects>)"
      ]
     },
     "execution_count": 56,
     "metadata": {},
     "output_type": "execute_result"
    },
    {
     "data": {
      "image/png": "[encoded data removed]",
      "text/plain": [
       "<Figure size 432x288 with 1 Axes>"
      ]
     },
     "metadata": {
      "needs_background": "light"
     },
     "output_type": "display_data"
    }
   ],
   "source": [
    "plt.hist(data.hum, bins=10)"
   ]
  },
  {
   "cell_type": "code",
   "execution_count": null,
   "metadata": {},
   "outputs": [],
   "source": []
  },
  {
   "cell_type": "code",
   "execution_count": null,
   "metadata": {},
   "outputs": [],
   "source": []
  },
  {
   "cell_type": "code",
   "execution_count": null,
   "metadata": {},
   "outputs": [],
   "source": []
  },
  {
   "cell_type": "markdown",
   "metadata": {},
   "source": []
  },
  {
   "cell_type": "code",
   "execution_count": null,
   "metadata": {},
   "outputs": [],
   "source": []
  }
 ],
 "metadata": {
  "kernelspec": {
   "display_name": "Python 3",
   "language": "python",
   "name": "python3"
  },
  "language_info": {
   "codemirror_mode": {
    "name": "ipython",
    "version": 3
   },
   "file_extension": ".py",
   "mimetype": "text/x-python",
   "name": "python",
   "nbconvert_exporter": "python",
   "pygments_lexer": "ipython3",
   "version": "3.5.2"
  }
 },
 "nbformat": 4,
 "nbformat_minor": 2
}
