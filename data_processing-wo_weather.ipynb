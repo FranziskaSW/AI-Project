{
 "cells": [
  {
   "cell_type": "markdown",
   "metadata": {},
   "source": [
    "This is the beginning of the data cleaning and some very short exploratory analysis. \n",
    "\n",
    "In the end of the notebook is a dataframe that is similar to what we will have as an imput for the decision tree. \n",
    "So far only for the pickup of the bikes, but we will do the same for the return of the bikes. \n",
    "\n",
    "It is really just a rough start of the data preprocessing, only to make you more familiar with the data. "
   ]
  },
  {
   "cell_type": "code",
   "execution_count": 1,
   "metadata": {},
   "outputs": [],
   "source": [
    "import pandas as pd\n",
    "import os \n",
    "from datetime import datetime, timedelta\n",
    "from matplotlib import pyplot as plt\n",
    "import math\n",
    "import numpy as np\n",
    "import copy\n",
    "import holidays\n",
    "cwd = os.getcwd()\n",
    "us_holidays = holidays.UnitedStates()"
   ]
  },
  {
   "cell_type": "code",
   "execution_count": 2,
   "metadata": {},
   "outputs": [],
   "source": [
    "from os import listdir\n",
    "from os.path import isfile, join\n",
    "\n",
    "path = cwd+'/data/tripdata'\n",
    "files = [f for f in listdir(path) if isfile(join(path, f))]\n",
    "files.sort()\n"
   ]
  },
  {
   "cell_type": "code",
   "execution_count": 3,
   "metadata": {},
   "outputs": [
    {
     "name": "stdout",
     "output_type": "stream",
     "text": [
      "(168590, 9) (182378, 9)\n",
      "(350968, 9) (238998, 9)\n"
     ]
    }
   ],
   "source": [
    "data = pd.read_csv(path+'/'+files[0])\n",
    "for file in files[1:]:\n",
    "    data_month = pd.read_csv(path+'/'+file)\n",
    "    print(data.shape, data_month.shape)\n",
    "    data = data.append(data_month, ignore_index = True)"
   ]
  },
  {
   "cell_type": "code",
   "execution_count": 4,
   "metadata": {},
   "outputs": [
    {
     "data": {
      "text/plain": [
       "Index(['Duration', 'Start date', 'End date', 'Start station number',\n",
       "       'Start station', 'End station number', 'End station', 'Bike number',\n",
       "       'Member type'],\n",
       "      dtype='object')"
      ]
     },
     "execution_count": 4,
     "metadata": {},
     "output_type": "execute_result"
    }
   ],
   "source": [
    "data.columns"
   ]
  },
  {
   "cell_type": "markdown",
   "metadata": {},
   "source": [
    "# date time"
   ]
  },
  {
   "cell_type": "markdown",
   "metadata": {},
   "source": [
    "First some data cleaning and feature ingeneering on the timestamp.\n",
    "\n",
    "For exploratory analysis it makes sense to look at the start time in time-intervals instead of continuous time. (clean_time, here 15-min-intervals)\n",
    "\n",
    "Also we're interested in the date (for weekday/weekend, holiday, season). "
   ]
  },
  {
   "cell_type": "code",
   "execution_count": 5,
   "metadata": {},
   "outputs": [],
   "source": [
    "def create_datetime(time_str):\n",
    "    return datetime.strptime(time_str, '%Y-%m-%d %H:%M:%S')"
   ]
  },
  {
   "cell_type": "markdown",
   "metadata": {},
   "source": [
    "def clean_time(time_datetime, interval_size):\n",
    "    \"\"\"\n",
    "    Devide time into intervals of interval_size\n",
    "    \"\"\"\n",
    "    new_minute = math.floor(time_datetime.minute/interval_size)*interval_size\n",
    "    return time_datetime.replace(minute=new_minute, \n",
    "                                second=0, \n",
    "                                microsecond=0).time()"
   ]
  },
  {
   "cell_type": "code",
   "execution_count": 6,
   "metadata": {},
   "outputs": [],
   "source": [
    "data['starttime'] = data['Start date'].apply(lambda x: create_datetime(x))"
   ]
  },
  {
   "cell_type": "markdown",
   "metadata": {},
   "source": [
    "# geo data"
   ]
  },
  {
   "cell_type": "code",
   "execution_count": 7,
   "metadata": {},
   "outputs": [],
   "source": [
    "stations = pd.read_csv(cwd+'/data/Capital_Bike_Share_Locations.csv')"
   ]
  },
  {
   "cell_type": "code",
   "execution_count": 8,
   "metadata": {
    "scrolled": true
   },
   "outputs": [
    {
     "data": {
      "text/html": [
       "<div>\n",
       "<style scoped>\n",
       "    .dataframe tbody tr th:only-of-type {\n",
       "        vertical-align: middle;\n",
       "    }\n",
       "\n",
       "    .dataframe tbody tr th {\n",
       "        vertical-align: top;\n",
       "    }\n",
       "\n",
       "    .dataframe thead th {\n",
       "        text-align: right;\n",
       "    }\n",
       "</style>\n",
       "<table border=\"1\" class=\"dataframe\">\n",
       "  <thead>\n",
       "    <tr style=\"text-align: right;\">\n",
       "      <th></th>\n",
       "      <th>OBJECTID</th>\n",
       "      <th>ID</th>\n",
       "      <th>ADDRESS</th>\n",
       "      <th>TERMINAL_NUMBER</th>\n",
       "      <th>LATITUDE</th>\n",
       "      <th>LONGITUDE</th>\n",
       "      <th>INSTALLED</th>\n",
       "      <th>LOCKED</th>\n",
       "      <th>INSTALL_DATE</th>\n",
       "      <th>REMOVAL_DATE</th>\n",
       "      <th>TEMPORARY_INSTALL</th>\n",
       "      <th>NUMBER_OF_BIKES</th>\n",
       "      <th>NUMBER_OF_EMPTY_DOCKS</th>\n",
       "      <th>X</th>\n",
       "      <th>Y</th>\n",
       "      <th>SE_ANNO_CAD_DATA</th>\n",
       "      <th>OWNER</th>\n",
       "    </tr>\n",
       "  </thead>\n",
       "  <tbody>\n",
       "    <tr>\n",
       "      <th>0</th>\n",
       "      <td>264410090</td>\n",
       "      <td>556</td>\n",
       "      <td>18th &amp; New Hampshire Ave NW</td>\n",
       "      <td>31324</td>\n",
       "      <td>38.911268</td>\n",
       "      <td>-77.041829</td>\n",
       "      <td>YES</td>\n",
       "      <td>NO</td>\n",
       "      <td>NaN</td>\n",
       "      <td>NaN</td>\n",
       "      <td>NO</td>\n",
       "      <td>9</td>\n",
       "      <td>10</td>\n",
       "      <td>396372.164153</td>\n",
       "      <td>138156.972226</td>\n",
       "      <td>NaN</td>\n",
       "      <td>DC</td>\n",
       "    </tr>\n",
       "    <tr>\n",
       "      <th>1</th>\n",
       "      <td>264410091</td>\n",
       "      <td>560</td>\n",
       "      <td>Dunn Loring Metro</td>\n",
       "      <td>32231</td>\n",
       "      <td>38.882800</td>\n",
       "      <td>-77.228300</td>\n",
       "      <td>YES</td>\n",
       "      <td>NO</td>\n",
       "      <td>NaN</td>\n",
       "      <td>NaN</td>\n",
       "      <td>NO</td>\n",
       "      <td>8</td>\n",
       "      <td>8</td>\n",
       "      <td>380191.621348</td>\n",
       "      <td>135020.735550</td>\n",
       "      <td>NaN</td>\n",
       "      <td>NaN</td>\n",
       "    </tr>\n",
       "    <tr>\n",
       "      <th>2</th>\n",
       "      <td>264410092</td>\n",
       "      <td>561</td>\n",
       "      <td>Oglethorpe St &amp; 42nd Ave</td>\n",
       "      <td>32408</td>\n",
       "      <td>38.959361</td>\n",
       "      <td>-76.946361</td>\n",
       "      <td>YES</td>\n",
       "      <td>NO</td>\n",
       "      <td>NaN</td>\n",
       "      <td>NaN</td>\n",
       "      <td>NO</td>\n",
       "      <td>5</td>\n",
       "      <td>3</td>\n",
       "      <td>404648.982007</td>\n",
       "      <td>143496.250343</td>\n",
       "      <td>NaN</td>\n",
       "      <td>NaN</td>\n",
       "    </tr>\n",
       "    <tr>\n",
       "      <th>3</th>\n",
       "      <td>264410093</td>\n",
       "      <td>562</td>\n",
       "      <td>Southern Ave Metro</td>\n",
       "      <td>32409</td>\n",
       "      <td>38.840107</td>\n",
       "      <td>-76.975300</td>\n",
       "      <td>YES</td>\n",
       "      <td>NO</td>\n",
       "      <td>NaN</td>\n",
       "      <td>NaN</td>\n",
       "      <td>NO</td>\n",
       "      <td>6</td>\n",
       "      <td>9</td>\n",
       "      <td>402144.372341</td>\n",
       "      <td>130257.022934</td>\n",
       "      <td>NaN</td>\n",
       "      <td>NaN</td>\n",
       "    </tr>\n",
       "    <tr>\n",
       "      <th>4</th>\n",
       "      <td>264410094</td>\n",
       "      <td>563</td>\n",
       "      <td>Queens Chapel &amp; Hamilton St</td>\n",
       "      <td>32410</td>\n",
       "      <td>38.954600</td>\n",
       "      <td>-76.959500</td>\n",
       "      <td>YES</td>\n",
       "      <td>NO</td>\n",
       "      <td>NaN</td>\n",
       "      <td>NaN</td>\n",
       "      <td>NO</td>\n",
       "      <td>2</td>\n",
       "      <td>13</td>\n",
       "      <td>403510.437423</td>\n",
       "      <td>142967.148407</td>\n",
       "      <td>NaN</td>\n",
       "      <td>NaN</td>\n",
       "    </tr>\n",
       "  </tbody>\n",
       "</table>\n",
       "</div>"
      ],
      "text/plain": [
       "    OBJECTID   ID                      ADDRESS  TERMINAL_NUMBER   LATITUDE  \\\n",
       "0  264410090  556  18th & New Hampshire Ave NW            31324  38.911268   \n",
       "1  264410091  560            Dunn Loring Metro            32231  38.882800   \n",
       "2  264410092  561     Oglethorpe St & 42nd Ave            32408  38.959361   \n",
       "3  264410093  562           Southern Ave Metro            32409  38.840107   \n",
       "4  264410094  563  Queens Chapel & Hamilton St            32410  38.954600   \n",
       "\n",
       "   LONGITUDE INSTALLED LOCKED  INSTALL_DATE  REMOVAL_DATE TEMPORARY_INSTALL  \\\n",
       "0 -77.041829       YES     NO           NaN           NaN                NO   \n",
       "1 -77.228300       YES     NO           NaN           NaN                NO   \n",
       "2 -76.946361       YES     NO           NaN           NaN                NO   \n",
       "3 -76.975300       YES     NO           NaN           NaN                NO   \n",
       "4 -76.959500       YES     NO           NaN           NaN                NO   \n",
       "\n",
       "   NUMBER_OF_BIKES  NUMBER_OF_EMPTY_DOCKS              X              Y  \\\n",
       "0                9                     10  396372.164153  138156.972226   \n",
       "1                8                      8  380191.621348  135020.735550   \n",
       "2                5                      3  404648.982007  143496.250343   \n",
       "3                6                      9  402144.372341  130257.022934   \n",
       "4                2                     13  403510.437423  142967.148407   \n",
       "\n",
       "   SE_ANNO_CAD_DATA OWNER  \n",
       "0               NaN    DC  \n",
       "1               NaN   NaN  \n",
       "2               NaN   NaN  \n",
       "3               NaN   NaN  \n",
       "4               NaN   NaN  "
      ]
     },
     "execution_count": 8,
     "metadata": {},
     "output_type": "execute_result"
    }
   ],
   "source": [
    "stations.head()"
   ]
  },
  {
   "cell_type": "code",
   "execution_count": 9,
   "metadata": {},
   "outputs": [],
   "source": [
    "stations['CAPACITY'] = stations.NUMBER_OF_BIKES+stations.NUMBER_OF_EMPTY_DOCKS\n",
    "stations = stations[['TERMINAL_NUMBER', 'LATITUDE', 'LONGITUDE', 'CAPACITY']]\n",
    "stations.columns = ['id', 'latitude', 'longitude', 'capacity']"
   ]
  },
  {
   "cell_type": "code",
   "execution_count": 10,
   "metadata": {},
   "outputs": [
    {
     "data": {
      "text/plain": [
       "<matplotlib.collections.PathCollection at 0x7faa1af286d8>"
      ]
     },
     "execution_count": 10,
     "metadata": {},
     "output_type": "execute_result"
    },
    {
     "data": {
      "image/png": "[encoded data removed]",
      "text/plain": [
       "<Figure size 432x288 with 1 Axes>"
      ]
     },
     "metadata": {
      "needs_background": "light"
     },
     "output_type": "display_data"
    }
   ],
   "source": [
    "plt.scatter(stations.latitude, stations.longitude, marker='.')"
   ]
  },
  {
   "cell_type": "markdown",
   "metadata": {},
   "source": [
    "Because the rented bikes per hour were pretty small at one station, I had the idea of combining stations that are close to each other. Because as a user you are usually not fixed on a specific station, you would look on the map in the application and then go to any close station that has bikes. \n",
    "\n",
    "In the next step I manually combined the stations that are close to each other imagine a grid that lays over the map and all the stations in one cell are combined to one. \n",
    "If we bundle stations, we should think about a smarter way."
   ]
  },
  {
   "cell_type": "code",
   "execution_count": 11,
   "metadata": {},
   "outputs": [],
   "source": [
    "grid_size = 25\n",
    "offset_lat = (stations.latitude.max() - stations.latitude.min())/grid_size\n",
    "offset_lon = (stations.longitude.max() - stations.longitude.min())/grid_size\n",
    "stations['lat'] = stations.latitude.apply(lambda x: math.floor(x/offset_lat)*offset_lat)\n",
    "stations['lon'] = stations.longitude.apply(lambda x: math.floor(x/offset_lon)*offset_lon)"
   ]
  },
  {
   "cell_type": "code",
   "execution_count": 12,
   "metadata": {},
   "outputs": [],
   "source": [
    "new_stat = stations.groupby(['lat', 'lon']).count().reset_index()\n",
    "new_stat.id = range(0,new_stat.shape[0])\n",
    "new_stat = new_stat[['id', 'lat', 'lon']]"
   ]
  },
  {
   "cell_type": "code",
   "execution_count": 13,
   "metadata": {},
   "outputs": [],
   "source": [
    "stations_rough = stations.merge(new_stat, how='left', \n",
    "               left_on=['lat', 'lon'], \n",
    "              right_on=['lat', 'lon'])"
   ]
  },
  {
   "cell_type": "code",
   "execution_count": 14,
   "metadata": {},
   "outputs": [
    {
     "data": {
      "text/html": [
       "<div>\n",
       "<style scoped>\n",
       "    .dataframe tbody tr th:only-of-type {\n",
       "        vertical-align: middle;\n",
       "    }\n",
       "\n",
       "    .dataframe tbody tr th {\n",
       "        vertical-align: top;\n",
       "    }\n",
       "\n",
       "    .dataframe thead th {\n",
       "        text-align: right;\n",
       "    }\n",
       "</style>\n",
       "<table border=\"1\" class=\"dataframe\">\n",
       "  <thead>\n",
       "    <tr style=\"text-align: right;\">\n",
       "      <th></th>\n",
       "      <th>id_x</th>\n",
       "      <th>latitude</th>\n",
       "      <th>longitude</th>\n",
       "      <th>capacity</th>\n",
       "      <th>lat</th>\n",
       "      <th>lon</th>\n",
       "      <th>id_y</th>\n",
       "    </tr>\n",
       "  </thead>\n",
       "  <tbody>\n",
       "    <tr>\n",
       "      <th>0</th>\n",
       "      <td>31324</td>\n",
       "      <td>38.911268</td>\n",
       "      <td>-77.041829</td>\n",
       "      <td>19</td>\n",
       "      <td>38.910348</td>\n",
       "      <td>-77.045672</td>\n",
       "      <td>71</td>\n",
       "    </tr>\n",
       "    <tr>\n",
       "      <th>1</th>\n",
       "      <td>32231</td>\n",
       "      <td>38.882800</td>\n",
       "      <td>-77.228300</td>\n",
       "      <td>16</td>\n",
       "      <td>38.869144</td>\n",
       "      <td>-77.241109</td>\n",
       "      <td>30</td>\n",
       "    </tr>\n",
       "    <tr>\n",
       "      <th>2</th>\n",
       "      <td>32408</td>\n",
       "      <td>38.959361</td>\n",
       "      <td>-76.946361</td>\n",
       "      <td>8</td>\n",
       "      <td>38.951552</td>\n",
       "      <td>-76.958811</td>\n",
       "      <td>96</td>\n",
       "    </tr>\n",
       "    <tr>\n",
       "      <th>3</th>\n",
       "      <td>32409</td>\n",
       "      <td>38.840107</td>\n",
       "      <td>-76.975300</td>\n",
       "      <td>15</td>\n",
       "      <td>38.827940</td>\n",
       "      <td>-76.980526</td>\n",
       "      <td>16</td>\n",
       "    </tr>\n",
       "    <tr>\n",
       "      <th>4</th>\n",
       "      <td>32410</td>\n",
       "      <td>38.954600</td>\n",
       "      <td>-76.959500</td>\n",
       "      <td>15</td>\n",
       "      <td>38.951552</td>\n",
       "      <td>-76.980526</td>\n",
       "      <td>95</td>\n",
       "    </tr>\n",
       "    <tr>\n",
       "      <th>5</th>\n",
       "      <td>32411</td>\n",
       "      <td>38.975505</td>\n",
       "      <td>-76.952199</td>\n",
       "      <td>15</td>\n",
       "      <td>38.965287</td>\n",
       "      <td>-76.958811</td>\n",
       "      <td>102</td>\n",
       "    </tr>\n",
       "    <tr>\n",
       "      <th>6</th>\n",
       "      <td>32412</td>\n",
       "      <td>38.974205</td>\n",
       "      <td>-76.995227</td>\n",
       "      <td>14</td>\n",
       "      <td>38.965287</td>\n",
       "      <td>-77.002241</td>\n",
       "      <td>101</td>\n",
       "    </tr>\n",
       "    <tr>\n",
       "      <th>7</th>\n",
       "      <td>32413</td>\n",
       "      <td>38.939271</td>\n",
       "      <td>-76.955047</td>\n",
       "      <td>15</td>\n",
       "      <td>38.937818</td>\n",
       "      <td>-76.958811</td>\n",
       "      <td>88</td>\n",
       "    </tr>\n",
       "    <tr>\n",
       "      <th>8</th>\n",
       "      <td>32414</td>\n",
       "      <td>38.972500</td>\n",
       "      <td>-76.980700</td>\n",
       "      <td>15</td>\n",
       "      <td>38.965287</td>\n",
       "      <td>-77.002241</td>\n",
       "      <td>101</td>\n",
       "    </tr>\n",
       "    <tr>\n",
       "      <th>9</th>\n",
       "      <td>32415</td>\n",
       "      <td>38.796800</td>\n",
       "      <td>-77.002600</td>\n",
       "      <td>14</td>\n",
       "      <td>38.786736</td>\n",
       "      <td>-77.023956</td>\n",
       "      <td>3</td>\n",
       "    </tr>\n",
       "  </tbody>\n",
       "</table>\n",
       "</div>"
      ],
      "text/plain": [
       "    id_x   latitude  longitude  capacity        lat        lon  id_y\n",
       "0  31324  38.911268 -77.041829        19  38.910348 -77.045672    71\n",
       "1  32231  38.882800 -77.228300        16  38.869144 -77.241109    30\n",
       "2  32408  38.959361 -76.946361         8  38.951552 -76.958811    96\n",
       "3  32409  38.840107 -76.975300        15  38.827940 -76.980526    16\n",
       "4  32410  38.954600 -76.959500        15  38.951552 -76.980526    95\n",
       "5  32411  38.975505 -76.952199        15  38.965287 -76.958811   102\n",
       "6  32412  38.974205 -76.995227        14  38.965287 -77.002241   101\n",
       "7  32413  38.939271 -76.955047        15  38.937818 -76.958811    88\n",
       "8  32414  38.972500 -76.980700        15  38.965287 -77.002241   101\n",
       "9  32415  38.796800 -77.002600        14  38.786736 -77.023956     3"
      ]
     },
     "execution_count": 14,
     "metadata": {},
     "output_type": "execute_result"
    }
   ],
   "source": [
    "stations_rough.head(10) \n",
    "#id_y is the new station id, see how id 101 appears twice..."
   ]
  },
  {
   "cell_type": "code",
   "execution_count": 15,
   "metadata": {},
   "outputs": [
    {
     "data": {
      "text/plain": [
       "<matplotlib.collections.PathCollection at 0x7faa1aeaca20>"
      ]
     },
     "execution_count": 15,
     "metadata": {},
     "output_type": "execute_result"
    },
    {
     "data": {
      "image/png": "[encoded data removed]",
      "text/plain": [
       "<Figure size 432x288 with 1 Axes>"
      ]
     },
     "metadata": {
      "needs_background": "light"
     },
     "output_type": "display_data"
    }
   ],
   "source": [
    "plt.scatter(stations_rough.lat, stations_rough.lon, marker='.')"
   ]
  },
  {
   "cell_type": "code",
   "execution_count": null,
   "metadata": {},
   "outputs": [],
   "source": []
  },
  {
   "cell_type": "markdown",
   "metadata": {},
   "source": [
    "# station pickup count"
   ]
  },
  {
   "cell_type": "code",
   "execution_count": 16,
   "metadata": {},
   "outputs": [
    {
     "data": {
      "text/html": [
       "<div>\n",
       "<style scoped>\n",
       "    .dataframe tbody tr th:only-of-type {\n",
       "        vertical-align: middle;\n",
       "    }\n",
       "\n",
       "    .dataframe tbody tr th {\n",
       "        vertical-align: top;\n",
       "    }\n",
       "\n",
       "    .dataframe thead th {\n",
       "        text-align: right;\n",
       "    }\n",
       "</style>\n",
       "<table border=\"1\" class=\"dataframe\">\n",
       "  <thead>\n",
       "    <tr style=\"text-align: right;\">\n",
       "      <th></th>\n",
       "      <th>Duration</th>\n",
       "      <th>Start date</th>\n",
       "      <th>End date</th>\n",
       "      <th>Start station number</th>\n",
       "      <th>Start station</th>\n",
       "      <th>End station number</th>\n",
       "      <th>End station</th>\n",
       "      <th>Bike number</th>\n",
       "      <th>Member type</th>\n",
       "      <th>starttime</th>\n",
       "    </tr>\n",
       "  </thead>\n",
       "  <tbody>\n",
       "    <tr>\n",
       "      <th>0</th>\n",
       "      <td>552</td>\n",
       "      <td>2018-01-01 00:05:06</td>\n",
       "      <td>2018-01-01 00:14:18</td>\n",
       "      <td>31104</td>\n",
       "      <td>Adams Mill &amp; Columbia Rd NW</td>\n",
       "      <td>31400</td>\n",
       "      <td>Georgia &amp; New Hampshire Ave NW</td>\n",
       "      <td>W00886</td>\n",
       "      <td>Member</td>\n",
       "      <td>2018-01-01 00:05:06</td>\n",
       "    </tr>\n",
       "    <tr>\n",
       "      <th>1</th>\n",
       "      <td>1282</td>\n",
       "      <td>2018-01-01 00:14:30</td>\n",
       "      <td>2018-01-01 00:35:53</td>\n",
       "      <td>31321</td>\n",
       "      <td>15th St &amp; Constitution Ave NW</td>\n",
       "      <td>31321</td>\n",
       "      <td>15th St &amp; Constitution Ave NW</td>\n",
       "      <td>W01435</td>\n",
       "      <td>Casual</td>\n",
       "      <td>2018-01-01 00:14:30</td>\n",
       "    </tr>\n",
       "    <tr>\n",
       "      <th>2</th>\n",
       "      <td>1265</td>\n",
       "      <td>2018-01-01 00:14:53</td>\n",
       "      <td>2018-01-01 00:35:58</td>\n",
       "      <td>31321</td>\n",
       "      <td>15th St &amp; Constitution Ave NW</td>\n",
       "      <td>31321</td>\n",
       "      <td>15th St &amp; Constitution Ave NW</td>\n",
       "      <td>W21242</td>\n",
       "      <td>Casual</td>\n",
       "      <td>2018-01-01 00:14:53</td>\n",
       "    </tr>\n",
       "    <tr>\n",
       "      <th>3</th>\n",
       "      <td>578</td>\n",
       "      <td>2018-01-01 00:15:31</td>\n",
       "      <td>2018-01-01 00:25:09</td>\n",
       "      <td>31406</td>\n",
       "      <td>14th &amp; Upshur St NW</td>\n",
       "      <td>31103</td>\n",
       "      <td>16th &amp; Harvard St NW</td>\n",
       "      <td>W21322</td>\n",
       "      <td>Casual</td>\n",
       "      <td>2018-01-01 00:15:31</td>\n",
       "    </tr>\n",
       "    <tr>\n",
       "      <th>4</th>\n",
       "      <td>372</td>\n",
       "      <td>2018-01-01 00:18:02</td>\n",
       "      <td>2018-01-01 00:24:15</td>\n",
       "      <td>31618</td>\n",
       "      <td>4th &amp; East Capitol St NE</td>\n",
       "      <td>31619</td>\n",
       "      <td>Lincoln Park / 13th &amp; East Capitol St NE</td>\n",
       "      <td>W00119</td>\n",
       "      <td>Member</td>\n",
       "      <td>2018-01-01 00:18:02</td>\n",
       "    </tr>\n",
       "  </tbody>\n",
       "</table>\n",
       "</div>"
      ],
      "text/plain": [
       "   Duration           Start date             End date  Start station number  \\\n",
       "0       552  2018-01-01 00:05:06  2018-01-01 00:14:18                 31104   \n",
       "1      1282  2018-01-01 00:14:30  2018-01-01 00:35:53                 31321   \n",
       "2      1265  2018-01-01 00:14:53  2018-01-01 00:35:58                 31321   \n",
       "3       578  2018-01-01 00:15:31  2018-01-01 00:25:09                 31406   \n",
       "4       372  2018-01-01 00:18:02  2018-01-01 00:24:15                 31618   \n",
       "\n",
       "                   Start station  End station number  \\\n",
       "0    Adams Mill & Columbia Rd NW               31400   \n",
       "1  15th St & Constitution Ave NW               31321   \n",
       "2  15th St & Constitution Ave NW               31321   \n",
       "3            14th & Upshur St NW               31103   \n",
       "4       4th & East Capitol St NE               31619   \n",
       "\n",
       "                                 End station Bike number Member type  \\\n",
       "0             Georgia & New Hampshire Ave NW      W00886      Member   \n",
       "1              15th St & Constitution Ave NW      W01435      Casual   \n",
       "2              15th St & Constitution Ave NW      W21242      Casual   \n",
       "3                       16th & Harvard St NW      W21322      Casual   \n",
       "4  Lincoln Park / 13th & East Capitol St NE       W00119      Member   \n",
       "\n",
       "            starttime  \n",
       "0 2018-01-01 00:05:06  \n",
       "1 2018-01-01 00:14:30  \n",
       "2 2018-01-01 00:14:53  \n",
       "3 2018-01-01 00:15:31  \n",
       "4 2018-01-01 00:18:02  "
      ]
     },
     "execution_count": 16,
     "metadata": {},
     "output_type": "execute_result"
    }
   ],
   "source": [
    "data.head()"
   ]
  },
  {
   "cell_type": "code",
   "execution_count": 17,
   "metadata": {},
   "outputs": [],
   "source": [
    "data = data[['starttime', 'Start station number']]"
   ]
  },
  {
   "cell_type": "code",
   "execution_count": 18,
   "metadata": {},
   "outputs": [
    {
     "data": {
      "text/html": [
       "<div>\n",
       "<style scoped>\n",
       "    .dataframe tbody tr th:only-of-type {\n",
       "        vertical-align: middle;\n",
       "    }\n",
       "\n",
       "    .dataframe tbody tr th {\n",
       "        vertical-align: top;\n",
       "    }\n",
       "\n",
       "    .dataframe thead th {\n",
       "        text-align: right;\n",
       "    }\n",
       "</style>\n",
       "<table border=\"1\" class=\"dataframe\">\n",
       "  <thead>\n",
       "    <tr style=\"text-align: right;\">\n",
       "      <th></th>\n",
       "      <th>starttime</th>\n",
       "      <th>id_y</th>\n",
       "      <th>lat</th>\n",
       "      <th>lon</th>\n",
       "    </tr>\n",
       "  </thead>\n",
       "  <tbody>\n",
       "    <tr>\n",
       "      <th>0</th>\n",
       "      <td>2018-01-01 01:21:34</td>\n",
       "      <td>25.0</td>\n",
       "      <td>38.85541</td>\n",
       "      <td>-77.067387</td>\n",
       "    </tr>\n",
       "    <tr>\n",
       "      <th>1</th>\n",
       "      <td>2018-01-01 19:53:38</td>\n",
       "      <td>25.0</td>\n",
       "      <td>38.85541</td>\n",
       "      <td>-77.067387</td>\n",
       "    </tr>\n",
       "    <tr>\n",
       "      <th>2</th>\n",
       "      <td>2018-01-02 07:21:56</td>\n",
       "      <td>25.0</td>\n",
       "      <td>38.85541</td>\n",
       "      <td>-77.067387</td>\n",
       "    </tr>\n",
       "    <tr>\n",
       "      <th>3</th>\n",
       "      <td>2018-01-02 07:55:09</td>\n",
       "      <td>25.0</td>\n",
       "      <td>38.85541</td>\n",
       "      <td>-77.067387</td>\n",
       "    </tr>\n",
       "    <tr>\n",
       "      <th>4</th>\n",
       "      <td>2018-01-02 08:17:40</td>\n",
       "      <td>25.0</td>\n",
       "      <td>38.85541</td>\n",
       "      <td>-77.067387</td>\n",
       "    </tr>\n",
       "  </tbody>\n",
       "</table>\n",
       "</div>"
      ],
      "text/plain": [
       "            starttime  id_y       lat        lon\n",
       "0 2018-01-01 01:21:34  25.0  38.85541 -77.067387\n",
       "1 2018-01-01 19:53:38  25.0  38.85541 -77.067387\n",
       "2 2018-01-02 07:21:56  25.0  38.85541 -77.067387\n",
       "3 2018-01-02 07:55:09  25.0  38.85541 -77.067387\n",
       "4 2018-01-02 08:17:40  25.0  38.85541 -77.067387"
      ]
     },
     "execution_count": 18,
     "metadata": {},
     "output_type": "execute_result"
    }
   ],
   "source": [
    "data_s = stations_rough.merge(data, how='right', left_on='id_x', right_on='Start station number')[['starttime', 'id_y', 'lat', 'lon']]\n",
    "data_s.head()"
   ]
  },
  {
   "cell_type": "markdown",
   "metadata": {},
   "source": [
    "## Weather data here:"
   ]
  },
  {
   "cell_type": "code",
   "execution_count": null,
   "metadata": {},
   "outputs": [],
   "source": []
  },
  {
   "cell_type": "code",
   "execution_count": null,
   "metadata": {},
   "outputs": [],
   "source": []
  },
  {
   "cell_type": "code",
   "execution_count": 19,
   "metadata": {},
   "outputs": [
    {
     "name": "stdout",
     "output_type": "stream",
     "text": [
      "2018-03-25 06:00:00 2018-03-25 07:30:00\n",
      "2018-03-25 07:30:00 2018-03-25 09:00:00\n",
      "2018-03-25 09:00:00 2018-03-25 10:30:00\n",
      "2018-03-25 10:30:00 2018-03-25 12:00:00\n",
      "2018-03-25 12:00:00 2018-03-25 13:30:00\n",
      "2018-03-25 13:30:00 2018-03-25 15:00:00\n",
      "2018-03-25 15:00:00 2018-03-25 16:30:00\n",
      "2018-03-25 16:30:00 2018-03-25 18:00:00\n"
     ]
    }
   ],
   "source": [
    "# within next 90 minutes will have x pickups at station\n",
    "time = datetime(year=2018, month=3, day=25, hour=6, minute=0)\n",
    "delta = timedelta(minutes=90)\n",
    "    \n",
    "for i in range(0,8):  # loop is irrelevant right now, further down we only look at the last time-interval\n",
    "    print(time, time+delta)\n",
    "    pickups = data_s[(data_s.starttime >= time) & \n",
    "                     (data_s.starttime < time+delta)].groupby(['id_y', 'lat', 'lon']).count()\n",
    "    pickups['holiday'] = int(time in us_holidays)\n",
    "    pickups['weekday'] = time.weekday()\n",
    "    pickups['time'] = time.time()\n",
    "    pickups['month'] = time.month\n",
    "    # pickups['weather'] = \n",
    "    # pickups['temperature'] = \n",
    "    # pickups['humidity'] = \n",
    "    \n",
    "    time += delta"
   ]
  },
  {
   "cell_type": "code",
   "execution_count": 20,
   "metadata": {},
   "outputs": [
    {
     "data": {
      "text/html": [
       "<div>\n",
       "<style scoped>\n",
       "    .dataframe tbody tr th:only-of-type {\n",
       "        vertical-align: middle;\n",
       "    }\n",
       "\n",
       "    .dataframe tbody tr th {\n",
       "        vertical-align: top;\n",
       "    }\n",
       "\n",
       "    .dataframe thead th {\n",
       "        text-align: right;\n",
       "    }\n",
       "</style>\n",
       "<table border=\"1\" class=\"dataframe\">\n",
       "  <thead>\n",
       "    <tr style=\"text-align: right;\">\n",
       "      <th></th>\n",
       "      <th>station_id</th>\n",
       "      <th>lat</th>\n",
       "      <th>lon</th>\n",
       "      <th>pickups</th>\n",
       "      <th>holiday</th>\n",
       "      <th>weekday</th>\n",
       "      <th>time</th>\n",
       "      <th>month</th>\n",
       "    </tr>\n",
       "  </thead>\n",
       "  <tbody>\n",
       "    <tr>\n",
       "      <th>0</th>\n",
       "      <td>1.0</td>\n",
       "      <td>38.786736</td>\n",
       "      <td>-77.067387</td>\n",
       "      <td>2</td>\n",
       "      <td>0</td>\n",
       "      <td>6</td>\n",
       "      <td>16:30:00</td>\n",
       "      <td>3</td>\n",
       "    </tr>\n",
       "    <tr>\n",
       "      <th>1</th>\n",
       "      <td>2.0</td>\n",
       "      <td>38.786736</td>\n",
       "      <td>-77.045672</td>\n",
       "      <td>2</td>\n",
       "      <td>0</td>\n",
       "      <td>6</td>\n",
       "      <td>16:30:00</td>\n",
       "      <td>3</td>\n",
       "    </tr>\n",
       "    <tr>\n",
       "      <th>2</th>\n",
       "      <td>6.0</td>\n",
       "      <td>38.800471</td>\n",
       "      <td>-77.067387</td>\n",
       "      <td>4</td>\n",
       "      <td>0</td>\n",
       "      <td>6</td>\n",
       "      <td>16:30:00</td>\n",
       "      <td>3</td>\n",
       "    </tr>\n",
       "    <tr>\n",
       "      <th>3</th>\n",
       "      <td>7.0</td>\n",
       "      <td>38.800471</td>\n",
       "      <td>-77.045672</td>\n",
       "      <td>6</td>\n",
       "      <td>0</td>\n",
       "      <td>6</td>\n",
       "      <td>16:30:00</td>\n",
       "      <td>3</td>\n",
       "    </tr>\n",
       "    <tr>\n",
       "      <th>4</th>\n",
       "      <td>8.0</td>\n",
       "      <td>38.814206</td>\n",
       "      <td>-77.067387</td>\n",
       "      <td>4</td>\n",
       "      <td>0</td>\n",
       "      <td>6</td>\n",
       "      <td>16:30:00</td>\n",
       "      <td>3</td>\n",
       "    </tr>\n",
       "    <tr>\n",
       "      <th>5</th>\n",
       "      <td>17.0</td>\n",
       "      <td>38.841675</td>\n",
       "      <td>-77.110817</td>\n",
       "      <td>2</td>\n",
       "      <td>0</td>\n",
       "      <td>6</td>\n",
       "      <td>16:30:00</td>\n",
       "      <td>3</td>\n",
       "    </tr>\n",
       "    <tr>\n",
       "      <th>6</th>\n",
       "      <td>19.0</td>\n",
       "      <td>38.841675</td>\n",
       "      <td>-77.067387</td>\n",
       "      <td>3</td>\n",
       "      <td>0</td>\n",
       "      <td>6</td>\n",
       "      <td>16:30:00</td>\n",
       "      <td>3</td>\n",
       "    </tr>\n",
       "    <tr>\n",
       "      <th>7</th>\n",
       "      <td>20.0</td>\n",
       "      <td>38.841675</td>\n",
       "      <td>-77.002241</td>\n",
       "      <td>2</td>\n",
       "      <td>0</td>\n",
       "      <td>6</td>\n",
       "      <td>16:30:00</td>\n",
       "      <td>3</td>\n",
       "    </tr>\n",
       "    <tr>\n",
       "      <th>8</th>\n",
       "      <td>22.0</td>\n",
       "      <td>38.855410</td>\n",
       "      <td>-77.132532</td>\n",
       "      <td>2</td>\n",
       "      <td>0</td>\n",
       "      <td>6</td>\n",
       "      <td>16:30:00</td>\n",
       "      <td>3</td>\n",
       "    </tr>\n",
       "    <tr>\n",
       "      <th>9</th>\n",
       "      <td>24.0</td>\n",
       "      <td>38.855410</td>\n",
       "      <td>-77.089102</td>\n",
       "      <td>1</td>\n",
       "      <td>0</td>\n",
       "      <td>6</td>\n",
       "      <td>16:30:00</td>\n",
       "      <td>3</td>\n",
       "    </tr>\n",
       "    <tr>\n",
       "      <th>10</th>\n",
       "      <td>25.0</td>\n",
       "      <td>38.855410</td>\n",
       "      <td>-77.067387</td>\n",
       "      <td>8</td>\n",
       "      <td>0</td>\n",
       "      <td>6</td>\n",
       "      <td>16:30:00</td>\n",
       "      <td>3</td>\n",
       "    </tr>\n",
       "    <tr>\n",
       "      <th>11</th>\n",
       "      <td>33.0</td>\n",
       "      <td>38.869144</td>\n",
       "      <td>-77.154248</td>\n",
       "      <td>1</td>\n",
       "      <td>0</td>\n",
       "      <td>6</td>\n",
       "      <td>16:30:00</td>\n",
       "      <td>3</td>\n",
       "    </tr>\n",
       "    <tr>\n",
       "      <th>12</th>\n",
       "      <td>34.0</td>\n",
       "      <td>38.869144</td>\n",
       "      <td>-77.132532</td>\n",
       "      <td>2</td>\n",
       "      <td>0</td>\n",
       "      <td>6</td>\n",
       "      <td>16:30:00</td>\n",
       "      <td>3</td>\n",
       "    </tr>\n",
       "    <tr>\n",
       "      <th>13</th>\n",
       "      <td>35.0</td>\n",
       "      <td>38.869144</td>\n",
       "      <td>-77.110817</td>\n",
       "      <td>5</td>\n",
       "      <td>0</td>\n",
       "      <td>6</td>\n",
       "      <td>16:30:00</td>\n",
       "      <td>3</td>\n",
       "    </tr>\n",
       "    <tr>\n",
       "      <th>14</th>\n",
       "      <td>36.0</td>\n",
       "      <td>38.869144</td>\n",
       "      <td>-77.089102</td>\n",
       "      <td>1</td>\n",
       "      <td>0</td>\n",
       "      <td>6</td>\n",
       "      <td>16:30:00</td>\n",
       "      <td>3</td>\n",
       "    </tr>\n",
       "  </tbody>\n",
       "</table>\n",
       "</div>"
      ],
      "text/plain": [
       "    station_id        lat        lon  pickups  holiday  weekday      time  \\\n",
       "0          1.0  38.786736 -77.067387        2        0        6  16:30:00   \n",
       "1          2.0  38.786736 -77.045672        2        0        6  16:30:00   \n",
       "2          6.0  38.800471 -77.067387        4        0        6  16:30:00   \n",
       "3          7.0  38.800471 -77.045672        6        0        6  16:30:00   \n",
       "4          8.0  38.814206 -77.067387        4        0        6  16:30:00   \n",
       "5         17.0  38.841675 -77.110817        2        0        6  16:30:00   \n",
       "6         19.0  38.841675 -77.067387        3        0        6  16:30:00   \n",
       "7         20.0  38.841675 -77.002241        2        0        6  16:30:00   \n",
       "8         22.0  38.855410 -77.132532        2        0        6  16:30:00   \n",
       "9         24.0  38.855410 -77.089102        1        0        6  16:30:00   \n",
       "10        25.0  38.855410 -77.067387        8        0        6  16:30:00   \n",
       "11        33.0  38.869144 -77.154248        1        0        6  16:30:00   \n",
       "12        34.0  38.869144 -77.132532        2        0        6  16:30:00   \n",
       "13        35.0  38.869144 -77.110817        5        0        6  16:30:00   \n",
       "14        36.0  38.869144 -77.089102        1        0        6  16:30:00   \n",
       "\n",
       "    month  \n",
       "0       3  \n",
       "1       3  \n",
       "2       3  \n",
       "3       3  \n",
       "4       3  \n",
       "5       3  \n",
       "6       3  \n",
       "7       3  \n",
       "8       3  \n",
       "9       3  \n",
       "10      3  \n",
       "11      3  \n",
       "12      3  \n",
       "13      3  \n",
       "14      3  "
      ]
     },
     "execution_count": 20,
     "metadata": {},
     "output_type": "execute_result"
    }
   ],
   "source": [
    "# pickups between 16:30-18:00 per station (uncombined stations)\n",
    "pickups = pickups.reset_index()\n",
    "cols = list(pickups.columns)\n",
    "cols[0] = 'station_id'\n",
    "cols[3] = 'pickups'\n",
    "pickups.columns = cols\n",
    "pickups.head(15)"
   ]
  },
  {
   "cell_type": "markdown",
   "metadata": {},
   "source": [
    "This dataframe above is the most minimal version of what we will have as the input of the decision trees. \n",
    "\n",
    "- station_id: identifier (here I used the grid-ids, the \"combined stations\")\n",
    "- lat/lon: location of the station, here one-to-one mapping\n",
    "\n",
    "other variables that will be usefull for the decision tree:\n",
    "- timeframe: We should think about how to represent the timeframe better, here I just used the end-time. \n",
    "- weekday/weekend: either 0-1 (two categories) or 0-6 (each day)\n",
    "- holiday: 0-1\n",
    "- season: 0-3 (4 seasons), or 0-11 (12 months)?\n",
    "- weather: sunny, rainy, windy, snowy, cold ... I really think we should put in some effort to get data. It should not take too long once we've found a nice dataset\n",
    "- inner-/outer city: maybe we don't need it because it is already somehow captured in the location (lat/lon). Will have high correlation with this one\n",
    "- how many other stations in cluster: No idea if it's important, but I guess it has some relevance.\n",
    "- ... please complete\n",
    "- type of customer (member or casual), it really makes a difference!\n",
    "\n",
    "target variable:\n",
    "- pickups: how many bikes got picked up at the station. Integers or integer-ranges?"
   ]
  },
  {
   "cell_type": "code",
   "execution_count": 22,
   "metadata": {},
   "outputs": [],
   "source": [
    "# logarithmic value to see the distribution better in the color scheme\n",
    "pickups['log_pickups'] = np.log(pickups.pickups) "
   ]
  },
  {
   "cell_type": "code",
   "execution_count": 24,
   "metadata": {},
   "outputs": [
    {
     "data": {
      "text/plain": [
       "<matplotlib.colorbar.Colorbar at 0x7faa18cfdb38>"
      ]
     },
     "execution_count": 24,
     "metadata": {},
     "output_type": "execute_result"
    },
    {
     "data": {
      "image/png": "[encoded data removed]",
      "text/plain": [
       "<Figure size 432x288 with 2 Axes>"
      ]
     },
     "metadata": {
      "needs_background": "light"
     },
     "output_type": "display_data"
    }
   ],
   "source": [
    "plt.scatter(pickups.lat, pickups.lon, marker='.', c=pickups.log_pickups, cmap='viridis')\n",
    "plt.colorbar()"
   ]
  },
  {
   "cell_type": "code",
   "execution_count": null,
   "metadata": {},
   "outputs": [],
   "source": []
  },
  {
   "cell_type": "markdown",
   "metadata": {},
   "source": [
    "# What is next:\n",
    "\n",
    "### Data:\n",
    "- Data collection (trip data, stations, weather, holiday (bank-)...)\n",
    "- more data cleaning and feature engineering, find more features\n",
    "- split data for cross validation (leave out part for prediction of the trees and for training of the NNet/combination of trees)\n",
    "\n",
    "### AI-Part:\n",
    "#### Build trees\n",
    "- code for decision tree with Entropy/Information Gain\n",
    "- code for decision tree with random split\n",
    "- random forest trees (where one variable is left out)\n",
    "- other ways of building trees\n",
    "\n",
    "#### Combine trees:\n",
    "- uniformly\n",
    "- with fancy Neural Nets\n",
    "- something like AdaBoost\n",
    "\n",
    "### Visualization\n",
    "- demand on map\n",
    "- time moving map?\n",
    "- real-time prediction?\n",
    "\n"
   ]
  },
  {
   "cell_type": "code",
   "execution_count": null,
   "metadata": {},
   "outputs": [],
   "source": []
  }
 ],
 "metadata": {
  "kernelspec": {
   "display_name": "Python 3",
   "language": "python",
   "name": "python3"
  },
  "language_info": {
   "codemirror_mode": {
    "name": "ipython",
    "version": 3
   },
   "file_extension": ".py",
   "mimetype": "text/x-python",
   "name": "python",
   "nbconvert_exporter": "python",
   "pygments_lexer": "ipython3",
   "version": "3.5.2"
  }
 },
 "nbformat": 4,
 "nbformat_minor": 2
}
