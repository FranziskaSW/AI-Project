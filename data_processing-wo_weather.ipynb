{
 "cells": [
  {
   "cell_type": "markdown",
   "metadata": {},
   "source": [
    "This is the beginning of the data cleaning and some very short exploratory analysis. \n",
    "\n",
    "In the end of the notebook is a dataframe that is similar to what we will have as an imput for the decision tree. \n",
    "So far only for the pickup of the bikes, but we will do the same for the return of the bikes. \n",
    "\n",
    "It is really just a rough start of the data preprocessing, only to make you more familiar with the data. "
   ]
  },
  {
   "cell_type": "code",
   "execution_count": 127,
   "metadata": {},
   "outputs": [],
   "source": [
    "import pandas as pd\n",
    "import os \n",
    "from datetime import datetime, timedelta\n",
    "from matplotlib import pyplot as plt\n",
    "import math\n",
    "import numpy as np\n",
    "import copy\n",
    "import holidays\n",
    "import json \n",
    "cwd = os.getcwd()\n",
    "us_holidays = holidays.UnitedStates()"
   ]
  },
  {
   "cell_type": "code",
   "execution_count": 128,
   "metadata": {},
   "outputs": [],
   "source": [
    "from os import listdir\n",
    "from os.path import isfile, join\n",
    "\n",
    "path = cwd+'/data/tripdata'\n",
    "files = [f for f in listdir(path) if isfile(join(path, f))]\n",
    "files.sort()\n"
   ]
  },
  {
   "cell_type": "code",
   "execution_count": 129,
   "metadata": {},
   "outputs": [
    {
     "name": "stdout",
     "output_type": "stream",
     "text": [
      "(168590, 9) (182378, 9)\n",
      "(350968, 9) (238998, 9)\n"
     ]
    }
   ],
   "source": [
    "data = pd.read_csv(path+'/'+files[0])\n",
    "for file in files[1:]:\n",
    "    data_month = pd.read_csv(path+'/'+file)\n",
    "    print(data.shape, data_month.shape)\n",
    "    data = data.append(data_month, ignore_index = True)"
   ]
  },
  {
   "cell_type": "code",
   "execution_count": 130,
   "metadata": {},
   "outputs": [
    {
     "data": {
      "text/plain": [
       "Index(['Duration', 'Start date', 'End date', 'Start station number',\n",
       "       'Start station', 'End station number', 'End station', 'Bike number',\n",
       "       'Member type'],\n",
       "      dtype='object')"
      ]
     },
     "execution_count": 130,
     "metadata": {},
     "output_type": "execute_result"
    }
   ],
   "source": [
    "data.columns"
   ]
  },
  {
   "cell_type": "markdown",
   "metadata": {},
   "source": [
    "# date time"
   ]
  },
  {
   "cell_type": "markdown",
   "metadata": {},
   "source": [
    "First some data cleaning and feature ingeneering on the timestamp.\n",
    "\n",
    "For exploratory analysis it makes sense to look at the start time in time-intervals instead of continuous time. (clean_time, here 15-min-intervals)\n",
    "\n",
    "Also we're interested in the date (for weekday/weekend, holiday, season). "
   ]
  },
  {
   "cell_type": "code",
   "execution_count": 131,
   "metadata": {},
   "outputs": [],
   "source": [
    "def create_datetime(time_str):\n",
    "    return datetime.strptime(time_str, '%Y-%m-%d %H:%M:%S')"
   ]
  },
  {
   "cell_type": "markdown",
   "metadata": {},
   "source": [
    "def clean_time(time_datetime, interval_size):\n",
    "    \"\"\"\n",
    "    Devide time into intervals of interval_size\n",
    "    \"\"\"\n",
    "    new_minute = math.floor(time_datetime.minute/interval_size)*interval_size\n",
    "    return time_datetime.replace(minute=new_minute, \n",
    "                                second=0, \n",
    "                                microsecond=0).time()"
   ]
  },
  {
   "cell_type": "code",
   "execution_count": 132,
   "metadata": {},
   "outputs": [],
   "source": [
    "data['starttime'] = data['Start date'].apply(lambda x: create_datetime(x))"
   ]
  },
  {
   "cell_type": "markdown",
   "metadata": {},
   "source": [
    "# geo data"
   ]
  },
  {
   "cell_type": "code",
   "execution_count": 133,
   "metadata": {},
   "outputs": [],
   "source": [
    "stations = pd.read_csv(cwd+'/data/Capital_Bike_Share_Locations.csv')"
   ]
  },
  {
   "cell_type": "code",
   "execution_count": 134,
   "metadata": {
    "scrolled": true
   },
   "outputs": [
    {
     "data": {
      "text/html": [
       "<div>\n",
       "<style scoped>\n",
       "    .dataframe tbody tr th:only-of-type {\n",
       "        vertical-align: middle;\n",
       "    }\n",
       "\n",
       "    .dataframe tbody tr th {\n",
       "        vertical-align: top;\n",
       "    }\n",
       "\n",
       "    .dataframe thead th {\n",
       "        text-align: right;\n",
       "    }\n",
       "</style>\n",
       "<table border=\"1\" class=\"dataframe\">\n",
       "  <thead>\n",
       "    <tr style=\"text-align: right;\">\n",
       "      <th></th>\n",
       "      <th>OBJECTID</th>\n",
       "      <th>ID</th>\n",
       "      <th>ADDRESS</th>\n",
       "      <th>TERMINAL_NUMBER</th>\n",
       "      <th>LATITUDE</th>\n",
       "      <th>LONGITUDE</th>\n",
       "      <th>INSTALLED</th>\n",
       "      <th>LOCKED</th>\n",
       "      <th>INSTALL_DATE</th>\n",
       "      <th>REMOVAL_DATE</th>\n",
       "      <th>TEMPORARY_INSTALL</th>\n",
       "      <th>NUMBER_OF_BIKES</th>\n",
       "      <th>NUMBER_OF_EMPTY_DOCKS</th>\n",
       "      <th>X</th>\n",
       "      <th>Y</th>\n",
       "      <th>SE_ANNO_CAD_DATA</th>\n",
       "      <th>OWNER</th>\n",
       "    </tr>\n",
       "  </thead>\n",
       "  <tbody>\n",
       "    <tr>\n",
       "      <th>0</th>\n",
       "      <td>264410090</td>\n",
       "      <td>556</td>\n",
       "      <td>18th &amp; New Hampshire Ave NW</td>\n",
       "      <td>31324</td>\n",
       "      <td>38.911268</td>\n",
       "      <td>-77.041829</td>\n",
       "      <td>YES</td>\n",
       "      <td>NO</td>\n",
       "      <td>NaN</td>\n",
       "      <td>NaN</td>\n",
       "      <td>NO</td>\n",
       "      <td>9</td>\n",
       "      <td>10</td>\n",
       "      <td>396372.164153</td>\n",
       "      <td>138156.972226</td>\n",
       "      <td>NaN</td>\n",
       "      <td>DC</td>\n",
       "    </tr>\n",
       "    <tr>\n",
       "      <th>1</th>\n",
       "      <td>264410091</td>\n",
       "      <td>560</td>\n",
       "      <td>Dunn Loring Metro</td>\n",
       "      <td>32231</td>\n",
       "      <td>38.882800</td>\n",
       "      <td>-77.228300</td>\n",
       "      <td>YES</td>\n",
       "      <td>NO</td>\n",
       "      <td>NaN</td>\n",
       "      <td>NaN</td>\n",
       "      <td>NO</td>\n",
       "      <td>8</td>\n",
       "      <td>8</td>\n",
       "      <td>380191.621348</td>\n",
       "      <td>135020.735550</td>\n",
       "      <td>NaN</td>\n",
       "      <td>NaN</td>\n",
       "    </tr>\n",
       "    <tr>\n",
       "      <th>2</th>\n",
       "      <td>264410092</td>\n",
       "      <td>561</td>\n",
       "      <td>Oglethorpe St &amp; 42nd Ave</td>\n",
       "      <td>32408</td>\n",
       "      <td>38.959361</td>\n",
       "      <td>-76.946361</td>\n",
       "      <td>YES</td>\n",
       "      <td>NO</td>\n",
       "      <td>NaN</td>\n",
       "      <td>NaN</td>\n",
       "      <td>NO</td>\n",
       "      <td>5</td>\n",
       "      <td>3</td>\n",
       "      <td>404648.982007</td>\n",
       "      <td>143496.250343</td>\n",
       "      <td>NaN</td>\n",
       "      <td>NaN</td>\n",
       "    </tr>\n",
       "    <tr>\n",
       "      <th>3</th>\n",
       "      <td>264410093</td>\n",
       "      <td>562</td>\n",
       "      <td>Southern Ave Metro</td>\n",
       "      <td>32409</td>\n",
       "      <td>38.840107</td>\n",
       "      <td>-76.975300</td>\n",
       "      <td>YES</td>\n",
       "      <td>NO</td>\n",
       "      <td>NaN</td>\n",
       "      <td>NaN</td>\n",
       "      <td>NO</td>\n",
       "      <td>6</td>\n",
       "      <td>9</td>\n",
       "      <td>402144.372341</td>\n",
       "      <td>130257.022934</td>\n",
       "      <td>NaN</td>\n",
       "      <td>NaN</td>\n",
       "    </tr>\n",
       "    <tr>\n",
       "      <th>4</th>\n",
       "      <td>264410094</td>\n",
       "      <td>563</td>\n",
       "      <td>Queens Chapel &amp; Hamilton St</td>\n",
       "      <td>32410</td>\n",
       "      <td>38.954600</td>\n",
       "      <td>-76.959500</td>\n",
       "      <td>YES</td>\n",
       "      <td>NO</td>\n",
       "      <td>NaN</td>\n",
       "      <td>NaN</td>\n",
       "      <td>NO</td>\n",
       "      <td>2</td>\n",
       "      <td>13</td>\n",
       "      <td>403510.437423</td>\n",
       "      <td>142967.148407</td>\n",
       "      <td>NaN</td>\n",
       "      <td>NaN</td>\n",
       "    </tr>\n",
       "  </tbody>\n",
       "</table>\n",
       "</div>"
      ],
      "text/plain": [
       "    OBJECTID   ID                      ADDRESS  TERMINAL_NUMBER   LATITUDE  \\\n",
       "0  264410090  556  18th & New Hampshire Ave NW            31324  38.911268   \n",
       "1  264410091  560            Dunn Loring Metro            32231  38.882800   \n",
       "2  264410092  561     Oglethorpe St & 42nd Ave            32408  38.959361   \n",
       "3  264410093  562           Southern Ave Metro            32409  38.840107   \n",
       "4  264410094  563  Queens Chapel & Hamilton St            32410  38.954600   \n",
       "\n",
       "   LONGITUDE INSTALLED LOCKED  INSTALL_DATE  REMOVAL_DATE TEMPORARY_INSTALL  \\\n",
       "0 -77.041829       YES     NO           NaN           NaN                NO   \n",
       "1 -77.228300       YES     NO           NaN           NaN                NO   \n",
       "2 -76.946361       YES     NO           NaN           NaN                NO   \n",
       "3 -76.975300       YES     NO           NaN           NaN                NO   \n",
       "4 -76.959500       YES     NO           NaN           NaN                NO   \n",
       "\n",
       "   NUMBER_OF_BIKES  NUMBER_OF_EMPTY_DOCKS              X              Y  \\\n",
       "0                9                     10  396372.164153  138156.972226   \n",
       "1                8                      8  380191.621348  135020.735550   \n",
       "2                5                      3  404648.982007  143496.250343   \n",
       "3                6                      9  402144.372341  130257.022934   \n",
       "4                2                     13  403510.437423  142967.148407   \n",
       "\n",
       "   SE_ANNO_CAD_DATA OWNER  \n",
       "0               NaN    DC  \n",
       "1               NaN   NaN  \n",
       "2               NaN   NaN  \n",
       "3               NaN   NaN  \n",
       "4               NaN   NaN  "
      ]
     },
     "execution_count": 134,
     "metadata": {},
     "output_type": "execute_result"
    }
   ],
   "source": [
    "stations.head()"
   ]
  },
  {
   "cell_type": "code",
   "execution_count": 135,
   "metadata": {},
   "outputs": [],
   "source": [
    "stations['CAPACITY'] = stations.NUMBER_OF_BIKES+stations.NUMBER_OF_EMPTY_DOCKS\n",
    "stations = stations[['TERMINAL_NUMBER', 'LATITUDE', 'LONGITUDE', 'CAPACITY']]\n",
    "stations.columns = ['id', 'latitude', 'longitude', 'capacity']"
   ]
  },
  {
   "cell_type": "code",
   "execution_count": 136,
   "metadata": {},
   "outputs": [
    {
     "data": {
      "text/plain": [
       "<matplotlib.collections.PathCollection at 0x7faa16ccbba8>"
      ]
     },
     "execution_count": 136,
     "metadata": {},
     "output_type": "execute_result"
    },
    {
     "data": {
      "image/png": "[encoded data removed]",
      "text/plain": [
       "<Figure size 432x288 with 1 Axes>"
      ]
     },
     "metadata": {
      "needs_background": "light"
     },
     "output_type": "display_data"
    }
   ],
   "source": [
    "plt.scatter(stations.latitude, stations.longitude, marker='.')"
   ]
  },
  {
   "cell_type": "markdown",
   "metadata": {},
   "source": [
    "Because the rented bikes per hour were pretty small at one station, I had the idea of combining stations that are close to each other. Because as a user you are usually not fixed on a specific station, you would look on the map in the application and then go to any close station that has bikes. \n",
    "\n",
    "In the next step I manually combined the stations that are close to each other imagine a grid that lays over the map and all the stations in one cell are combined to one. \n",
    "If we bundle stations, we should think about a smarter way."
   ]
  },
  {
   "cell_type": "code",
   "execution_count": 137,
   "metadata": {},
   "outputs": [],
   "source": [
    "grid_size = 25\n",
    "offset_lat = (stations.latitude.max() - stations.latitude.min())/grid_size\n",
    "offset_lon = (stations.longitude.max() - stations.longitude.min())/grid_size\n",
    "stations['lat'] = stations.latitude.apply(lambda x: math.floor(x/offset_lat)*offset_lat)\n",
    "stations['lon'] = stations.longitude.apply(lambda x: math.floor(x/offset_lon)*offset_lon)"
   ]
  },
  {
   "cell_type": "code",
   "execution_count": 138,
   "metadata": {},
   "outputs": [],
   "source": [
    "new_stat = stations.groupby(['lat', 'lon']).count().reset_index()\n",
    "new_stat.id = range(0,new_stat.shape[0])\n",
    "new_stat = new_stat[['id', 'lat', 'lon']]"
   ]
  },
  {
   "cell_type": "code",
   "execution_count": 139,
   "metadata": {},
   "outputs": [],
   "source": [
    "stations_rough = stations.merge(new_stat, how='left', \n",
    "               left_on=['lat', 'lon'], \n",
    "              right_on=['lat', 'lon'])"
   ]
  },
  {
   "cell_type": "code",
   "execution_count": 140,
   "metadata": {},
   "outputs": [
    {
     "data": {
      "text/html": [
       "<div>\n",
       "<style scoped>\n",
       "    .dataframe tbody tr th:only-of-type {\n",
       "        vertical-align: middle;\n",
       "    }\n",
       "\n",
       "    .dataframe tbody tr th {\n",
       "        vertical-align: top;\n",
       "    }\n",
       "\n",
       "    .dataframe thead th {\n",
       "        text-align: right;\n",
       "    }\n",
       "</style>\n",
       "<table border=\"1\" class=\"dataframe\">\n",
       "  <thead>\n",
       "    <tr style=\"text-align: right;\">\n",
       "      <th></th>\n",
       "      <th>id_x</th>\n",
       "      <th>latitude</th>\n",
       "      <th>longitude</th>\n",
       "      <th>capacity</th>\n",
       "      <th>lat</th>\n",
       "      <th>lon</th>\n",
       "      <th>id_y</th>\n",
       "    </tr>\n",
       "  </thead>\n",
       "  <tbody>\n",
       "    <tr>\n",
       "      <th>0</th>\n",
       "      <td>31324</td>\n",
       "      <td>38.911268</td>\n",
       "      <td>-77.041829</td>\n",
       "      <td>19</td>\n",
       "      <td>38.910348</td>\n",
       "      <td>-77.045672</td>\n",
       "      <td>71</td>\n",
       "    </tr>\n",
       "    <tr>\n",
       "      <th>1</th>\n",
       "      <td>32231</td>\n",
       "      <td>38.882800</td>\n",
       "      <td>-77.228300</td>\n",
       "      <td>16</td>\n",
       "      <td>38.869144</td>\n",
       "      <td>-77.241109</td>\n",
       "      <td>30</td>\n",
       "    </tr>\n",
       "    <tr>\n",
       "      <th>2</th>\n",
       "      <td>32408</td>\n",
       "      <td>38.959361</td>\n",
       "      <td>-76.946361</td>\n",
       "      <td>8</td>\n",
       "      <td>38.951552</td>\n",
       "      <td>-76.958811</td>\n",
       "      <td>96</td>\n",
       "    </tr>\n",
       "    <tr>\n",
       "      <th>3</th>\n",
       "      <td>32409</td>\n",
       "      <td>38.840107</td>\n",
       "      <td>-76.975300</td>\n",
       "      <td>15</td>\n",
       "      <td>38.827940</td>\n",
       "      <td>-76.980526</td>\n",
       "      <td>16</td>\n",
       "    </tr>\n",
       "    <tr>\n",
       "      <th>4</th>\n",
       "      <td>32410</td>\n",
       "      <td>38.954600</td>\n",
       "      <td>-76.959500</td>\n",
       "      <td>15</td>\n",
       "      <td>38.951552</td>\n",
       "      <td>-76.980526</td>\n",
       "      <td>95</td>\n",
       "    </tr>\n",
       "    <tr>\n",
       "      <th>5</th>\n",
       "      <td>32411</td>\n",
       "      <td>38.975505</td>\n",
       "      <td>-76.952199</td>\n",
       "      <td>15</td>\n",
       "      <td>38.965287</td>\n",
       "      <td>-76.958811</td>\n",
       "      <td>102</td>\n",
       "    </tr>\n",
       "    <tr>\n",
       "      <th>6</th>\n",
       "      <td>32412</td>\n",
       "      <td>38.974205</td>\n",
       "      <td>-76.995227</td>\n",
       "      <td>14</td>\n",
       "      <td>38.965287</td>\n",
       "      <td>-77.002241</td>\n",
       "      <td>101</td>\n",
       "    </tr>\n",
       "    <tr>\n",
       "      <th>7</th>\n",
       "      <td>32413</td>\n",
       "      <td>38.939271</td>\n",
       "      <td>-76.955047</td>\n",
       "      <td>15</td>\n",
       "      <td>38.937818</td>\n",
       "      <td>-76.958811</td>\n",
       "      <td>88</td>\n",
       "    </tr>\n",
       "    <tr>\n",
       "      <th>8</th>\n",
       "      <td>32414</td>\n",
       "      <td>38.972500</td>\n",
       "      <td>-76.980700</td>\n",
       "      <td>15</td>\n",
       "      <td>38.965287</td>\n",
       "      <td>-77.002241</td>\n",
       "      <td>101</td>\n",
       "    </tr>\n",
       "    <tr>\n",
       "      <th>9</th>\n",
       "      <td>32415</td>\n",
       "      <td>38.796800</td>\n",
       "      <td>-77.002600</td>\n",
       "      <td>14</td>\n",
       "      <td>38.786736</td>\n",
       "      <td>-77.023956</td>\n",
       "      <td>3</td>\n",
       "    </tr>\n",
       "  </tbody>\n",
       "</table>\n",
       "</div>"
      ],
      "text/plain": [
       "    id_x   latitude  longitude  capacity        lat        lon  id_y\n",
       "0  31324  38.911268 -77.041829        19  38.910348 -77.045672    71\n",
       "1  32231  38.882800 -77.228300        16  38.869144 -77.241109    30\n",
       "2  32408  38.959361 -76.946361         8  38.951552 -76.958811    96\n",
       "3  32409  38.840107 -76.975300        15  38.827940 -76.980526    16\n",
       "4  32410  38.954600 -76.959500        15  38.951552 -76.980526    95\n",
       "5  32411  38.975505 -76.952199        15  38.965287 -76.958811   102\n",
       "6  32412  38.974205 -76.995227        14  38.965287 -77.002241   101\n",
       "7  32413  38.939271 -76.955047        15  38.937818 -76.958811    88\n",
       "8  32414  38.972500 -76.980700        15  38.965287 -77.002241   101\n",
       "9  32415  38.796800 -77.002600        14  38.786736 -77.023956     3"
      ]
     },
     "execution_count": 140,
     "metadata": {},
     "output_type": "execute_result"
    }
   ],
   "source": [
    "stations_rough.head(10) \n",
    "#id_y is the new station id, see how id 101 appears twice..."
   ]
  },
  {
   "cell_type": "code",
   "execution_count": 141,
   "metadata": {},
   "outputs": [
    {
     "data": {
      "text/plain": [
       "<matplotlib.collections.PathCollection at 0x7faa1b70de80>"
      ]
     },
     "execution_count": 141,
     "metadata": {},
     "output_type": "execute_result"
    },
    {
     "data": {
      "image/png": "[encoded data removed]",
      "text/plain": [
       "<Figure size 432x288 with 1 Axes>"
      ]
     },
     "metadata": {
      "needs_background": "light"
     },
     "output_type": "display_data"
    }
   ],
   "source": [
    "plt.scatter(stations_rough.lat, stations_rough.lon, marker='.')"
   ]
  },
  {
   "cell_type": "code",
   "execution_count": null,
   "metadata": {},
   "outputs": [],
   "source": []
  },
  {
   "cell_type": "code",
   "execution_count": 142,
   "metadata": {},
   "outputs": [],
   "source": [
    "# compare station ids from trip data to station information"
   ]
  },
  {
   "cell_type": "code",
   "execution_count": 143,
   "metadata": {},
   "outputs": [],
   "source": [
    "trip_numbers = set(data['Start station number'].unique())"
   ]
  },
  {
   "cell_type": "code",
   "execution_count": 144,
   "metadata": {},
   "outputs": [],
   "source": [
    "station_id = set(stations_rough.id_x.unique())"
   ]
  },
  {
   "cell_type": "code",
   "execution_count": 148,
   "metadata": {},
   "outputs": [
    {
     "data": {
      "text/plain": [
       "{31008, 32009}"
      ]
     },
     "execution_count": 148,
     "metadata": {},
     "output_type": "execute_result"
    }
   ],
   "source": [
    "trip_numbers.difference(station_id)  # TODO: need historic station numbers!, some few numbers from tripdata are not in station information!"
   ]
  },
  {
   "cell_type": "code",
   "execution_count": 149,
   "metadata": {},
   "outputs": [],
   "source": [
    "# station_id.difference(trip_numbers)"
   ]
  },
  {
   "cell_type": "markdown",
   "metadata": {},
   "source": [
    "# station pickup count"
   ]
  },
  {
   "cell_type": "code",
   "execution_count": 65,
   "metadata": {},
   "outputs": [
    {
     "data": {
      "text/html": [
       "<div>\n",
       "<style scoped>\n",
       "    .dataframe tbody tr th:only-of-type {\n",
       "        vertical-align: middle;\n",
       "    }\n",
       "\n",
       "    .dataframe tbody tr th {\n",
       "        vertical-align: top;\n",
       "    }\n",
       "\n",
       "    .dataframe thead th {\n",
       "        text-align: right;\n",
       "    }\n",
       "</style>\n",
       "<table border=\"1\" class=\"dataframe\">\n",
       "  <thead>\n",
       "    <tr style=\"text-align: right;\">\n",
       "      <th></th>\n",
       "      <th>Duration</th>\n",
       "      <th>Start date</th>\n",
       "      <th>End date</th>\n",
       "      <th>Start station number</th>\n",
       "      <th>Start station</th>\n",
       "      <th>End station number</th>\n",
       "      <th>End station</th>\n",
       "      <th>Bike number</th>\n",
       "      <th>Member type</th>\n",
       "      <th>starttime</th>\n",
       "    </tr>\n",
       "  </thead>\n",
       "  <tbody>\n",
       "    <tr>\n",
       "      <th>0</th>\n",
       "      <td>552</td>\n",
       "      <td>2018-01-01 00:05:06</td>\n",
       "      <td>2018-01-01 00:14:18</td>\n",
       "      <td>31104</td>\n",
       "      <td>Adams Mill &amp; Columbia Rd NW</td>\n",
       "      <td>31400</td>\n",
       "      <td>Georgia &amp; New Hampshire Ave NW</td>\n",
       "      <td>W00886</td>\n",
       "      <td>Member</td>\n",
       "      <td>2018-01-01 00:05:06</td>\n",
       "    </tr>\n",
       "    <tr>\n",
       "      <th>1</th>\n",
       "      <td>1282</td>\n",
       "      <td>2018-01-01 00:14:30</td>\n",
       "      <td>2018-01-01 00:35:53</td>\n",
       "      <td>31321</td>\n",
       "      <td>15th St &amp; Constitution Ave NW</td>\n",
       "      <td>31321</td>\n",
       "      <td>15th St &amp; Constitution Ave NW</td>\n",
       "      <td>W01435</td>\n",
       "      <td>Casual</td>\n",
       "      <td>2018-01-01 00:14:30</td>\n",
       "    </tr>\n",
       "    <tr>\n",
       "      <th>2</th>\n",
       "      <td>1265</td>\n",
       "      <td>2018-01-01 00:14:53</td>\n",
       "      <td>2018-01-01 00:35:58</td>\n",
       "      <td>31321</td>\n",
       "      <td>15th St &amp; Constitution Ave NW</td>\n",
       "      <td>31321</td>\n",
       "      <td>15th St &amp; Constitution Ave NW</td>\n",
       "      <td>W21242</td>\n",
       "      <td>Casual</td>\n",
       "      <td>2018-01-01 00:14:53</td>\n",
       "    </tr>\n",
       "    <tr>\n",
       "      <th>3</th>\n",
       "      <td>578</td>\n",
       "      <td>2018-01-01 00:15:31</td>\n",
       "      <td>2018-01-01 00:25:09</td>\n",
       "      <td>31406</td>\n",
       "      <td>14th &amp; Upshur St NW</td>\n",
       "      <td>31103</td>\n",
       "      <td>16th &amp; Harvard St NW</td>\n",
       "      <td>W21322</td>\n",
       "      <td>Casual</td>\n",
       "      <td>2018-01-01 00:15:31</td>\n",
       "    </tr>\n",
       "    <tr>\n",
       "      <th>4</th>\n",
       "      <td>372</td>\n",
       "      <td>2018-01-01 00:18:02</td>\n",
       "      <td>2018-01-01 00:24:15</td>\n",
       "      <td>31618</td>\n",
       "      <td>4th &amp; East Capitol St NE</td>\n",
       "      <td>31619</td>\n",
       "      <td>Lincoln Park / 13th &amp; East Capitol St NE</td>\n",
       "      <td>W00119</td>\n",
       "      <td>Member</td>\n",
       "      <td>2018-01-01 00:18:02</td>\n",
       "    </tr>\n",
       "  </tbody>\n",
       "</table>\n",
       "</div>"
      ],
      "text/plain": [
       "   Duration           Start date             End date  Start station number  \\\n",
       "0       552  2018-01-01 00:05:06  2018-01-01 00:14:18                 31104   \n",
       "1      1282  2018-01-01 00:14:30  2018-01-01 00:35:53                 31321   \n",
       "2      1265  2018-01-01 00:14:53  2018-01-01 00:35:58                 31321   \n",
       "3       578  2018-01-01 00:15:31  2018-01-01 00:25:09                 31406   \n",
       "4       372  2018-01-01 00:18:02  2018-01-01 00:24:15                 31618   \n",
       "\n",
       "                   Start station  End station number  \\\n",
       "0    Adams Mill & Columbia Rd NW               31400   \n",
       "1  15th St & Constitution Ave NW               31321   \n",
       "2  15th St & Constitution Ave NW               31321   \n",
       "3            14th & Upshur St NW               31103   \n",
       "4       4th & East Capitol St NE               31619   \n",
       "\n",
       "                                 End station Bike number Member type  \\\n",
       "0             Georgia & New Hampshire Ave NW      W00886      Member   \n",
       "1              15th St & Constitution Ave NW      W01435      Casual   \n",
       "2              15th St & Constitution Ave NW      W21242      Casual   \n",
       "3                       16th & Harvard St NW      W21322      Casual   \n",
       "4  Lincoln Park / 13th & East Capitol St NE       W00119      Member   \n",
       "\n",
       "            starttime  \n",
       "0 2018-01-01 00:05:06  \n",
       "1 2018-01-01 00:14:30  \n",
       "2 2018-01-01 00:14:53  \n",
       "3 2018-01-01 00:15:31  \n",
       "4 2018-01-01 00:18:02  "
      ]
     },
     "execution_count": 65,
     "metadata": {},
     "output_type": "execute_result"
    }
   ],
   "source": [
    "data.head()"
   ]
  },
  {
   "cell_type": "code",
   "execution_count": 66,
   "metadata": {},
   "outputs": [],
   "source": [
    "data = data[['starttime', 'Start station number', 'Member type']]"
   ]
  },
  {
   "cell_type": "code",
   "execution_count": 68,
   "metadata": {},
   "outputs": [
    {
     "data": {
      "text/html": [
       "<div>\n",
       "<style scoped>\n",
       "    .dataframe tbody tr th:only-of-type {\n",
       "        vertical-align: middle;\n",
       "    }\n",
       "\n",
       "    .dataframe tbody tr th {\n",
       "        vertical-align: top;\n",
       "    }\n",
       "\n",
       "    .dataframe thead th {\n",
       "        text-align: right;\n",
       "    }\n",
       "</style>\n",
       "<table border=\"1\" class=\"dataframe\">\n",
       "  <thead>\n",
       "    <tr style=\"text-align: right;\">\n",
       "      <th></th>\n",
       "      <th>starttime</th>\n",
       "      <th>id_y</th>\n",
       "      <th>lat</th>\n",
       "      <th>lon</th>\n",
       "      <th>Member type</th>\n",
       "    </tr>\n",
       "  </thead>\n",
       "  <tbody>\n",
       "    <tr>\n",
       "      <th>0</th>\n",
       "      <td>2018-01-01 01:21:34</td>\n",
       "      <td>25.0</td>\n",
       "      <td>38.85541</td>\n",
       "      <td>-77.067387</td>\n",
       "      <td>Member</td>\n",
       "    </tr>\n",
       "    <tr>\n",
       "      <th>1</th>\n",
       "      <td>2018-01-01 19:53:38</td>\n",
       "      <td>25.0</td>\n",
       "      <td>38.85541</td>\n",
       "      <td>-77.067387</td>\n",
       "      <td>Casual</td>\n",
       "    </tr>\n",
       "    <tr>\n",
       "      <th>2</th>\n",
       "      <td>2018-01-02 07:21:56</td>\n",
       "      <td>25.0</td>\n",
       "      <td>38.85541</td>\n",
       "      <td>-77.067387</td>\n",
       "      <td>Member</td>\n",
       "    </tr>\n",
       "    <tr>\n",
       "      <th>3</th>\n",
       "      <td>2018-01-02 07:55:09</td>\n",
       "      <td>25.0</td>\n",
       "      <td>38.85541</td>\n",
       "      <td>-77.067387</td>\n",
       "      <td>Member</td>\n",
       "    </tr>\n",
       "    <tr>\n",
       "      <th>4</th>\n",
       "      <td>2018-01-02 08:17:40</td>\n",
       "      <td>25.0</td>\n",
       "      <td>38.85541</td>\n",
       "      <td>-77.067387</td>\n",
       "      <td>Member</td>\n",
       "    </tr>\n",
       "  </tbody>\n",
       "</table>\n",
       "</div>"
      ],
      "text/plain": [
       "            starttime  id_y       lat        lon Member type\n",
       "0 2018-01-01 01:21:34  25.0  38.85541 -77.067387      Member\n",
       "1 2018-01-01 19:53:38  25.0  38.85541 -77.067387      Casual\n",
       "2 2018-01-02 07:21:56  25.0  38.85541 -77.067387      Member\n",
       "3 2018-01-02 07:55:09  25.0  38.85541 -77.067387      Member\n",
       "4 2018-01-02 08:17:40  25.0  38.85541 -77.067387      Member"
      ]
     },
     "execution_count": 68,
     "metadata": {},
     "output_type": "execute_result"
    }
   ],
   "source": [
    "data_s = stations_rough.merge(data, how='right', left_on='id_x', right_on='Start station number')[['starttime', 'id_y', 'lat', 'lon', 'Member type']]\n",
    "data_s.head()"
   ]
  },
  {
   "cell_type": "markdown",
   "metadata": {},
   "source": [
    "## Weather data here:"
   ]
  },
  {
   "cell_type": "code",
   "execution_count": 150,
   "metadata": {},
   "outputs": [],
   "source": [
    "with open(cwd+'/data/weatherdata.json') as json_file:\n",
    "    weather = json.load(json_file)"
   ]
  },
  {
   "cell_type": "code",
   "execution_count": 151,
   "metadata": {},
   "outputs": [],
   "source": [
    "weather_df = pd.DataFrame(weather['observations'])"
   ]
  },
  {
   "cell_type": "code",
   "execution_count": 152,
   "metadata": {},
   "outputs": [
    {
     "data": {
      "text/html": [
       "<div>\n",
       "<style scoped>\n",
       "    .dataframe tbody tr th:only-of-type {\n",
       "        vertical-align: middle;\n",
       "    }\n",
       "\n",
       "    .dataframe tbody tr th {\n",
       "        vertical-align: top;\n",
       "    }\n",
       "\n",
       "    .dataframe thead th {\n",
       "        text-align: right;\n",
       "    }\n",
       "</style>\n",
       "<table border=\"1\" class=\"dataframe\">\n",
       "  <thead>\n",
       "    <tr style=\"text-align: right;\">\n",
       "      <th></th>\n",
       "      <th>humidity</th>\n",
       "      <th>phrase</th>\n",
       "      <th>temp</th>\n",
       "      <th>time_gmt</th>\n",
       "      <th>datetime</th>\n",
       "    </tr>\n",
       "  </thead>\n",
       "  <tbody>\n",
       "    <tr>\n",
       "      <th>0</th>\n",
       "      <td>60.0</td>\n",
       "      <td>Fair</td>\n",
       "      <td>81.0</td>\n",
       "      <td>2010-09-01 03:52:00</td>\n",
       "      <td>2010-09-01 03:52:00</td>\n",
       "    </tr>\n",
       "    <tr>\n",
       "      <th>1</th>\n",
       "      <td>66.0</td>\n",
       "      <td>Fair</td>\n",
       "      <td>79.0</td>\n",
       "      <td>2010-09-01 04:52:00</td>\n",
       "      <td>2010-09-01 04:52:00</td>\n",
       "    </tr>\n",
       "    <tr>\n",
       "      <th>2</th>\n",
       "      <td>66.0</td>\n",
       "      <td>Fair</td>\n",
       "      <td>78.0</td>\n",
       "      <td>2010-09-01 05:52:00</td>\n",
       "      <td>2010-09-01 05:52:00</td>\n",
       "    </tr>\n",
       "    <tr>\n",
       "      <th>3</th>\n",
       "      <td>66.0</td>\n",
       "      <td>Fair</td>\n",
       "      <td>77.0</td>\n",
       "      <td>2010-09-01 06:52:00</td>\n",
       "      <td>2010-09-01 06:52:00</td>\n",
       "    </tr>\n",
       "    <tr>\n",
       "      <th>4</th>\n",
       "      <td>64.0</td>\n",
       "      <td>Fair</td>\n",
       "      <td>77.0</td>\n",
       "      <td>2010-09-01 07:52:00</td>\n",
       "      <td>2010-09-01 07:52:00</td>\n",
       "    </tr>\n",
       "  </tbody>\n",
       "</table>\n",
       "</div>"
      ],
      "text/plain": [
       "   humidity phrase  temp             time_gmt            datetime\n",
       "0      60.0   Fair  81.0  2010-09-01 03:52:00 2010-09-01 03:52:00\n",
       "1      66.0   Fair  79.0  2010-09-01 04:52:00 2010-09-01 04:52:00\n",
       "2      66.0   Fair  78.0  2010-09-01 05:52:00 2010-09-01 05:52:00\n",
       "3      66.0   Fair  77.0  2010-09-01 06:52:00 2010-09-01 06:52:00\n",
       "4      64.0   Fair  77.0  2010-09-01 07:52:00 2010-09-01 07:52:00"
      ]
     },
     "execution_count": 152,
     "metadata": {},
     "output_type": "execute_result"
    }
   ],
   "source": [
    "weather_df['datetime'] = weather_df.time_gmt.apply(lambda x: create_datetime(x))\n",
    "weather_df.head()"
   ]
  },
  {
   "cell_type": "code",
   "execution_count": 166,
   "metadata": {},
   "outputs": [],
   "source": [
    "current_weather = weather_df[(weather_df.datetime >= time-timedelta(minutes=30)) & \n",
    "                                 (weather_df.datetime < time+timedelta(minutes=29))].iloc[0]"
   ]
  },
  {
   "cell_type": "code",
   "execution_count": 167,
   "metadata": {},
   "outputs": [
    {
     "data": {
      "text/plain": [
       "humidity                     65\n",
       "phrase                     Fair\n",
       "temp                         43\n",
       "time_gmt    2018-03-25 23:52:00\n",
       "datetime    2018-03-25 23:52:00\n",
       "Name: 83335, dtype: object"
      ]
     },
     "execution_count": 167,
     "metadata": {},
     "output_type": "execute_result"
    }
   ],
   "source": [
    "current_weather"
   ]
  },
  {
   "cell_type": "code",
   "execution_count": 168,
   "metadata": {},
   "outputs": [
    {
     "data": {
      "text/plain": [
       "43.0"
      ]
     },
     "execution_count": 168,
     "metadata": {},
     "output_type": "execute_result"
    }
   ],
   "source": [
    "current_weather.temp"
   ]
  },
  {
   "cell_type": "code",
   "execution_count": null,
   "metadata": {},
   "outputs": [],
   "source": []
  },
  {
   "cell_type": "code",
   "execution_count": null,
   "metadata": {},
   "outputs": [],
   "source": []
  },
  {
   "cell_type": "code",
   "execution_count": null,
   "metadata": {},
   "outputs": [],
   "source": []
  },
  {
   "cell_type": "code",
   "execution_count": 165,
   "metadata": {},
   "outputs": [
    {
     "data": {
      "text/plain": [
       "Cloudy                          32850\n",
       "Mostly Cloudy                   21868\n",
       "Fair                            16058\n",
       "Partly Cloudy                   12153\n",
       "Light Rain                       5786\n",
       "Light Drizzle                    1337\n",
       "Rain                             1085\n",
       "Light Snow                       1020\n",
       "Cloudy / Windy                    824\n",
       "Heavy Rain                        636\n",
       "Fog                               636\n",
       "Mostly Cloudy / Windy             506\n",
       "Light Rain with Thunder           432\n",
       "Partly Cloudy / Windy             419\n",
       "Fair / Windy                      391\n",
       "Heavy T-Storm                     312\n",
       "Thunder                           286\n",
       "Thunder in the Vicinity           216\n",
       "T-Storm                           205\n",
       "Wintry Mix                        201\n",
       "Light Rain / Windy                192\n",
       "Haze                              167\n",
       "Snow                               82\n",
       "Mist                               76\n",
       "Heavy T-Storm / Windy              75\n",
       "Light Snow / Windy                 70\n",
       "Heavy Rain / Windy                 58\n",
       "Rain and Snow                      43\n",
       "Light Freezing Rain                39\n",
       "Rain / Windy                       34\n",
       "Rain and Sleet                     27\n",
       "Patches of Fog                     22\n",
       "Heavy Snow                         21\n",
       "Thunder / Windy                    20\n",
       "Shallow Fog                        19\n",
       "T-Storm / Windy                    19\n",
       "Snow / Windy                       18\n",
       "Wintry Mix / Windy                 15\n",
       "Light Snow and Sleet               15\n",
       "Snow and Sleet                     14\n",
       "Light Sleet                         8\n",
       "Light Drizzle / Windy               7\n",
       "Heavy Snow / Windy                  7\n",
       "Thunder and Hail                    4\n",
       "Sleet                               4\n",
       "Thunder and Hail / Windy            3\n",
       "Squalls / Windy                     3\n",
       "Light Snow and Sleet / Windy        3\n",
       "Drizzle and Fog                     2\n",
       "Light Freezing Drizzle              2\n",
       "Heavy Sleet                         1\n",
       "Rain / Freezing Rain                1\n",
       "Light Sleet / Windy                 1\n",
       "Freezing Rain                       1\n",
       "Name: phrase, dtype: int64"
      ]
     },
     "execution_count": 165,
     "metadata": {},
     "output_type": "execute_result"
    }
   ],
   "source": [
    "weather_df.phrase.value_counts()  # TODO: yyyey... data cleaning!"
   ]
  },
  {
   "cell_type": "code",
   "execution_count": null,
   "metadata": {},
   "outputs": [],
   "source": []
  },
  {
   "cell_type": "code",
   "execution_count": null,
   "metadata": {},
   "outputs": [],
   "source": []
  },
  {
   "cell_type": "code",
   "execution_count": null,
   "metadata": {},
   "outputs": [],
   "source": []
  },
  {
   "cell_type": "code",
   "execution_count": null,
   "metadata": {},
   "outputs": [],
   "source": []
  },
  {
   "cell_type": "code",
   "execution_count": null,
   "metadata": {},
   "outputs": [],
   "source": []
  },
  {
   "cell_type": "code",
   "execution_count": null,
   "metadata": {},
   "outputs": [],
   "source": []
  },
  {
   "cell_type": "code",
   "execution_count": 160,
   "metadata": {},
   "outputs": [
    {
     "name": "stdout",
     "output_type": "stream",
     "text": [
      "2018-03-25 00:00:00 2018-03-25 01:30:00\n",
      "2018-03-25 01:30:00 2018-03-25 03:00:00\n",
      "2018-03-25 03:00:00 2018-03-25 04:30:00\n",
      "2018-03-25 04:30:00 2018-03-25 06:00:00\n",
      "2018-03-25 06:00:00 2018-03-25 07:30:00\n",
      "2018-03-25 07:30:00 2018-03-25 09:00:00\n",
      "2018-03-25 09:00:00 2018-03-25 10:30:00\n",
      "2018-03-25 10:30:00 2018-03-25 12:00:00\n",
      "2018-03-25 12:00:00 2018-03-25 13:30:00\n",
      "2018-03-25 13:30:00 2018-03-25 15:00:00\n",
      "2018-03-25 15:00:00 2018-03-25 16:30:00\n",
      "2018-03-25 16:30:00 2018-03-25 18:00:00\n",
      "2018-03-25 18:00:00 2018-03-25 19:30:00\n",
      "2018-03-25 19:30:00 2018-03-25 21:00:00\n",
      "2018-03-25 21:00:00 2018-03-25 22:30:00\n",
      "2018-03-25 22:30:00 2018-03-26 00:00:00\n"
     ]
    }
   ],
   "source": [
    "# within next 90 minutes will have x pickups at station\n",
    "time = datetime(year=2018, month=3, day=25, hour=0, minute=0)\n",
    "delta = timedelta(minutes=90)\n",
    "\n",
    "pickup_list = list()\n",
    "for i in range(0,16):  # loop is irrelevant right now, further down we only look at the last time-interval\n",
    "    print(time, time+delta)\n",
    "    pickups = data_s[(data_s.starttime >= time) & \n",
    "                     (data_s.starttime < time+delta)].groupby(['id_y', 'lat', 'lon', 'Member type']).count()\n",
    "    pickups['holiday'] = int(time in us_holidays)\n",
    "    pickups['weekday'] = time.weekday()\n",
    "    pickups['time'] = time.time()\n",
    "    pickups['month'] = time.month\n",
    "    \n",
    "    current_weather = weather_df[(weather_df.datetime >= time-timedelta(minutes=30)) & \n",
    "                                 (weather_df.datetime < time+timedelta(minutes=29))].iloc[0]\n",
    "    \n",
    "    pickups['weather'] = current_weather['phrase'] \n",
    "    pickups['temperature'] = current_weather['temp']\n",
    "    pickups['humidity'] = current_weather['humidity']\n",
    "    \n",
    "    # multi-index to single index and rename columns\n",
    "    pickups = pickups.reset_index()\n",
    "    cols = list(pickups.columns)\n",
    "    cols[0] = 'station_id'\n",
    "    cols[4] = 'pickups'\n",
    "    pickups.columns = cols\n",
    "\n",
    "    pickup_list.append(pickups)\n",
    "    time += delta"
   ]
  },
  {
   "cell_type": "code",
   "execution_count": 161,
   "metadata": {},
   "outputs": [
    {
     "name": "stdout",
     "output_type": "stream",
     "text": [
      "(25, 12) (55, 12)\n",
      "(20, 12) (75, 12)\n",
      "(7, 12) (82, 12)\n",
      "(18, 12) (100, 12)\n",
      "(44, 12) (144, 12)\n",
      "(64, 12) (208, 12)\n",
      "(75, 12) (283, 12)\n",
      "(78, 12) (361, 12)\n",
      "(81, 12) (442, 12)\n",
      "(82, 12) (524, 12)\n",
      "(76, 12) (600, 12)\n",
      "(66, 12) (666, 12)\n",
      "(45, 12) (711, 12)\n",
      "(43, 12) (754, 12)\n",
      "(21, 12) (775, 12)\n"
     ]
    }
   ],
   "source": [
    "# create long dataframe from short sub-windows\n",
    "pickups = pickup_list[0]\n",
    "\n",
    "for i in range(1, len(pickup_list)):\n",
    "    pickups_new = pickup_list[i]\n",
    "    pickups = pickups.append(pickups_new)\n",
    "    print(pickups_new.shape, pickups.shape)"
   ]
  },
  {
   "cell_type": "code",
   "execution_count": 164,
   "metadata": {},
   "outputs": [
    {
     "data": {
      "text/html": [
       "<div>\n",
       "<style scoped>\n",
       "    .dataframe tbody tr th:only-of-type {\n",
       "        vertical-align: middle;\n",
       "    }\n",
       "\n",
       "    .dataframe tbody tr th {\n",
       "        vertical-align: top;\n",
       "    }\n",
       "\n",
       "    .dataframe thead th {\n",
       "        text-align: right;\n",
       "    }\n",
       "</style>\n",
       "<table border=\"1\" class=\"dataframe\">\n",
       "  <thead>\n",
       "    <tr style=\"text-align: right;\">\n",
       "      <th></th>\n",
       "      <th>station_id</th>\n",
       "      <th>lat</th>\n",
       "      <th>lon</th>\n",
       "      <th>Member type</th>\n",
       "      <th>pickups</th>\n",
       "      <th>holiday</th>\n",
       "      <th>weekday</th>\n",
       "      <th>time</th>\n",
       "      <th>month</th>\n",
       "      <th>weather</th>\n",
       "      <th>temperature</th>\n",
       "      <th>humidity</th>\n",
       "    </tr>\n",
       "  </thead>\n",
       "  <tbody>\n",
       "    <tr>\n",
       "      <th>0</th>\n",
       "      <td>11.0</td>\n",
       "      <td>38.827940</td>\n",
       "      <td>-77.110817</td>\n",
       "      <td>Member</td>\n",
       "      <td>1</td>\n",
       "      <td>0</td>\n",
       "      <td>6</td>\n",
       "      <td>00:00:00</td>\n",
       "      <td>3</td>\n",
       "      <td>Cloudy</td>\n",
       "      <td>46.0</td>\n",
       "      <td>34.0</td>\n",
       "    </tr>\n",
       "    <tr>\n",
       "      <th>1</th>\n",
       "      <td>13.0</td>\n",
       "      <td>38.827940</td>\n",
       "      <td>-77.067387</td>\n",
       "      <td>Member</td>\n",
       "      <td>1</td>\n",
       "      <td>0</td>\n",
       "      <td>6</td>\n",
       "      <td>00:00:00</td>\n",
       "      <td>3</td>\n",
       "      <td>Cloudy</td>\n",
       "      <td>46.0</td>\n",
       "      <td>34.0</td>\n",
       "    </tr>\n",
       "    <tr>\n",
       "      <th>2</th>\n",
       "      <td>24.0</td>\n",
       "      <td>38.855410</td>\n",
       "      <td>-77.089102</td>\n",
       "      <td>Member</td>\n",
       "      <td>1</td>\n",
       "      <td>0</td>\n",
       "      <td>6</td>\n",
       "      <td>00:00:00</td>\n",
       "      <td>3</td>\n",
       "      <td>Cloudy</td>\n",
       "      <td>46.0</td>\n",
       "      <td>34.0</td>\n",
       "    </tr>\n",
       "    <tr>\n",
       "      <th>3</th>\n",
       "      <td>25.0</td>\n",
       "      <td>38.855410</td>\n",
       "      <td>-77.067387</td>\n",
       "      <td>Casual</td>\n",
       "      <td>1</td>\n",
       "      <td>0</td>\n",
       "      <td>6</td>\n",
       "      <td>00:00:00</td>\n",
       "      <td>3</td>\n",
       "      <td>Cloudy</td>\n",
       "      <td>46.0</td>\n",
       "      <td>34.0</td>\n",
       "    </tr>\n",
       "    <tr>\n",
       "      <th>4</th>\n",
       "      <td>25.0</td>\n",
       "      <td>38.855410</td>\n",
       "      <td>-77.067387</td>\n",
       "      <td>Member</td>\n",
       "      <td>2</td>\n",
       "      <td>0</td>\n",
       "      <td>6</td>\n",
       "      <td>00:00:00</td>\n",
       "      <td>3</td>\n",
       "      <td>Cloudy</td>\n",
       "      <td>46.0</td>\n",
       "      <td>34.0</td>\n",
       "    </tr>\n",
       "    <tr>\n",
       "      <th>5</th>\n",
       "      <td>27.0</td>\n",
       "      <td>38.855410</td>\n",
       "      <td>-77.002241</td>\n",
       "      <td>Casual</td>\n",
       "      <td>1</td>\n",
       "      <td>0</td>\n",
       "      <td>6</td>\n",
       "      <td>00:00:00</td>\n",
       "      <td>3</td>\n",
       "      <td>Cloudy</td>\n",
       "      <td>46.0</td>\n",
       "      <td>34.0</td>\n",
       "    </tr>\n",
       "    <tr>\n",
       "      <th>6</th>\n",
       "      <td>34.0</td>\n",
       "      <td>38.869144</td>\n",
       "      <td>-77.132532</td>\n",
       "      <td>Member</td>\n",
       "      <td>1</td>\n",
       "      <td>0</td>\n",
       "      <td>6</td>\n",
       "      <td>00:00:00</td>\n",
       "      <td>3</td>\n",
       "      <td>Cloudy</td>\n",
       "      <td>46.0</td>\n",
       "      <td>34.0</td>\n",
       "    </tr>\n",
       "    <tr>\n",
       "      <th>7</th>\n",
       "      <td>38.0</td>\n",
       "      <td>38.869144</td>\n",
       "      <td>-77.023956</td>\n",
       "      <td>Member</td>\n",
       "      <td>1</td>\n",
       "      <td>0</td>\n",
       "      <td>6</td>\n",
       "      <td>00:00:00</td>\n",
       "      <td>3</td>\n",
       "      <td>Cloudy</td>\n",
       "      <td>46.0</td>\n",
       "      <td>34.0</td>\n",
       "    </tr>\n",
       "    <tr>\n",
       "      <th>8</th>\n",
       "      <td>39.0</td>\n",
       "      <td>38.869144</td>\n",
       "      <td>-77.002241</td>\n",
       "      <td>Member</td>\n",
       "      <td>2</td>\n",
       "      <td>0</td>\n",
       "      <td>6</td>\n",
       "      <td>00:00:00</td>\n",
       "      <td>3</td>\n",
       "      <td>Cloudy</td>\n",
       "      <td>46.0</td>\n",
       "      <td>34.0</td>\n",
       "    </tr>\n",
       "    <tr>\n",
       "      <th>9</th>\n",
       "      <td>46.0</td>\n",
       "      <td>38.882879</td>\n",
       "      <td>-77.089102</td>\n",
       "      <td>Member</td>\n",
       "      <td>3</td>\n",
       "      <td>0</td>\n",
       "      <td>6</td>\n",
       "      <td>00:00:00</td>\n",
       "      <td>3</td>\n",
       "      <td>Cloudy</td>\n",
       "      <td>46.0</td>\n",
       "      <td>34.0</td>\n",
       "    </tr>\n",
       "    <tr>\n",
       "      <th>10</th>\n",
       "      <td>48.0</td>\n",
       "      <td>38.882879</td>\n",
       "      <td>-77.045672</td>\n",
       "      <td>Member</td>\n",
       "      <td>1</td>\n",
       "      <td>0</td>\n",
       "      <td>6</td>\n",
       "      <td>00:00:00</td>\n",
       "      <td>3</td>\n",
       "      <td>Cloudy</td>\n",
       "      <td>46.0</td>\n",
       "      <td>34.0</td>\n",
       "    </tr>\n",
       "    <tr>\n",
       "      <th>11</th>\n",
       "      <td>49.0</td>\n",
       "      <td>38.882879</td>\n",
       "      <td>-77.023956</td>\n",
       "      <td>Member</td>\n",
       "      <td>2</td>\n",
       "      <td>0</td>\n",
       "      <td>6</td>\n",
       "      <td>00:00:00</td>\n",
       "      <td>3</td>\n",
       "      <td>Cloudy</td>\n",
       "      <td>46.0</td>\n",
       "      <td>34.0</td>\n",
       "    </tr>\n",
       "    <tr>\n",
       "      <th>12</th>\n",
       "      <td>50.0</td>\n",
       "      <td>38.882879</td>\n",
       "      <td>-77.002241</td>\n",
       "      <td>Member</td>\n",
       "      <td>7</td>\n",
       "      <td>0</td>\n",
       "      <td>6</td>\n",
       "      <td>00:00:00</td>\n",
       "      <td>3</td>\n",
       "      <td>Cloudy</td>\n",
       "      <td>46.0</td>\n",
       "      <td>34.0</td>\n",
       "    </tr>\n",
       "    <tr>\n",
       "      <th>13</th>\n",
       "      <td>58.0</td>\n",
       "      <td>38.896614</td>\n",
       "      <td>-77.067387</td>\n",
       "      <td>Member</td>\n",
       "      <td>6</td>\n",
       "      <td>0</td>\n",
       "      <td>6</td>\n",
       "      <td>00:00:00</td>\n",
       "      <td>3</td>\n",
       "      <td>Cloudy</td>\n",
       "      <td>46.0</td>\n",
       "      <td>34.0</td>\n",
       "    </tr>\n",
       "    <tr>\n",
       "      <th>14</th>\n",
       "      <td>59.0</td>\n",
       "      <td>38.896614</td>\n",
       "      <td>-77.045672</td>\n",
       "      <td>Casual</td>\n",
       "      <td>2</td>\n",
       "      <td>0</td>\n",
       "      <td>6</td>\n",
       "      <td>00:00:00</td>\n",
       "      <td>3</td>\n",
       "      <td>Cloudy</td>\n",
       "      <td>46.0</td>\n",
       "      <td>34.0</td>\n",
       "    </tr>\n",
       "  </tbody>\n",
       "</table>\n",
       "</div>"
      ],
      "text/plain": [
       "    station_id        lat        lon Member type  pickups  holiday  weekday  \\\n",
       "0         11.0  38.827940 -77.110817      Member        1        0        6   \n",
       "1         13.0  38.827940 -77.067387      Member        1        0        6   \n",
       "2         24.0  38.855410 -77.089102      Member        1        0        6   \n",
       "3         25.0  38.855410 -77.067387      Casual        1        0        6   \n",
       "4         25.0  38.855410 -77.067387      Member        2        0        6   \n",
       "5         27.0  38.855410 -77.002241      Casual        1        0        6   \n",
       "6         34.0  38.869144 -77.132532      Member        1        0        6   \n",
       "7         38.0  38.869144 -77.023956      Member        1        0        6   \n",
       "8         39.0  38.869144 -77.002241      Member        2        0        6   \n",
       "9         46.0  38.882879 -77.089102      Member        3        0        6   \n",
       "10        48.0  38.882879 -77.045672      Member        1        0        6   \n",
       "11        49.0  38.882879 -77.023956      Member        2        0        6   \n",
       "12        50.0  38.882879 -77.002241      Member        7        0        6   \n",
       "13        58.0  38.896614 -77.067387      Member        6        0        6   \n",
       "14        59.0  38.896614 -77.045672      Casual        2        0        6   \n",
       "\n",
       "        time  month weather  temperature  humidity  \n",
       "0   00:00:00      3  Cloudy         46.0      34.0  \n",
       "1   00:00:00      3  Cloudy         46.0      34.0  \n",
       "2   00:00:00      3  Cloudy         46.0      34.0  \n",
       "3   00:00:00      3  Cloudy         46.0      34.0  \n",
       "4   00:00:00      3  Cloudy         46.0      34.0  \n",
       "5   00:00:00      3  Cloudy         46.0      34.0  \n",
       "6   00:00:00      3  Cloudy         46.0      34.0  \n",
       "7   00:00:00      3  Cloudy         46.0      34.0  \n",
       "8   00:00:00      3  Cloudy         46.0      34.0  \n",
       "9   00:00:00      3  Cloudy         46.0      34.0  \n",
       "10  00:00:00      3  Cloudy         46.0      34.0  \n",
       "11  00:00:00      3  Cloudy         46.0      34.0  \n",
       "12  00:00:00      3  Cloudy         46.0      34.0  \n",
       "13  00:00:00      3  Cloudy         46.0      34.0  \n",
       "14  00:00:00      3  Cloudy         46.0      34.0  "
      ]
     },
     "execution_count": 164,
     "metadata": {},
     "output_type": "execute_result"
    }
   ],
   "source": [
    "pickups.head(15)"
   ]
  },
  {
   "cell_type": "markdown",
   "metadata": {},
   "source": [
    "This dataframe above is the most minimal version of what we will have as the input of the decision trees. \n",
    "\n",
    "- station_id: identifier (here I used the grid-ids, the \"combined stations\")\n",
    "- lat/lon: location of the station, here one-to-one mapping\n",
    "\n",
    "other variables that will be usefull for the decision tree:\n",
    "- timeframe: We should think about how to represent the timeframe better, here I just used the end-time. \n",
    "- weekday/weekend: either 0-1 (two categories) or 0-6 (each day)\n",
    "- holiday: 0-1\n",
    "- season: 0-3 (4 seasons), or 0-11 (12 months)?\n",
    "- weather: sunny, rainy, windy, snowy, cold ... I really think we should put in some effort to get data. It should not take too long once we've found a nice dataset\n",
    "- inner-/outer city: maybe we don't need it because it is already somehow captured in the location (lat/lon). Will have high correlation with this one\n",
    "- how many other stations in cluster: No idea if it's important, but I guess it has some relevance.\n",
    "- ... please complete\n",
    "- type of customer (member or casual), it really makes a difference!\n",
    "\n",
    "target variable:\n",
    "- pickups: how many bikes got picked up at the station. Integers or integer-ranges?"
   ]
  },
  {
   "cell_type": "code",
   "execution_count": 88,
   "metadata": {},
   "outputs": [],
   "source": [
    "# logarithmic value to see the distribution better in the color scheme\n",
    "pickups['log_pickups'] = np.log(pickups.pickups) "
   ]
  },
  {
   "cell_type": "code",
   "execution_count": 89,
   "metadata": {},
   "outputs": [
    {
     "data": {
      "text/plain": [
       "<matplotlib.colorbar.Colorbar at 0x7faa19847ef0>"
      ]
     },
     "execution_count": 89,
     "metadata": {},
     "output_type": "execute_result"
    },
    {
     "data": {
      "image/png": "[encoded data removed]",
      "text/plain": [
       "<Figure size 432x288 with 2 Axes>"
      ]
     },
     "metadata": {
      "needs_background": "light"
     },
     "output_type": "display_data"
    }
   ],
   "source": [
    "plt.scatter(pickups.lat, pickups.lon, marker='.', c=pickups.log_pickups, cmap='viridis')\n",
    "plt.colorbar()"
   ]
  },
  {
   "cell_type": "code",
   "execution_count": null,
   "metadata": {},
   "outputs": [],
   "source": []
  },
  {
   "cell_type": "markdown",
   "metadata": {},
   "source": [
    "# What is next:\n",
    "\n",
    "### Data:\n",
    "- Data collection (trip data, stations, weather, holiday (bank-)...)\n",
    "- more data cleaning and feature engineering, find more features\n",
    "- split data for cross validation (leave out part for prediction of the trees and for training of the NNet/combination of trees)\n",
    "\n",
    "### AI-Part:\n",
    "#### Build trees\n",
    "- code for decision tree with Entropy/Information Gain\n",
    "- code for decision tree with random split\n",
    "- random forest trees (where one variable is left out)\n",
    "- other ways of building trees\n",
    "\n",
    "#### Combine trees:\n",
    "- uniformly\n",
    "- with fancy Neural Nets\n",
    "- something like AdaBoost\n",
    "\n",
    "### Visualization\n",
    "- demand on map\n",
    "- time moving map?\n",
    "- real-time prediction?\n",
    "\n"
   ]
  },
  {
   "cell_type": "code",
   "execution_count": null,
   "metadata": {},
   "outputs": [],
   "source": []
  }
 ],
 "metadata": {
  "kernelspec": {
   "display_name": "Python 3",
   "language": "python",
   "name": "python3"
  },
  "language_info": {
   "codemirror_mode": {
    "name": "ipython",
    "version": 3
   },
   "file_extension": ".py",
   "mimetype": "text/x-python",
   "name": "python",
   "nbconvert_exporter": "python",
   "pygments_lexer": "ipython3",
   "version": "3.5.2"
  }
 },
 "nbformat": 4,
 "nbformat_minor": 2
}
